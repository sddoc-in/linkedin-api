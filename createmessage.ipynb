{
 "cells": [
  {
   "cell_type": "code",
   "execution_count": 2,
   "metadata": {},
   "outputs": [
    {
     "data": {
      "text/plain": [
       "'CSRF check failed.'"
      ]
     },
     "execution_count": 2,
     "metadata": {},
     "output_type": "execute_result"
    }
   ],
   "source": [
    "import requests\n",
    "\n",
    "headers = {\n",
    "    'authority': 'www.linkedin.com',\n",
    "    'accept': 'application/json',\n",
    "    'accept-language': 'en-GB,en-US;q=0.9,en;q=0.8,hi;q=0.7',\n",
    "    'content-type': 'text/plain;charset=UTF-8',\n",
    "    'dnt': '1',\n",
    "    'origin': 'https://www.linkedin.com',\n",
    "    'referer': 'https://www.linkedin.com/mynetwork/invite-connect/connections/',\n",
    "    'sec-ch-ua': '\"Not A(Brand\";v=\"99\", \"Google Chrome\";v=\"121\", \"Chromium\";v=\"121\"',\n",
    "    'sec-ch-ua-mobile': '?0',\n",
    "    'sec-ch-ua-platform': '\"Windows\"',\n",
    "    'sec-fetch-dest': 'empty',\n",
    "    'sec-fetch-mode': 'cors',\n",
    "    'sec-fetch-site': 'same-origin',\n",
    "    'user-agent': 'Mozilla/5.0 (Windows NT 10.0; Win64; x64) AppleWebKit/537.36 (KHTML, like Gecko) Chrome/121.0.0.0 Safari/537.36',\n",
    "    'x-li-lang': 'en_US',\n",
    "    'x-li-page-instance': 'urn:li:page:d_flagship3_people_connections;404CxRXlROGNCsSsR7o1LQ==',\n",
    "    'x-li-track': '{\"clientVersion\":\"1.13.11248\",\"mpVersion\":\"1.13.11248\",\"osName\":\"web\",\"timezoneOffset\":5.5,\"timezone\":\"Asia/Calcutta\",\"deviceFormFactor\":\"DESKTOP\",\"mpName\":\"voyager-web\",\"displayDensity\":1.25,\"displayWidth\":1920,\"displayHeight\":1080}',\n",
    "    'x-restli-protocol-version': '2.0.0',\n",
    "}\n",
    "\n",
    "params = {\n",
    "    'action': 'createMessage',\n",
    "}\n",
    "\n",
    "data = '{\"message\":{\"body\":{\"attributes\":[],\"text\":\"hii\"},\"renderContentUnions\":[],\"conversationUrn\":\"urn:li:msg_conversation:(urn:li:fsd_profile:ACoAAC8lyf4B7se_hum6NpdHgLF05mvVXZXHC4Q,2-YWMyOWY2OGUtNjdhZC00ZjhhLTljM2ItMTM3YjlhNDcyYjAwXzAxMA==)\",\"originToken\":\"af612879-1ccc-4b78-a73f-84d176e0ad9d\"},\"mailboxUrn\":\"urn:li:fsd_profile:ACoAAC8lyf4B7se_hum6NpdHgLF05mvVXZXHC4Q\",\"trackingId\":\"¯a(y\\\\u001cÌKx§?\\x84Ñvà\\xad\\x9d\",\"dedupeByClientGeneratedToken\":false}'.encode()\n",
    "\n",
    "response = requests.post(\n",
    "    'https://www.linkedin.com/voyager/api/voyagerMessagingDashMessengerMessages',\n",
    "    params=params,\n",
    "    headers=headers,\n",
    "    data=data,\n",
    ")\n",
    "response.text"
   ]
  },
  {
   "cell_type": "code",
   "execution_count": null,
   "metadata": {},
   "outputs": [],
   "source": []
  }
 ],
 "metadata": {
  "kernelspec": {
   "display_name": "Python 3",
   "language": "python",
   "name": "python3"
  },
  "language_info": {
   "codemirror_mode": {
    "name": "ipython",
    "version": 3
   },
   "file_extension": ".py",
   "mimetype": "text/x-python",
   "name": "python",
   "nbconvert_exporter": "python",
   "pygments_lexer": "ipython3",
   "version": "3.11.7"
  }
 },
 "nbformat": 4,
 "nbformat_minor": 2
}
