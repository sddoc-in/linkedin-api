{
 "cells": [
  {
   "cell_type": "code",
   "execution_count": 21,
   "metadata": {},
   "outputs": [],
   "source": [
    "from selenium import webdriver\n",
    "from selenium.webdriver.common.keys import Keys\n",
    "from selenium.webdriver.common.by import By\n",
    "from selenium.webdriver.chrome.options import Options\n",
    "from selenium.webdriver.support.ui import WebDriverWait\n",
    "from selenium.webdriver.support import expected_conditions as EC\n",
    "import time    \n",
    "from bs4 import BeautifulSoup"
   ]
  },
  {
   "cell_type": "code",
   "execution_count": 22,
   "metadata": {},
   "outputs": [],
   "source": [
    "def openBrowser():\n",
    "    global driver\n",
    "    options = Options()\n",
    "    #options.add_argument(\"--headless\")\n",
    "    options.add_argument(\"--disable-gpu\")\n",
    "    options.add_argument(\"--no-sandbox\")\n",
    "    options.add_argument(\"--disable-dev-shm-usage\")\n",
    "    options.add_argument(\"--disable-extensions\")\n",
    "    options.add_argument(\"--disable-software-rasterizer\")\n",
    "    driver = webdriver.Chrome(options=options)\n",
    "    driver.set_window_size(1920, 1080)\n",
    "    driver.maximize_window()"
   ]
  },
  {
   "cell_type": "code",
   "execution_count": 20,
   "metadata": {},
   "outputs": [],
   "source": [
    "openBrowser()"
   ]
  },
  {
   "cell_type": "code",
   "execution_count": 12,
   "metadata": {},
   "outputs": [
    {
     "ename": "TypeError",
     "evalue": "WebDriver.__init__() got an unexpected keyword argument 'desired_capabilities'",
     "output_type": "error",
     "traceback": [
      "\u001b[1;31m---------------------------------------------------------------------------\u001b[0m",
      "\u001b[1;31mTypeError\u001b[0m                                 Traceback (most recent call last)",
      "Cell \u001b[1;32mIn[12], line 8\u001b[0m\n\u001b[0;32m      6\u001b[0m capabilities \u001b[38;5;241m=\u001b[39m options\u001b[38;5;241m.\u001b[39mto_capabilities()\n\u001b[0;32m      7\u001b[0m \u001b[38;5;66;03m# Create a new WebDriver instance with the existing session ID\u001b[39;00m\n\u001b[1;32m----> 8\u001b[0m driver \u001b[38;5;241m=\u001b[39m \u001b[43mwebdriver\u001b[49m\u001b[38;5;241;43m.\u001b[39;49m\u001b[43mRemote\u001b[49m\u001b[43m(\u001b[49m\u001b[43mcommand_executor\u001b[49m\u001b[38;5;241;43m=\u001b[39;49m\u001b[43mexecutor_url\u001b[49m\u001b[43m,\u001b[49m\u001b[43m \u001b[49m\u001b[43mdesired_capabilities\u001b[49m\u001b[38;5;241;43m=\u001b[39;49m\u001b[43mcapabilities\u001b[49m\u001b[43m)\u001b[49m\n\u001b[0;32m      9\u001b[0m driver\u001b[38;5;241m.\u001b[39msession_id \u001b[38;5;241m=\u001b[39m existing_session_id\n",
      "\u001b[1;31mTypeError\u001b[0m: WebDriver.__init__() got an unexpected keyword argument 'desired_capabilities'"
     ]
    }
   ],
   "source": [
    "existing_session_id = \"30b2addb4fe64cfaf9468f635ead1081\"\n",
    "\n",
    "# Assuming your Selenium server is running locally, adjust the URL accordingly\n",
    "options = Options()\n",
    "executor_url = \"http://localhost:4444/wd/hub\"\n",
    "capabilities = options.to_capabilities()\n",
    "# Create a new WebDriver instance with the existing session ID\n",
    "driver = webdriver.Remote(command_executor=executor_url, desired_capabilities=capabilities)\n",
    "driver.session_id = existing_session_id"
   ]
  },
  {
   "cell_type": "code",
   "execution_count": 16,
   "metadata": {},
   "outputs": [],
   "source": [
    "cookie = driver.get_cookies"
   ]
  },
  {
   "cell_type": "code",
   "execution_count": 5,
   "metadata": {},
   "outputs": [],
   "source": [
    "def LinekdinLogin(email, password):\n",
    "    driver.get(\"https://www.linkedin.com/login\")\n",
    "    driver.find_element(By.XPATH, \"*//input[@id = 'username']\").send_keys(email)\n",
    "    driver.find_element(By.XPATH, \"*//input[@id = 'password']\").send_keys(password)\n",
    "    driver.find_element(By.XPATH, \"*//button[@aria-label= 'Sign in']\").click()"
   ]
  },
  {
   "cell_type": "code",
   "execution_count": 6,
   "metadata": {},
   "outputs": [],
   "source": [
    "email = \"rohit45deepak@gmail.com\"\n",
    "password = \"@Darakhsha01\"\n",
    "LinekdinLogin(email, password)\n"
   ]
  },
  {
   "cell_type": "code",
   "execution_count": 49,
   "metadata": {},
   "outputs": [],
   "source": [
    "codeFlag = False\n",
    "try :\n",
    "    h1 = driver.find_element(By.XPATH, \"*//h1[@class = 'content__header']\").text\n",
    "    if \"verification\" in h1:\n",
    "        codeFlag = True        \n",
    "except:\n",
    "    codeFlag = False"
   ]
  },
  {
   "cell_type": "code",
   "execution_count": 65,
   "metadata": {},
   "outputs": [],
   "source": [
    "async def getverificationCodeStatus():\n",
    "    codeFlag = False\n",
    "    try :\n",
    "        h1 = driver.find_element(By.XPATH, \"*//h1[@class = 'content__header']\").text\n",
    "        if \"verification\" in h1:\n",
    "            codeFlag = True        \n",
    "    except:\n",
    "        codeFlag = False\n",
    "    return codeFlag"
   ]
  },
  {
   "cell_type": "code",
   "execution_count": 66,
   "metadata": {},
   "outputs": [
    {
     "name": "stdout",
     "output_type": "stream",
     "text": [
      "False\n"
     ]
    }
   ],
   "source": [
    "print(await getverificationCodeStatus())"
   ]
  },
  {
   "cell_type": "code",
   "execution_count": 16,
   "metadata": {},
   "outputs": [],
   "source": [
    "def verifyCode(code):\n",
    "    driver.find_element(By.XPATH, \"*//input[@placeholder = 'Enter code']\").send_keys(code)\n",
    "    driver.find_element(By.XPATH, \"//button[normalize-space()='Submit']\").click()"
   ]
  },
  {
   "cell_type": "code",
   "execution_count": 17,
   "metadata": {},
   "outputs": [],
   "source": [
    "code = \"987707\"\n",
    "if codeFlag:\n",
    "    verifyCode(code)\n",
    "    "
   ]
  },
  {
   "cell_type": "code",
   "execution_count": 30,
   "metadata": {},
   "outputs": [
    {
     "name": "stdout",
     "output_type": "stream",
     "text": [
      "Let's do a quick verification\n"
     ]
    }
   ],
   "source": [
    "print(h1)"
   ]
  },
  {
   "cell_type": "code",
   "execution_count": 52,
   "metadata": {},
   "outputs": [],
   "source": [
    "driver.get(\"https://www.linkedin.com/mynetwork/invite-connect/connections/\")"
   ]
  },
  {
   "cell_type": "code",
   "execution_count": 9,
   "metadata": {},
   "outputs": [],
   "source": [
    "# Assuming 'driver' is your WebDriver instance\n",
    "cookies = driver.get_cookies()"
   ]
  },
  {
   "cell_type": "code",
   "execution_count": 43,
   "metadata": {},
   "outputs": [
    {
     "name": "stdout",
     "output_type": "stream",
     "text": [
      "[{'domain': '.linkedin.com', 'httpOnly': True, 'name': 'fptctx2', 'path': '/', 'sameSite': 'Lax', 'secure': True, 'value': 'taBcrIH61PuCVH7eNCyH0B9zcK90d%252bIeoo1r5v7Zc27davSObG6mgybYoMUZEBxPHJs13ulsEYwqWbAdBjoryWp70fIBLNbxXaqh2Aqj0IUaPiAXdrommeMaAJ%252btgkc%252b%252fVssMrJjVUZVPwzjqHp9SoN%252ftO6gKHegVCNuJYNOfzUvyM1jvg04lxbXZRrhKxzvL0rqfQJFm8PboORazVjeXPr65qrACLdk9IGgj1rUMOKQ6cZaicj4BLDjf1vU1rrP4tMBRuqDGBl6%252bzI6W8RDi96rONrpK3%252b4fU4QTpkyQgbxm1W84pJRGHhgvqnZIgsdf1IDfGWwMPVemTDDMcF0fgbErGMITDwEDPl0DmF0DKk%253d'}, {'domain': '.linkedin.com', 'expiry': 1741257812, 'httpOnly': True, 'name': 'dfpfpt', 'path': '/', 'sameSite': 'Lax', 'secure': True, 'value': 'e919de72b1f043298e79cc1e77f5c2dc'}, {'domain': '.linkedin.com', 'expiry': 1712313808, 'httpOnly': False, 'name': 'lms_analytics', 'path': '/', 'sameSite': 'None', 'secure': True, 'value': 'AQEFD4g3j7iF2gAAAY4TXG9qB_WOLt12giW_VYB3Gp2NwiNG9YmnrfcleLuy6AK0QHBzk6OboRC8BARHn_yDyR0E2hNovm03'}, {'domain': '.linkedin.com', 'expiry': 1712313808, 'httpOnly': False, 'name': 'UserMatchHistory', 'path': '/', 'sameSite': 'None', 'secure': True, 'value': 'AQJqNgAy3_qD6QAAAY4TXG32_7bnochwvCT23dFpirwTIg5OfeWPbOzNb7NZs8iVohFd7Zs1zdm5Qg4A_3HX-zqKJzX9NZ3KGUqSTn3CSSHxZ1iIMn7mDx5y4Q99BdlTklh9PKspXWcm3dqhZ_n7tQV1mjjvC40BM58SanbSGWQGSxKFzPH3Lpz_ujn_ogAdOmE2fXNL3M4x6k1kas0vQk2jFJgRwco2rCTvAb1NJHHnwZAtnUj3DotWgosSj3VCi3dkVA6ZJFkIh34S2hry3mQwf9r9BLvvW1BLvTKpZRz2d9ygZV1FFVEU365TuFzNtVx4lX8'}, {'domain': '.linkedin.com', 'expiry': 1725273808, 'httpOnly': False, 'name': 'AMCV_14215E3D5995C57C0A495C55%40AdobeOrg', 'path': '/', 'sameSite': 'Lax', 'secure': False, 'value': '-637568504%7CMCIDTS%7C19789%7CMCMID%7C56740481341167166454350098899218424291%7CMCAAMLH-1710326608%7C12%7CMCAAMB-1710326608%7C6G1ynYcLPuiQxYZrsz_pkqfLG9yMXBpb2zX5dvJdYQJzPXImdj0y%7CMCOPTOUT-1709729008s%7CNONE%7CvVersion%7C5.1.1%7CMCCIDH%7C1283093682'}, {'domain': '.linkedin.com', 'expiry': 1717497809, 'httpOnly': False, 'name': '_gcl_au', 'path': '/', 'sameSite': 'Lax', 'secure': False, 'value': '1.1.966659863.1709721809'}, {'domain': '.linkedin.com', 'expiry': 1717497808, 'httpOnly': False, 'name': '_guid', 'path': '/', 'sameSite': 'None', 'secure': True, 'value': 'e6437cc8-5a79-49e0-b58d-53818f1b6699'}, {'domain': '.linkedin.com', 'expiry': 1717497809, 'httpOnly': False, 'name': 'li_sugr', 'path': '/', 'sameSite': 'None', 'secure': True, 'value': '2b1db4d9-da11-4c2f-9de3-812867758249'}, {'domain': '.www.linkedin.com', 'expiry': 1725273806, 'httpOnly': False, 'name': 'li_theme_set', 'path': '/', 'sameSite': 'Lax', 'secure': True, 'value': 'app'}, {'domain': '.linkedin.com', 'expiry': 1741257810, 'httpOnly': False, 'name': 'bcookie', 'path': '/', 'sameSite': 'None', 'secure': True, 'value': '\"v=2&90695b72-73bc-4f4a-8c2c-e3f659c71b19\"'}, {'domain': '.linkedin.com', 'expiry': 1712313808, 'httpOnly': False, 'name': 'aam_uuid', 'path': '/', 'sameSite': 'Lax', 'secure': False, 'value': '56524172544293119184364419984140112424'}, {'domain': '.www.linkedin.com', 'expiry': 1710931406, 'httpOnly': False, 'name': 'timezone', 'path': '/', 'sameSite': 'Lax', 'secure': True, 'value': 'Asia/Calcutta'}, {'domain': '.linkedin.com', 'expiry': 1712313808, 'httpOnly': False, 'name': 'lms_ads', 'path': '/', 'sameSite': 'None', 'secure': True, 'value': 'AQEFD4g3j7iF2gAAAY4TXG9qB_WOLt12giW_VYB3Gp2NwiNG9YmnrfcleLuy6AK0QHBzk6OboRC8BARHn_yDyR0E2hNovm03'}, {'domain': '.linkedin.com', 'expiry': 1712313808, 'httpOnly': False, 'name': 'AnalyticsSyncHistory', 'path': '/', 'sameSite': 'None', 'secure': True, 'value': 'AQLeinaKmHZKKgAAAY4TXG326pQL05t6a0stg-guaRMonVZ9LIm19XhVLThzLUApFEzud4i08e1Kfd6izixylQ'}, {'domain': '.linkedin.com', 'httpOnly': False, 'name': 'AMCVS_14215E3D5995C57C0A495C55%40AdobeOrg', 'path': '/', 'sameSite': 'Lax', 'secure': False, 'value': '1'}, {'domain': '.www.linkedin.com', 'expiry': 1741257803, 'httpOnly': True, 'name': 'li_rm', 'path': '/', 'sameSite': 'None', 'secure': True, 'value': 'AQEe8Ye83Di-WgAAAY4TW6b6XZ7hmbXOv6kL3QsP4hxwvFN_IRRFAK3_-6ropq64B3FTWgmeSEhkysEJNNmo69mQcPip5iLHj-Y8xgkD432yZlSWg17uW9Oe'}, {'domain': '.www.linkedin.com', 'expiry': 1741257803, 'httpOnly': True, 'name': 'li_at', 'path': '/', 'sameSite': 'None', 'secure': True, 'value': 'AQEDAUxKrsUCxzNmAAABjhNcWagAAAGON2jdqE4AkFMtxmaQTOv34U5GT_Yqb7Y4ffKcBNCJ2wti_h6sEIRj1rme1Za1w3Fk1YERyAMjBrELZlrmCPIzs6EVBgLvbcjazuNAgaXuIGHyAnzJ9DFH4gAn'}, {'domain': '.linkedin.com', 'expiry': 1709804233, 'httpOnly': False, 'name': 'lidc', 'path': '/', 'sameSite': 'None', 'secure': True, 'value': '\"b=OB21:s=O:r=O:a=O:p=O:g=5077:u=2:x=1:i=1709721809:t=1709804232:v=2:sig=AQG_Y4VnknabjjMTRZImEyMt5plRlnka\"'}, {'domain': '.www.linkedin.com', 'expiry': 1717497803, 'httpOnly': False, 'name': 'JSESSIONID', 'path': '/', 'sameSite': 'None', 'secure': True, 'value': '\"ajax:4451868272669645587\"'}, {'domain': '.www.linkedin.com', 'expiry': 1741257808, 'httpOnly': True, 'name': 'bscookie', 'path': '/', 'sameSite': 'None', 'secure': True, 'value': '\"v=1&202403061042372ec2c336-84ae-4e6a-803e-72d67d55b609AQFWPoxbxYe90UM2SgNihN8XWvvh9eUe\"'}, {'domain': '.www.linkedin.com', 'expiry': 1725273806, 'httpOnly': False, 'name': 'li_theme', 'path': '/', 'sameSite': 'Lax', 'secure': True, 'value': 'light'}, {'domain': '.linkedin.com', 'httpOnly': False, 'name': 'lang', 'path': '/', 'sameSite': 'None', 'secure': True, 'value': 'v=2&lang=en-us'}, {'domain': '.linkedin.com', 'expiry': 1717497803, 'httpOnly': False, 'name': 'liap', 'path': '/', 'sameSite': 'None', 'secure': True, 'value': 'true'}]\n"
     ]
    }
   ],
   "source": [
    "print(cookies)"
   ]
  },
  {
   "cell_type": "code",
   "execution_count": 44,
   "metadata": {},
   "outputs": [],
   "source": [
    "driver.quit()"
   ]
  },
  {
   "cell_type": "code",
   "execution_count": 17,
   "metadata": {},
   "outputs": [],
   "source": [
    "def openBrowserUserCookies(cookies):\n",
    "    global driver\n",
    "    options = Options()\n",
    "    # options.add_argument(\"--headless\")\n",
    "    options.add_argument(\"--disable-gpu\")\n",
    "    options.add_argument(\"--no-sandbox\")\n",
    "    options.add_argument(\"--disable-dev-shm-usage\")\n",
    "    options.add_argument(\"--disable-extensions\")\n",
    "    options.add_argument(\"--disable-software-rasterizer\")\n",
    "    driver = webdriver.Chrome(options=options)\n",
    "    driver.maximize_window()\n",
    "    driver.get(\"https://www.linkedin.com\")\n",
    "    for cookie in cookies:\n",
    "        driver.add_cookie(cookie)\n",
    "    driver.get(\"https://www.linkedin.com\")"
   ]
  },
  {
   "cell_type": "code",
   "execution_count": 19,
   "metadata": {},
   "outputs": [
    {
     "ename": "TypeError",
     "evalue": "'method' object is not iterable",
     "output_type": "error",
     "traceback": [
      "\u001b[1;31m---------------------------------------------------------------------------\u001b[0m",
      "\u001b[1;31mTypeError\u001b[0m                                 Traceback (most recent call last)",
      "Cell \u001b[1;32mIn[19], line 1\u001b[0m\n\u001b[1;32m----> 1\u001b[0m \u001b[43mopenBrowserUserCookies\u001b[49m\u001b[43m(\u001b[49m\u001b[43mcookie\u001b[49m\u001b[43m)\u001b[49m\n",
      "Cell \u001b[1;32mIn[17], line 13\u001b[0m, in \u001b[0;36mopenBrowserUserCookies\u001b[1;34m(cookies)\u001b[0m\n\u001b[0;32m     11\u001b[0m driver\u001b[38;5;241m.\u001b[39mmaximize_window()\n\u001b[0;32m     12\u001b[0m driver\u001b[38;5;241m.\u001b[39mget(\u001b[38;5;124m\"\u001b[39m\u001b[38;5;124mhttps://www.linkedin.com\u001b[39m\u001b[38;5;124m\"\u001b[39m)\n\u001b[1;32m---> 13\u001b[0m \u001b[43m\u001b[49m\u001b[38;5;28;43;01mfor\u001b[39;49;00m\u001b[43m \u001b[49m\u001b[43mcookie\u001b[49m\u001b[43m \u001b[49m\u001b[38;5;129;43;01min\u001b[39;49;00m\u001b[43m \u001b[49m\u001b[43mcookies\u001b[49m\u001b[43m:\u001b[49m\n\u001b[0;32m     14\u001b[0m \u001b[43m    \u001b[49m\u001b[43mdriver\u001b[49m\u001b[38;5;241;43m.\u001b[39;49m\u001b[43madd_cookie\u001b[49m\u001b[43m(\u001b[49m\u001b[43mcookie\u001b[49m\u001b[43m)\u001b[49m\n\u001b[0;32m     15\u001b[0m driver\u001b[38;5;241m.\u001b[39mget(\u001b[38;5;124m\"\u001b[39m\u001b[38;5;124mhttps://www.linkedin.com\u001b[39m\u001b[38;5;124m\"\u001b[39m)\n",
      "\u001b[1;31mTypeError\u001b[0m: 'method' object is not iterable"
     ]
    }
   ],
   "source": [
    "openBrowserUserCookies(cookie)"
   ]
  },
  {
   "cell_type": "code",
   "execution_count": 69,
   "metadata": {},
   "outputs": [],
   "source": [
    "serachName = \"Python developer\"\n",
    "titleKeyword = \"Software Engineer\"\n",
    "location = \"India\"\n",
    "connectionType = ['F', 'S', 'O']\n",
    "company = \"Accenture\"\n",
    "\n",
    "def doSearch(serachName, titleKeyword, location, connectionType, company):\n",
    "    driver.get(\"https://www.linkedin.com/feed/\")\n",
    "    WebDriverWait(driver, 10).until(EC.presence_of_element_located((By.XPATH, \"*//input[@placeholder='Search']\"))).send_keys(serachName)\n",
    "    WebDriverWait(driver, 10).until(EC.presence_of_element_located((By.XPATH, \"*//input[@placeholder='Search']\"))).send_keys(Keys.ENTER)\n",
    "    # driver.find_element(By.XPATH, \"*//input[@placeholder='Search']\").send_keys(serachName)\n",
    "    # driver.find_element(By.XPATH, \"*//input[@placeholder='Search']\").send_keys(Keys.ENTER)\n",
    "    WebDriverWait(driver, 10).until(EC.presence_of_element_located((By.XPATH, \"(*//button[normalize-space()='People'])[1]\"))).click()\n",
    "    WebDriverWait(driver, 10).until(EC.presence_of_element_located((By.XPATH, \"*//button[normalize-space()='All filters']\"))).click()\n",
    "    # driver.find_element(By.XPATH, \"*//button[normalize-space()='All filters']\").click()\n",
    "    if connectionType:\n",
    "        for i in connectionType:\n",
    "            WebDriverWait(driver, 10).until(EC.presence_of_element_located((By.XPATH, f\"*//label[@for = 'advanced-filter-network-{i}']\"))).click()\n",
    "            # driver.find_element(By.XPATH, f\"*//label[@for = 'advanced-filter-network-{i}']\").click()\n",
    "    \n",
    "    if location:\n",
    "        WebDriverWait(driver, 10).until(EC.presence_of_element_located((By.XPATH, \"*//button[normalize-space()='Add a location']\"))).click()\n",
    "        # driver.find_element(By.XPATH, \"*//button[normalize-space()='Add a location']\").click()\n",
    "        WebDriverWait(driver, 10).until(EC.presence_of_element_located((By.XPATH, \"*//input[@placeholder = 'Add a location']\"))).send_keys(location)\n",
    "        # driver.find_element(By.XPATH, \"*//input[@placeholder = 'Add a location']\").send_keys(location)\n",
    "        time.sleep(2)\n",
    "        WebDriverWait(driver, 10).until(EC.presence_of_element_located((By.XPATH, \"*//input[@placeholder = 'Add a location']\"))).send_keys(Keys.ARROW_DOWN)\n",
    "        # driver.find_element(By.XPATH, \"*//input[@placeholder = 'Add a location']\").send_keys(Keys.ARROW_DOWN)\n",
    "        WebDriverWait(driver, 10).until(EC.presence_of_element_located((By.XPATH, \"*//input[@placeholder = 'Add a location']\"))).send_keys(Keys.ENTER)\n",
    "        # driver.find_element(By.XPATH, \"*//input[@placeholder = 'Add a location']\").send_keys(Keys.ENTER)\n",
    "    if titleKeyword:\n",
    "        WebDriverWait(driver, 10).until(EC.presence_of_element_located((By.XPATH, \"*//label[normalize-space()= 'Title']/input\"))).send_keys(titleKeyword)\n",
    "        # driver.find_element(By.XPATH, \"*//label[normalize-space()= 'Title']/input\").send_keys(titleKeyword)\n",
    "    if company:\n",
    "        WebDriverWait(driver, 10).until(EC.presence_of_element_located((By.XPATH, \"*//label[normalize-space()= 'Company']/input\"))).send_keys(company)\n",
    "        # driver.find_element(By.XPATH, \"*//label[normalize-space()= 'Company']/input\").send_keys(company)\n",
    "    WebDriverWait(driver, 10).until(EC.presence_of_element_located((By.XPATH, \"(*//button[normalize-space()='Show results'])[1]\"))).click()\n",
    "    # driver.find_element(By.XPATH, \"(*//button[normalize-space()='Show results'])[1]\").click()\n",
    "    \n"
   ]
  },
  {
   "cell_type": "code",
   "execution_count": 78,
   "metadata": {},
   "outputs": [],
   "source": [
    "doSearch(serachName, titleKeyword, location, connectionType, company)"
   ]
  },
  {
   "cell_type": "code",
   "execution_count": 99,
   "metadata": {},
   "outputs": [],
   "source": [
    "driver.find_element(By.XPATH, \"*//button[normalize-space()='All filters']\").click()"
   ]
  },
  {
   "cell_type": "code",
   "execution_count": 100,
   "metadata": {},
   "outputs": [],
   "source": [
    "if connectionType:\n",
    "    for i in connectionType:\n",
    "        driver.find_element(By.XPATH, f\"*//label[@for = 'advanced-filter-network-{i}']\").click()\n",
    "   \n",
    "if location:\n",
    "    driver.find_element(By.XPATH, \"*//button[normalize-space()='Add a location']\").click()\n",
    "    driver.find_element(By.XPATH, \"*//input[@placeholder = 'Add a location']\").send_keys(location)\n",
    "    time.sleep(3)\n",
    "    driver.find_element(By.XPATH, \"*//input[@placeholder = 'Add a location']\").send_keys(Keys.ARROW_DOWN)\n",
    "    driver.find_element(By.XPATH, \"*//input[@placeholder = 'Add a location']\").send_keys(Keys.ENTER)\n",
    "if titleKeyword:\n",
    "    driver.find_element(By.XPATH, \"*//label[normalize-space()= 'Title']/input\").send_keys(titleKeyword)\n",
    "\n",
    "if company:\n",
    "    driver.find_element(By.XPATH, \"*//label[normalize-space()= 'Company']/input\").send_keys(company)"
   ]
  },
  {
   "cell_type": "code",
   "execution_count": 106,
   "metadata": {},
   "outputs": [],
   "source": [
    "driver.find_element(By.XPATH, \"(*//button[normalize-space()='Show results'])[1]\").click()"
   ]
  },
  {
   "cell_type": "code",
   "execution_count": 22,
   "metadata": {},
   "outputs": [],
   "source": [
    "findResultList = WebDriverWait(driver, 10).until(EC.presence_of_all_elements_located((By.XPATH, \"*//li[@class='reusable-search__result-container']\")))"
   ]
  },
  {
   "cell_type": "code",
   "execution_count": 23,
   "metadata": {},
   "outputs": [
    {
     "name": "stdout",
     "output_type": "stream",
     "text": [
      "Yash Jha https://www.linkedin.com/in/yash-jha-0099?miniProfileUrn=urn%3Ali%3Afs_miniProfile%3AACoAACfjDTwB_laxZlsEn3jxmS1oQiZ_yGl5XEE Software engineer @Accenture Bengaluru\n",
      "Yash Saxena https://www.linkedin.com/in/yash-saxena-ab9ba21b5?miniProfileUrn=urn%3Ali%3Afs_miniProfile%3AACoAADIwEa0BfYoWUiXy3Y79rsI6-huk8fefDGw Associate Software Engineer at Accenture Badaun\n",
      "Yash Vaishnav https://www.linkedin.com/in/yash-vaishnav?miniProfileUrn=urn%3Ali%3Afs_miniProfile%3AACoAACv_IpIBKJPLVY7GxVm54Ltb4dAPgNJv1Ps Full Stack Engineer @Accenture |Java | Spring boot | Vue JS | React JS Developer | AI/ML engineer Bengaluru\n",
      "Yash Parkar https://www.linkedin.com/in/yash-parkar-1a339469?miniProfileUrn=urn%3Ali%3Afs_miniProfile%3AACoAAA546QsBIM9BYhkMWuw4CR9lVlZEkHEYW9E Associate Software Engineer at Accenture Bengaluru\n",
      "Aditya Shukla https://www.linkedin.com/in/aditya-shukla-b2328933?miniProfileUrn=urn%3Ali%3Afs_miniProfile%3AACoAAAb7UwsBuaYWaL8k0mickBXhoEIVtSsCNCg Senior Software Engineer Bengaluru\n",
      "Yash Solanky https://www.linkedin.com/in/yash-solanky?miniProfileUrn=urn%3Ali%3Afs_miniProfile%3AACoAACnZS00BqDVgf-RasVNYFdL4FVnxdSx9lCY Software Engineer @Accenture Bhopal\n",
      "Kubra Fatima https://www.linkedin.com/in/kubra-fatima-0504651b?miniProfileUrn=urn%3Ali%3Afs_miniProfile%3AACoAAAQpJ_wBvI_09KEDh3Qk7b33478jYVwMnrQ Senior Software Engineer at Accenture Hyderabad\n",
      "guntha Kishore kumar https://www.linkedin.com/in/guntha-kishore-kumar-5a1b593b?miniProfileUrn=urn%3Ali%3Afs_miniProfile%3AACoAAAiJCQkBSGZgDZ8uEUqmPgoq7hpPrAg_LBo Software Engineer at Accenture Hyderabad\n",
      "Aditya nalluri https://www.linkedin.com/in/aditya-nalluri-25b5a0121?miniProfileUrn=urn%3Ali%3Afs_miniProfile%3AACoAAB4qN2cB4rnEKDqtgsHofaAioWfTPZaDq_c Senior software engineer at accenture Hyderabad\n",
      "ARUN VAISHNAV https://www.linkedin.com/in/arun-vaishnav-1b4a79124?miniProfileUrn=urn%3Ali%3Afs_miniProfile%3AACoAAB7FLNgBxChj9tlnOANgb8_-7HJ7HRhH6m8 Senior Software Engineer at Accenture Pune\n"
     ]
    }
   ],
   "source": [
    "\n",
    "for result in findResultList:\n",
    "    result_html = result.get_attribute('outerHTML')\n",
    "    soup = BeautifulSoup(result_html, 'html.parser')\n",
    "    Name = soup.find('div', {'class': 't-roman t-sans'}).find('a').find('span').find('span').text\n",
    "    profileLink = soup.find('div', {'class': 't-roman t-sans'}).find('a')['href']\n",
    "    UserTitle = soup.find('div', {'class': 'entity-result__primary-subtitle t-14 t-black t-normal'}).text.strip()\n",
    "    adress = soup.find('div', {'class': 'entity-result__secondary-subtitle t-14 t-normal'}).text.strip()\n",
    "    # WebDriverWait(result, 10).until(EC.presence_of_element_located((By.XPATH, \"*//button[normalize-space()='Connect']\"))).click()\n",
    "    print(Name, profileLink, UserTitle, adress)"
   ]
  },
  {
   "cell_type": "code",
   "execution_count": null,
   "metadata": {},
   "outputs": [],
   "source": []
  },
  {
   "cell_type": "code",
   "execution_count": 1,
   "metadata": {},
   "outputs": [],
   "source": [
    "def getTotalPage():\n",
    "    totalPage = WebDriverWait(driver, 10).until(EC.presence_of_element_located((By.XPATH, \"*//div[@class = 'artdeco-pagination__page-state']\"))).text\n",
    "    return int(totalPage.split('of')[1].strip())"
   ]
  },
  {
   "cell_type": "code",
   "execution_count": 33,
   "metadata": {},
   "outputs": [],
   "source": [
    "def getPageDataConnection():\n",
    "    dataList = []\n",
    "    findResultList = WebDriverWait(driver, 10).until(EC.presence_of_all_elements_located((By.XPATH, \"*//li[@class='reusable-search__result-container']\")))\n",
    "    for result in findResultList:\n",
    "        result_html = result.get_attribute('outerHTML')\n",
    "        soup = BeautifulSoup(result_html, 'html.parser')\n",
    "        Name = soup.find('div', {'class': 't-roman t-sans'}).find('a').find('span').find('span').text\n",
    "        profileLink = soup.find('div', {'class': 't-roman t-sans'}).find('a')['href']\n",
    "        UserTitle = soup.find('div', {'class': 'entity-result__primary-subtitle t-14 t-black t-normal'}).text.strip()\n",
    "        adress = soup.find('div', {'class': 'entity-result__secondary-subtitle t-14 t-normal'}).text.strip()\n",
    "        # WebDriverWait(result, 10).until(EC.presence_of_element_located((By.XPATH, \"*//button[normalize-space()='Connect']\"))).click()\n",
    "        # print(Name, profileLink, UserTitle, adress)\n",
    "        dataList.append({'Name': Name, 'profileLink': profileLink, 'UserTitle': UserTitle, 'adress': adress})\n",
    "    return dataList\n",
    "def getNextPage():\n",
    "    WebDriverWait(driver, 10).until(EC.presence_of_element_located((By.XPATH, \"*//button[@aria-label='Next']\"))).click()\n"
   ]
  },
  {
   "cell_type": "code",
   "execution_count": 44,
   "metadata": {},
   "outputs": [],
   "source": [
    "def sendConnectionRequest(link, message):\n",
    "    driver.get(link)\n",
    "    try:\n",
    "        WebDriverWait(driver, 10).until(EC.presence_of_element_located((By.XPATH, \"*//div[@class='ph5 pb5']//button[normalize-space()='Connect']\"))).click()\n",
    "        WebDriverWait(driver, 10).until(EC.presence_of_element_located((By.XPATH, \"*//button[normalize-space()='Add a note']\"))).click()\n",
    "        WebDriverWait(driver, 10).until(EC.presence_of_element_located((By.XPATH, \"*//textarea[@id='custom-message']\"))).send_keys(message)\n",
    "        WebDriverWait(driver, 10).until(EC.presence_of_element_located((By.XPATH, \"*//button[normalize-space()='Send']\"))).click()\n",
    "    except:\n",
    "        WebDriverWait(driver, 10).until(EC.presence_of_element_located((By.XPATH, \"(*//button[normalize-space()='More'])[2]\"))).click()\n",
    "        WebDriverWait(driver, 10).until(EC.presence_of_element_located((By.XPATH, \"(//div[starts-with(@aria-label, 'Invite')])[2]\"))).click()\n",
    "        WebDriverWait(driver, 10).until(EC.presence_of_element_located((By.XPATH, \"*//button[normalize-space()='Add a note']\"))).click()\n",
    "        WebDriverWait(driver, 10).until(EC.presence_of_element_located((By.XPATH, \"*//textarea[@id='custom-message']\"))).send_keys(message)\n",
    "        WebDriverWait(driver, 10).until(EC.presence_of_element_located((By.XPATH, \"*//button[normalize-space()='Send']\"))).click()\n",
    "            "
   ]
  },
  {
   "cell_type": "code",
   "execution_count": 45,
   "metadata": {},
   "outputs": [],
   "source": [
    "sendConnectionRequest('https://www.linkedin.com/in/arun-vaishnav-1b4a79124/', 'Hello, I am Deepak')"
   ]
  },
  {
   "cell_type": "code",
   "execution_count": 28,
   "metadata": {},
   "outputs": [],
   "source": [
    "WebDriverWait(driver, 10).until(EC.presence_of_element_located((By.XPATH, \"(*//button[normalize-space()='Connect'])[2]\"))).click()\n",
    "WebDriverWait(driver, 10).until(EC.presence_of_element_located((By.XPATH, \"*//button[normalize-space()='Add a note']\"))).click()\n",
    "WebDriverWait(driver, 10).until(EC.presence_of_element_located((By.XPATH, \"*//textarea[@id='custom-message']\"))).send_keys('Hello, I am Deepak')\n",
    "WebDriverWait(driver, 10).until(EC.presence_of_element_located((By.XPATH, \"*//button[normalize-space()='Send']\"))).click()"
   ]
  },
  {
   "cell_type": "code",
   "execution_count": 79,
   "metadata": {},
   "outputs": [],
   "source": [
    "dataList = getPageDataConnection()"
   ]
  },
  {
   "cell_type": "code",
   "execution_count": 80,
   "metadata": {},
   "outputs": [
    {
     "name": "stdout",
     "output_type": "stream",
     "text": [
      "Nikita Sharma\n",
      "Keerthana .\n",
      "Rahul HM\n",
      "Sonal Pahwa\n",
      "Divyansh Sharma\n",
      "Shivcharan Tirkey\n"
     ]
    },
    {
     "ename": "KeyboardInterrupt",
     "evalue": "",
     "output_type": "error",
     "traceback": [
      "\u001b[1;31m---------------------------------------------------------------------------\u001b[0m",
      "\u001b[1;31mTimeoutException\u001b[0m                          Traceback (most recent call last)",
      "Cell \u001b[1;32mIn[44], line 4\u001b[0m, in \u001b[0;36msendConnectionRequest\u001b[1;34m(link, message)\u001b[0m\n\u001b[0;32m      3\u001b[0m \u001b[38;5;28;01mtry\u001b[39;00m:\n\u001b[1;32m----> 4\u001b[0m         \u001b[43mWebDriverWait\u001b[49m\u001b[43m(\u001b[49m\u001b[43mdriver\u001b[49m\u001b[43m,\u001b[49m\u001b[43m \u001b[49m\u001b[38;5;241;43m10\u001b[39;49m\u001b[43m)\u001b[49m\u001b[38;5;241;43m.\u001b[39;49m\u001b[43muntil\u001b[49m\u001b[43m(\u001b[49m\u001b[43mEC\u001b[49m\u001b[38;5;241;43m.\u001b[39;49m\u001b[43mpresence_of_element_located\u001b[49m\u001b[43m(\u001b[49m\u001b[43m(\u001b[49m\u001b[43mBy\u001b[49m\u001b[38;5;241;43m.\u001b[39;49m\u001b[43mXPATH\u001b[49m\u001b[43m,\u001b[49m\u001b[43m \u001b[49m\u001b[38;5;124;43m\"\u001b[39;49m\u001b[38;5;124;43m*//div[@class=\u001b[39;49m\u001b[38;5;124;43m'\u001b[39;49m\u001b[38;5;124;43mph5 pb5\u001b[39;49m\u001b[38;5;124;43m'\u001b[39;49m\u001b[38;5;124;43m]//button[normalize-space()=\u001b[39;49m\u001b[38;5;124;43m'\u001b[39;49m\u001b[38;5;124;43mConnect\u001b[39;49m\u001b[38;5;124;43m'\u001b[39;49m\u001b[38;5;124;43m]\u001b[39;49m\u001b[38;5;124;43m\"\u001b[39;49m\u001b[43m)\u001b[49m\u001b[43m)\u001b[49m\u001b[43m)\u001b[49m\u001b[38;5;241m.\u001b[39mclick()\n\u001b[0;32m      5\u001b[0m         WebDriverWait(driver, \u001b[38;5;241m10\u001b[39m)\u001b[38;5;241m.\u001b[39muntil(EC\u001b[38;5;241m.\u001b[39mpresence_of_element_located((By\u001b[38;5;241m.\u001b[39mXPATH, \u001b[38;5;124m\"\u001b[39m\u001b[38;5;124m*//button[normalize-space()=\u001b[39m\u001b[38;5;124m'\u001b[39m\u001b[38;5;124mAdd a note\u001b[39m\u001b[38;5;124m'\u001b[39m\u001b[38;5;124m]\u001b[39m\u001b[38;5;124m\"\u001b[39m)))\u001b[38;5;241m.\u001b[39mclick()\n",
      "File \u001b[1;32mc:\\Python311\\Lib\\site-packages\\selenium\\webdriver\\support\\wait.py:95\u001b[0m, in \u001b[0;36mWebDriverWait.until\u001b[1;34m(self, method, message)\u001b[0m\n\u001b[0;32m     94\u001b[0m         \u001b[38;5;28;01mbreak\u001b[39;00m\n\u001b[1;32m---> 95\u001b[0m \u001b[38;5;28;01mraise\u001b[39;00m TimeoutException(message, screen, stacktrace)\n",
      "\u001b[1;31mTimeoutException\u001b[0m: Message: \nStacktrace:\n\tGetHandleVerifier [0x00007FF6CE8CAD32+56930]\n\t(No symbol) [0x00007FF6CE83F632]\n\t(No symbol) [0x00007FF6CE6F42E5]\n\t(No symbol) [0x00007FF6CE7398ED]\n\t(No symbol) [0x00007FF6CE739A2C]\n\t(No symbol) [0x00007FF6CE77A967]\n\t(No symbol) [0x00007FF6CE75BCDF]\n\t(No symbol) [0x00007FF6CE7781E2]\n\t(No symbol) [0x00007FF6CE75BA43]\n\t(No symbol) [0x00007FF6CE72D438]\n\t(No symbol) [0x00007FF6CE72E4D1]\n\tGetHandleVerifier [0x00007FF6CEC46ABD+3709933]\n\tGetHandleVerifier [0x00007FF6CEC9FFFD+4075821]\n\tGetHandleVerifier [0x00007FF6CEC9818F+4043455]\n\tGetHandleVerifier [0x00007FF6CE969766+706710]\n\t(No symbol) [0x00007FF6CE84B90F]\n\t(No symbol) [0x00007FF6CE846AF4]\n\t(No symbol) [0x00007FF6CE846C4C]\n\t(No symbol) [0x00007FF6CE836904]\n\tBaseThreadInitThunk [0x00007FFC8CFC257D+29]\n\tRtlUserThreadStart [0x00007FFC8DEAAA58+40]\n",
      "\nDuring handling of the above exception, another exception occurred:\n",
      "\u001b[1;31mKeyboardInterrupt\u001b[0m                         Traceback (most recent call last)",
      "Cell \u001b[1;32mIn[80], line 3\u001b[0m\n\u001b[0;32m      1\u001b[0m \u001b[38;5;28;01mfor\u001b[39;00m i \u001b[38;5;129;01min\u001b[39;00m dataList:\n\u001b[0;32m      2\u001b[0m     \u001b[38;5;28mprint\u001b[39m(i[\u001b[38;5;124m'\u001b[39m\u001b[38;5;124mName\u001b[39m\u001b[38;5;124m'\u001b[39m])\n\u001b[1;32m----> 3\u001b[0m     \u001b[43msendConnectionRequest\u001b[49m\u001b[43m(\u001b[49m\u001b[43mi\u001b[49m\u001b[43m[\u001b[49m\u001b[38;5;124;43m'\u001b[39;49m\u001b[38;5;124;43mprofileLink\u001b[39;49m\u001b[38;5;124;43m'\u001b[39;49m\u001b[43m]\u001b[49m\u001b[43m,\u001b[49m\u001b[43m \u001b[49m\u001b[38;5;124;43m'\u001b[39;49m\u001b[38;5;124;43mHello, I am Deepak\u001b[39;49m\u001b[38;5;124;43m'\u001b[39;49m\u001b[43m)\u001b[49m\n",
      "Cell \u001b[1;32mIn[44], line 10\u001b[0m, in \u001b[0;36msendConnectionRequest\u001b[1;34m(link, message)\u001b[0m\n\u001b[0;32m      8\u001b[0m \u001b[38;5;28;01mexcept\u001b[39;00m:\n\u001b[0;32m      9\u001b[0m         WebDriverWait(driver, \u001b[38;5;241m10\u001b[39m)\u001b[38;5;241m.\u001b[39muntil(EC\u001b[38;5;241m.\u001b[39mpresence_of_element_located((By\u001b[38;5;241m.\u001b[39mXPATH, \u001b[38;5;124m\"\u001b[39m\u001b[38;5;124m(*//button[normalize-space()=\u001b[39m\u001b[38;5;124m'\u001b[39m\u001b[38;5;124mMore\u001b[39m\u001b[38;5;124m'\u001b[39m\u001b[38;5;124m])[2]\u001b[39m\u001b[38;5;124m\"\u001b[39m)))\u001b[38;5;241m.\u001b[39mclick()\n\u001b[1;32m---> 10\u001b[0m         \u001b[43mWebDriverWait\u001b[49m\u001b[43m(\u001b[49m\u001b[43mdriver\u001b[49m\u001b[43m,\u001b[49m\u001b[43m \u001b[49m\u001b[38;5;241;43m10\u001b[39;49m\u001b[43m)\u001b[49m\u001b[38;5;241;43m.\u001b[39;49m\u001b[43muntil\u001b[49m\u001b[43m(\u001b[49m\u001b[43mEC\u001b[49m\u001b[38;5;241;43m.\u001b[39;49m\u001b[43mpresence_of_element_located\u001b[49m\u001b[43m(\u001b[49m\u001b[43m(\u001b[49m\u001b[43mBy\u001b[49m\u001b[38;5;241;43m.\u001b[39;49m\u001b[43mXPATH\u001b[49m\u001b[43m,\u001b[49m\u001b[43m \u001b[49m\u001b[38;5;124;43m\"\u001b[39;49m\u001b[38;5;124;43m(//div[starts-with(@aria-label, \u001b[39;49m\u001b[38;5;124;43m'\u001b[39;49m\u001b[38;5;124;43mInvite\u001b[39;49m\u001b[38;5;124;43m'\u001b[39;49m\u001b[38;5;124;43m)])[2]\u001b[39;49m\u001b[38;5;124;43m\"\u001b[39;49m\u001b[43m)\u001b[49m\u001b[43m)\u001b[49m\u001b[43m)\u001b[49m\u001b[38;5;241m.\u001b[39mclick()\n\u001b[0;32m     11\u001b[0m         WebDriverWait(driver, \u001b[38;5;241m10\u001b[39m)\u001b[38;5;241m.\u001b[39muntil(EC\u001b[38;5;241m.\u001b[39mpresence_of_element_located((By\u001b[38;5;241m.\u001b[39mXPATH, \u001b[38;5;124m\"\u001b[39m\u001b[38;5;124m*//button[normalize-space()=\u001b[39m\u001b[38;5;124m'\u001b[39m\u001b[38;5;124mAdd a note\u001b[39m\u001b[38;5;124m'\u001b[39m\u001b[38;5;124m]\u001b[39m\u001b[38;5;124m\"\u001b[39m)))\u001b[38;5;241m.\u001b[39mclick()\n\u001b[0;32m     12\u001b[0m         WebDriverWait(driver, \u001b[38;5;241m10\u001b[39m)\u001b[38;5;241m.\u001b[39muntil(EC\u001b[38;5;241m.\u001b[39mpresence_of_element_located((By\u001b[38;5;241m.\u001b[39mXPATH, \u001b[38;5;124m\"\u001b[39m\u001b[38;5;124m*//textarea[@id=\u001b[39m\u001b[38;5;124m'\u001b[39m\u001b[38;5;124mcustom-message\u001b[39m\u001b[38;5;124m'\u001b[39m\u001b[38;5;124m]\u001b[39m\u001b[38;5;124m\"\u001b[39m)))\u001b[38;5;241m.\u001b[39msend_keys(message)\n",
      "File \u001b[1;32mc:\\Python311\\Lib\\site-packages\\selenium\\webdriver\\support\\wait.py:92\u001b[0m, in \u001b[0;36mWebDriverWait.until\u001b[1;34m(self, method, message)\u001b[0m\n\u001b[0;32m     90\u001b[0m     screen \u001b[38;5;241m=\u001b[39m \u001b[38;5;28mgetattr\u001b[39m(exc, \u001b[38;5;124m\"\u001b[39m\u001b[38;5;124mscreen\u001b[39m\u001b[38;5;124m\"\u001b[39m, \u001b[38;5;28;01mNone\u001b[39;00m)\n\u001b[0;32m     91\u001b[0m     stacktrace \u001b[38;5;241m=\u001b[39m \u001b[38;5;28mgetattr\u001b[39m(exc, \u001b[38;5;124m\"\u001b[39m\u001b[38;5;124mstacktrace\u001b[39m\u001b[38;5;124m\"\u001b[39m, \u001b[38;5;28;01mNone\u001b[39;00m)\n\u001b[1;32m---> 92\u001b[0m time\u001b[38;5;241m.\u001b[39msleep(\u001b[38;5;28mself\u001b[39m\u001b[38;5;241m.\u001b[39m_poll)\n\u001b[0;32m     93\u001b[0m \u001b[38;5;28;01mif\u001b[39;00m time\u001b[38;5;241m.\u001b[39mmonotonic() \u001b[38;5;241m>\u001b[39m end_time:\n\u001b[0;32m     94\u001b[0m     \u001b[38;5;28;01mbreak\u001b[39;00m\n",
      "\u001b[1;31mKeyboardInterrupt\u001b[0m: "
     ]
    }
   ],
   "source": [
    "for i in dataList:\n",
    "    print(i['Name'])\n",
    "    sendConnectionRequest(i['profileLink'], 'Hello, I am Deepak')"
   ]
  },
  {
   "cell_type": "code",
   "execution_count": 81,
   "metadata": {},
   "outputs": [
    {
     "data": {
      "text/plain": [
       "True"
      ]
     },
     "execution_count": 81,
     "metadata": {},
     "output_type": "execute_result"
    }
   ],
   "source": [
    "driver.get_screenshot_as_file('screenshot.png')"
   ]
  },
  {
   "cell_type": "code",
   "execution_count": 73,
   "metadata": {},
   "outputs": [],
   "source": [
    "driver.maximize_window()"
   ]
  },
  {
   "cell_type": "code",
   "execution_count": 75,
   "metadata": {},
   "outputs": [],
   "source": [
    "driver.set_window_size(1920, 1080)"
   ]
  },
  {
   "cell_type": "code",
   "execution_count": null,
   "metadata": {},
   "outputs": [],
   "source": []
  }
 ],
 "metadata": {
  "kernelspec": {
   "display_name": "Python 3",
   "language": "python",
   "name": "python3"
  },
  "language_info": {
   "codemirror_mode": {
    "name": "ipython",
    "version": 3
   },
   "file_extension": ".py",
   "mimetype": "text/x-python",
   "name": "python",
   "nbconvert_exporter": "python",
   "pygments_lexer": "ipython3",
   "version": "3.11.5"
  }
 },
 "nbformat": 4,
 "nbformat_minor": 2
}
