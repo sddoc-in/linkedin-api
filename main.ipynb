{
 "cells": [
  {
   "cell_type": "code",
   "execution_count": 2,
   "metadata": {},
   "outputs": [],
   "source": [
    "from selenium import webdriver\n",
    "from selenium.webdriver.support.ui import WebDriverWait\n",
    "from selenium.webdriver.support import expected_conditions as EC\n",
    "from selenium.webdriver.common.by import By\n",
    "import time\n",
    "import random\n",
    "\n",
    "def OpenBrowser():\n",
    "    pcuser = \"Darakhsha Rayen\"\n",
    "    chrome_options = webdriver.ChromeOptions()\n",
    "    chrome_options.add_argument('--disable-notifications')\n",
    "    chrome_options.add_argument(fr'--user-data-dir=C:\\Users\\{pcuser}\\AppData\\Local\\Google\\Chrome\\User Data')\n",
    "    chrome_options.add_experimental_option('excludeSwitches', ['enable-logging'])\n",
    "\n",
    "    driver = webdriver.Chrome(options=chrome_options)\n",
    "    driver.maximize_window()\n",
    "    driver.get(\"https://www.linkedin.com/in/darakhsha-rayen-a81a33222/\")\n",
    "    return driver"
   ]
  },
  {
   "cell_type": "code",
   "execution_count": 27,
   "metadata": {},
   "outputs": [],
   "source": [
    "from selenium import webdriver\n",
    "\n",
    "def open_browser():\n",
    "    try:\n",
    "        driver = webdriver.Chrome()\n",
    "        driver.maximize_window()\n",
    "        driver.get(\"https://www.linkedin.com/in/sujoy-saha-768465b5/\")\n",
    "        return driver\n",
    "    except Exception as e:\n",
    "        print(\"Error:\", e)\n",
    "        return None\n",
    "\n",
    "browser_driver = open_browser()\n",
    "\n"
   ]
  },
  {
   "cell_type": "code",
   "execution_count": 28,
   "metadata": {},
   "outputs": [
    {
     "name": "stdout",
     "output_type": "stream",
     "text": [
      "Sujoy Saha\n",
      "3rd degree connection\n",
      "3rd\n"
     ]
    },
    {
     "ename": "TimeoutException",
     "evalue": "Message: \nStacktrace:\n\tGetHandleVerifier [0x00007FF65F2370C2+63090]\n\t(No symbol) [0x00007FF65F1A2D12]\n\t(No symbol) [0x00007FF65F03EC65]\n\t(No symbol) [0x00007FF65F08499D]\n\t(No symbol) [0x00007FF65F084ADC]\n\t(No symbol) [0x00007FF65F0C5B37]\n\t(No symbol) [0x00007FF65F0A701F]\n\t(No symbol) [0x00007FF65F0C3412]\n\t(No symbol) [0x00007FF65F0A6D83]\n\t(No symbol) [0x00007FF65F0783A8]\n\t(No symbol) [0x00007FF65F079441]\n\tGetHandleVerifier [0x00007FF65F63262D+4238301]\n\tGetHandleVerifier [0x00007FF65F66F78D+4488509]\n\tGetHandleVerifier [0x00007FF65F667A6F+4456479]\n\tGetHandleVerifier [0x00007FF65F310606+953270]\n\t(No symbol) [0x00007FF65F1AE5DF]\n\t(No symbol) [0x00007FF65F1A92B4]\n\t(No symbol) [0x00007FF65F1A93EB]\n\t(No symbol) [0x00007FF65F199C24]\n\tBaseThreadInitThunk [0x00007FF831D97344+20]\n\tRtlUserThreadStart [0x00007FF8323E26B1+33]\n",
     "output_type": "error",
     "traceback": [
      "\u001b[1;31m---------------------------------------------------------------------------\u001b[0m",
      "\u001b[1;31mTimeoutException\u001b[0m                          Traceback (most recent call last)",
      "Cell \u001b[1;32mIn[28], line 3\u001b[0m\n\u001b[0;32m      1\u001b[0m profile_name \u001b[38;5;241m=\u001b[39m WebDriverWait(browser_driver, \u001b[38;5;241m10\u001b[39m)\u001b[38;5;241m.\u001b[39muntil(EC\u001b[38;5;241m.\u001b[39mpresence_of_element_located((By\u001b[38;5;241m.\u001b[39mXPATH,\u001b[38;5;124m\"\u001b[39m\u001b[38;5;124m//div[@class=\u001b[39m\u001b[38;5;124m'\u001b[39m\u001b[38;5;124mHrNUTdMgZdKRzKknXaeWVHpYukeRpcBoM\u001b[39m\u001b[38;5;124m'\u001b[39m\u001b[38;5;124m]\u001b[39m\u001b[38;5;124m\"\u001b[39m)))\n\u001b[0;32m      2\u001b[0m \u001b[38;5;28mprint\u001b[39m(profile_name\u001b[38;5;241m.\u001b[39mtext)\n\u001b[1;32m----> 3\u001b[0m profile\u001b[38;5;241m=\u001b[39m\u001b[43mWebDriverWait\u001b[49m\u001b[43m(\u001b[49m\u001b[43mbrowser_driver\u001b[49m\u001b[43m,\u001b[49m\u001b[43m \u001b[49m\u001b[38;5;241;43m10\u001b[39;49m\u001b[43m)\u001b[49m\u001b[38;5;241;43m.\u001b[39;49m\u001b[43muntil\u001b[49m\u001b[43m(\u001b[49m\u001b[43mEC\u001b[49m\u001b[38;5;241;43m.\u001b[39;49m\u001b[43mpresence_of_element_located\u001b[49m\u001b[43m(\u001b[49m\u001b[43m(\u001b[49m\u001b[43mBy\u001b[49m\u001b[38;5;241;43m.\u001b[39;49m\u001b[43mXPATH\u001b[49m\u001b[43m,\u001b[49m\u001b[38;5;124;43m\"\u001b[39;49m\u001b[38;5;124;43m*//div[@data-generated-suggestion-target=\u001b[39;49m\u001b[38;5;124;43m'\u001b[39;49m\u001b[38;5;124;43murn:li:fsu_profileActionDelegate:-579158814\u001b[39;49m\u001b[38;5;124;43m'\u001b[39;49m\u001b[38;5;124;43m]\u001b[39;49m\u001b[38;5;124;43m\"\u001b[39;49m\u001b[43m)\u001b[49m\u001b[43m)\u001b[49m\u001b[43m)\u001b[49m\n\u001b[0;32m      4\u001b[0m \u001b[38;5;28mprint\u001b[39m(profile\u001b[38;5;241m.\u001b[39mtext)\n\u001b[0;32m      5\u001b[0m Address\u001b[38;5;241m=\u001b[39mWebDriverWait(browser_driver, \u001b[38;5;241m10\u001b[39m)\u001b[38;5;241m.\u001b[39muntil(EC\u001b[38;5;241m.\u001b[39mpresence_of_element_located((By\u001b[38;5;241m.\u001b[39mXPATH,\u001b[38;5;124m\"\u001b[39m\u001b[38;5;124m*//span[@class=\u001b[39m\u001b[38;5;124m'\u001b[39m\u001b[38;5;124mtext-body-small inline t-black--light break-words\u001b[39m\u001b[38;5;124m'\u001b[39m\u001b[38;5;124m]\u001b[39m\u001b[38;5;124m\"\u001b[39m)))\n",
      "File \u001b[1;32mc:\\Python311\\Lib\\site-packages\\selenium\\webdriver\\support\\wait.py:95\u001b[0m, in \u001b[0;36mWebDriverWait.until\u001b[1;34m(self, method, message)\u001b[0m\n\u001b[0;32m     93\u001b[0m     \u001b[38;5;28;01mif\u001b[39;00m time\u001b[38;5;241m.\u001b[39mmonotonic() \u001b[38;5;241m>\u001b[39m end_time:\n\u001b[0;32m     94\u001b[0m         \u001b[38;5;28;01mbreak\u001b[39;00m\n\u001b[1;32m---> 95\u001b[0m \u001b[38;5;28;01mraise\u001b[39;00m TimeoutException(message, screen, stacktrace)\n",
      "\u001b[1;31mTimeoutException\u001b[0m: Message: \nStacktrace:\n\tGetHandleVerifier [0x00007FF65F2370C2+63090]\n\t(No symbol) [0x00007FF65F1A2D12]\n\t(No symbol) [0x00007FF65F03EC65]\n\t(No symbol) [0x00007FF65F08499D]\n\t(No symbol) [0x00007FF65F084ADC]\n\t(No symbol) [0x00007FF65F0C5B37]\n\t(No symbol) [0x00007FF65F0A701F]\n\t(No symbol) [0x00007FF65F0C3412]\n\t(No symbol) [0x00007FF65F0A6D83]\n\t(No symbol) [0x00007FF65F0783A8]\n\t(No symbol) [0x00007FF65F079441]\n\tGetHandleVerifier [0x00007FF65F63262D+4238301]\n\tGetHandleVerifier [0x00007FF65F66F78D+4488509]\n\tGetHandleVerifier [0x00007FF65F667A6F+4456479]\n\tGetHandleVerifier [0x00007FF65F310606+953270]\n\t(No symbol) [0x00007FF65F1AE5DF]\n\t(No symbol) [0x00007FF65F1A92B4]\n\t(No symbol) [0x00007FF65F1A93EB]\n\t(No symbol) [0x00007FF65F199C24]\n\tBaseThreadInitThunk [0x00007FF831D97344+20]\n\tRtlUserThreadStart [0x00007FF8323E26B1+33]\n"
     ]
    }
   ],
   "source": [
    "\n",
    "\n",
    "\n",
    "\n",
    "\n",
    "\n"
   ]
  },
  {
   "cell_type": "code",
   "execution_count": 55,
   "metadata": {},
   "outputs": [
    {
     "name": "stdout",
     "output_type": "stream",
     "text": [
      "Darakhsha Rayen\n"
     ]
    }
   ],
   "source": [
    "profile_name = WebDriverWait(browser_driver, 10).until(EC.presence_of_element_located((By.XPATH,\"//div[@class='HrNUTdMgZdKRzKknXaeWVHpYukeRpcBoM']\")))\n",
    "print(profile_name.text)"
   ]
  },
  {
   "cell_type": "code",
   "execution_count": 56,
   "metadata": {},
   "outputs": [
    {
     "name": "stdout",
     "output_type": "stream",
     "text": [
      "Software developer\n"
     ]
    }
   ],
   "source": [
    "profile=WebDriverWait(browser_driver, 10).until(EC.presence_of_element_located((By.XPATH,\"*//div[@class='text-body-medium break-words']\")))\n",
    "print(profile.text)"
   ]
  },
  {
   "cell_type": "code",
   "execution_count": 57,
   "metadata": {},
   "outputs": [
    {
     "name": "stdout",
     "output_type": "stream",
     "text": [
      "Lalganj, Uttar Pradesh, India\n"
     ]
    }
   ],
   "source": [
    "\n",
    "Address=WebDriverWait(browser_driver, 10).until(EC.presence_of_element_located((By.XPATH,\"*//span[@class='text-body-small inline t-black--light break-words']\")))\n",
    "print(Address.text)"
   ]
  },
  {
   "cell_type": "code",
   "execution_count": 59,
   "metadata": {},
   "outputs": [
    {
     "name": "stdout",
     "output_type": "stream",
     "text": [
      "rayendarakhsha4@gmail.com\n"
     ]
    }
   ],
   "source": [
    "Email_address=WebDriverWait(browser_driver, 10).until(EC.presence_of_element_located((By.XPATH,\"*//a[@id='top-card-text-details-contact-info']\"))).click()\n",
    "email=WebDriverWait(browser_driver, 10).until(EC.presence_of_element_located((By.XPATH,\"(*//div[@class='pv-contact-info__ci-container t-14'])[2]\")))\n",
    "print(email.text)"
   ]
  },
  {
   "cell_type": "code",
   "execution_count": 62,
   "metadata": {},
   "outputs": [
    {
     "name": "stdout",
     "output_type": "stream",
     "text": [
      "Image URL: https://media.licdn.com/dms/image/C4D03AQEvyxpP8eqa9w/profile-displayphoto-shrink_400_400/0/1653235051644?e=1717027200&v=beta&t=JIwLPahNCnGsiooZi-m6uC70JMRnszo7WjDJ5M6To00\n"
     ]
    }
   ],
   "source": [
    "profile_photo_button = WebDriverWait(browser_driver, 10).until(EC.presence_of_element_located((By.XPATH, \"*//button[@aria-label='open profile picture']\")))\n",
    "\n",
    "img_element = profile_photo_button.find_element(By.XPATH, \"./img\")\n",
    "image_url = img_element.get_attribute(\"src\")\n",
    "print(\"Image URL:\", image_url)\n"
   ]
  },
  {
   "cell_type": "code",
   "execution_count": 63,
   "metadata": {},
   "outputs": [
    {
     "name": "stdout",
     "output_type": "stream",
     "text": [
      "Image URL: https://media.licdn.com/dms/image/D4D03AQGzlwOiIw4n3Q/profile-displayphoto-shrink_400_400/0/1696490284057?e=1717027200&v=beta&t=ndWp_ovWLMGBSmObQzvsh0luRZs6S2JJDX7noNujbgQ\n"
     ]
    }
   ],
   "source": [
    "profile_photo_button = WebDriverWait(browser_driver, 10).until(EC.presence_of_element_located((By.XPATH, \"//button[@class='profile-photo-edit__edit-btn']\")))\n",
    "img_element = profile_photo_button.find_element(By.XPATH, \"./img\")\n",
    "image_url = img_element.get_attribute(\"src\")\n",
    "print(\"Image URL:\", image_url)\n"
   ]
  },
  {
   "cell_type": "code",
   "execution_count": null,
   "metadata": {},
   "outputs": [],
   "source": []
  }
 ],
 "metadata": {
  "kernelspec": {
   "display_name": "Python 3",
   "language": "python",
   "name": "python3"
  },
  "language_info": {
   "codemirror_mode": {
    "name": "ipython",
    "version": 3
   },
   "file_extension": ".py",
   "mimetype": "text/x-python",
   "name": "python",
   "nbconvert_exporter": "python",
   "pygments_lexer": "ipython3",
   "version": "3.11.5"
  }
 },
 "nbformat": 4,
 "nbformat_minor": 2
}
