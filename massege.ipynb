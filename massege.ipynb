{
 "cells": [
  {
   "cell_type": "code",
   "execution_count": 1,
   "metadata": {},
   "outputs": [
    {
     "data": {
      "text/plain": [
       "'{\"pageKey\":[\"d_flagship3_search_srp_all\",\"p_flagship3_search_srp_all\",\"d_flagship3_search_srp_top\",\"d_flagship3_search_srp_people\",\"d_flagship3_search_srp_content\",\"d_flagship3_search_srp_companies\",\"d_flagship3_search_srp_schools\",\"d_flagship3_search_srp_groups\",\"p_flagship3_search_srp_top\",\"p_flagship3_search_srp_people\",\"p_flagship3_search_srp_content\",\"p_flagship3_search_srp_companies\",\"p_flagship3_search_srp_schools\",\"p_flagship3_search_srp_groups\"],\"controlUrn\":[]}'"
      ]
     },
     "execution_count": 1,
     "metadata": {},
     "output_type": "execute_result"
    }
   ],
   "source": [
    "import requests\n",
    "\n",
    "headers = {\n",
    "    'authority': 'platform.linkedin.com',\n",
    "    'accept': '*/*',\n",
    "    'accept-language': 'en-GB,en-US;q=0.9,en;q=0.8,hi;q=0.7',\n",
    "    'dnt': '1',\n",
    "    'origin': 'https://www.linkedin.com',\n",
    "    'referer': 'https://www.linkedin.com/',\n",
    "    'sec-ch-ua': '\"Not A(Brand\";v=\"99\", \"Google Chrome\";v=\"121\", \"Chromium\";v=\"121\"',\n",
    "    'sec-ch-ua-mobile': '?0',\n",
    "    'sec-ch-ua-platform': '\"Windows\"',\n",
    "    'sec-fetch-dest': 'empty',\n",
    "    'sec-fetch-mode': 'cors',\n",
    "    'sec-fetch-site': 'same-site',\n",
    "    'user-agent': 'Mozilla/5.0 (Windows NT 10.0; Win64; x64) AppleWebKit/537.36 (KHTML, like Gecko) Chrome/121.0.0.0 Safari/537.36',\n",
    "}\n",
    "\n",
    "\n",
    "\n",
    "response = requests.get('https://platform.linkedin.com/litms/allowlist/voyager-web-search', headers=headers)\n",
    "response.text"
   ]
  },
  {
   "cell_type": "code",
   "execution_count": null,
   "metadata": {},
   "outputs": [],
   "source": []
  }
 ],
 "metadata": {
  "kernelspec": {
   "display_name": "Python 3",
   "language": "python",
   "name": "python3"
  },
  "language_info": {
   "codemirror_mode": {
    "name": "ipython",
    "version": 3
   },
   "file_extension": ".py",
   "mimetype": "text/x-python",
   "name": "python",
   "nbconvert_exporter": "python",
   "pygments_lexer": "ipython3",
   "version": "3.11.7"
  }
 },
 "nbformat": 4,
 "nbformat_minor": 2
}
