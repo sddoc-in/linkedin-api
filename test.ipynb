{
 "cells": [
  {
   "cell_type": "markdown",
   "metadata": {},
   "source": []
  },
  {
   "cell_type": "code",
   "execution_count": 1,
   "metadata": {},
   "outputs": [],
   "source": [
    "from seleniumwire import webdriver\n",
    "import time\n",
    "from seleniumwire import webdriver\n",
    "from selenium.webdriver.chrome.options import Options\n",
    "user =  'tszuwnnm'\n",
    "password ='g0q5bywh7j1l'\n",
    "ip = '38.154.227.167' \n",
    "port = '5868'\n"
   ]
  },
  {
   "cell_type": "code",
   "execution_count": 8,
   "metadata": {},
   "outputs": [],
   "source": [
    "driver.get('https://www.google.com')"
   ]
  },
  {
   "cell_type": "code",
   "execution_count": 11,
   "metadata": {},
   "outputs": [],
   "source": [
    "driver.get('https://whatismyipaddress.com')"
   ]
  },
  {
   "cell_type": "code",
   "execution_count": 2,
   "metadata": {},
   "outputs": [
    {
     "ename": "WebDriverException",
     "evalue": "Message: unknown error: net::ERR_TUNNEL_CONNECTION_FAILED\n  (Session info: chrome=122.0.6261.129)\nStacktrace:\n\tGetHandleVerifier [0x00007FF7E485AD02+56930]\n\t(No symbol) [0x00007FF7E47CF602]\n\t(No symbol) [0x00007FF7E46842E5]\n\t(No symbol) [0x00007FF7E468011A]\n\t(No symbol) [0x00007FF7E46729F4]\n\t(No symbol) [0x00007FF7E4673D29]\n\t(No symbol) [0x00007FF7E4672CF3]\n\t(No symbol) [0x00007FF7E4671EF4]\n\t(No symbol) [0x00007FF7E4671E11]\n\t(No symbol) [0x00007FF7E4670625]\n\t(No symbol) [0x00007FF7E4670EDC]\n\t(No symbol) [0x00007FF7E46869FD]\n\t(No symbol) [0x00007FF7E4708B47]\n\t(No symbol) [0x00007FF7E46EBC9A]\n\t(No symbol) [0x00007FF7E47081E2]\n\t(No symbol) [0x00007FF7E46EBA43]\n\t(No symbol) [0x00007FF7E46BD438]\n\t(No symbol) [0x00007FF7E46BE4D1]\n\tGetHandleVerifier [0x00007FF7E4BD6F8D+3711213]\n\tGetHandleVerifier [0x00007FF7E4C304CD+4077101]\n\tGetHandleVerifier [0x00007FF7E4C2865F+4044735]\n\tGetHandleVerifier [0x00007FF7E48F9736+706710]\n\t(No symbol) [0x00007FF7E47DB8DF]\n\t(No symbol) [0x00007FF7E47D6AC4]\n\t(No symbol) [0x00007FF7E47D6C1C]\n\t(No symbol) [0x00007FF7E47C68D4]\n\tBaseThreadInitThunk [0x00007FFC1A9C257D+29]\n\tRtlUserThreadStart [0x00007FFC1BEEAA58+40]\n",
     "output_type": "error",
     "traceback": [
      "\u001b[1;31m---------------------------------------------------------------------------\u001b[0m",
      "\u001b[1;31mWebDriverException\u001b[0m                        Traceback (most recent call last)",
      "Cell \u001b[1;32mIn[2], line 42\u001b[0m\n\u001b[0;32m     39\u001b[0m options\u001b[38;5;241m.\u001b[39madd_argument(\u001b[38;5;124m\"\u001b[39m\u001b[38;5;124m--disable-blink-features=AutomationControlled\u001b[39m\u001b[38;5;124m\"\u001b[39m)\n\u001b[0;32m     41\u001b[0m driver \u001b[38;5;241m=\u001b[39m webdriver\u001b[38;5;241m.\u001b[39mChrome(seleniumwire_options\u001b[38;5;241m=\u001b[39mproxy, chrome_options\u001b[38;5;241m=\u001b[39moptions)\n\u001b[1;32m---> 42\u001b[0m \u001b[43mdriver\u001b[49m\u001b[38;5;241;43m.\u001b[39;49m\u001b[43mget\u001b[49m\u001b[43m(\u001b[49m\u001b[38;5;124;43m'\u001b[39;49m\u001b[38;5;124;43mhttps://www.linkedin.com/\u001b[39;49m\u001b[38;5;124;43m'\u001b[39;49m\u001b[43m)\u001b[49m\n",
      "File \u001b[1;32mc:\\Python311\\Lib\\site-packages\\selenium\\webdriver\\remote\\webdriver.py:353\u001b[0m, in \u001b[0;36mWebDriver.get\u001b[1;34m(self, url)\u001b[0m\n\u001b[0;32m    351\u001b[0m \u001b[38;5;28;01mdef\u001b[39;00m \u001b[38;5;21mget\u001b[39m(\u001b[38;5;28mself\u001b[39m, url: \u001b[38;5;28mstr\u001b[39m) \u001b[38;5;241m-\u001b[39m\u001b[38;5;241m>\u001b[39m \u001b[38;5;28;01mNone\u001b[39;00m:\n\u001b[0;32m    352\u001b[0m \u001b[38;5;250m    \u001b[39m\u001b[38;5;124;03m\"\"\"Loads a web page in the current browser session.\"\"\"\u001b[39;00m\n\u001b[1;32m--> 353\u001b[0m     \u001b[38;5;28;43mself\u001b[39;49m\u001b[38;5;241;43m.\u001b[39;49m\u001b[43mexecute\u001b[49m\u001b[43m(\u001b[49m\u001b[43mCommand\u001b[49m\u001b[38;5;241;43m.\u001b[39;49m\u001b[43mGET\u001b[49m\u001b[43m,\u001b[49m\u001b[43m \u001b[49m\u001b[43m{\u001b[49m\u001b[38;5;124;43m\"\u001b[39;49m\u001b[38;5;124;43murl\u001b[39;49m\u001b[38;5;124;43m\"\u001b[39;49m\u001b[43m:\u001b[49m\u001b[43m \u001b[49m\u001b[43murl\u001b[49m\u001b[43m}\u001b[49m\u001b[43m)\u001b[49m\n",
      "File \u001b[1;32mc:\\Python311\\Lib\\site-packages\\selenium\\webdriver\\remote\\webdriver.py:344\u001b[0m, in \u001b[0;36mWebDriver.execute\u001b[1;34m(self, driver_command, params)\u001b[0m\n\u001b[0;32m    342\u001b[0m response \u001b[38;5;241m=\u001b[39m \u001b[38;5;28mself\u001b[39m\u001b[38;5;241m.\u001b[39mcommand_executor\u001b[38;5;241m.\u001b[39mexecute(driver_command, params)\n\u001b[0;32m    343\u001b[0m \u001b[38;5;28;01mif\u001b[39;00m response:\n\u001b[1;32m--> 344\u001b[0m     \u001b[38;5;28;43mself\u001b[39;49m\u001b[38;5;241;43m.\u001b[39;49m\u001b[43merror_handler\u001b[49m\u001b[38;5;241;43m.\u001b[39;49m\u001b[43mcheck_response\u001b[49m\u001b[43m(\u001b[49m\u001b[43mresponse\u001b[49m\u001b[43m)\u001b[49m\n\u001b[0;32m    345\u001b[0m     response[\u001b[38;5;124m\"\u001b[39m\u001b[38;5;124mvalue\u001b[39m\u001b[38;5;124m\"\u001b[39m] \u001b[38;5;241m=\u001b[39m \u001b[38;5;28mself\u001b[39m\u001b[38;5;241m.\u001b[39m_unwrap_value(response\u001b[38;5;241m.\u001b[39mget(\u001b[38;5;124m\"\u001b[39m\u001b[38;5;124mvalue\u001b[39m\u001b[38;5;124m\"\u001b[39m, \u001b[38;5;28;01mNone\u001b[39;00m))\n\u001b[0;32m    346\u001b[0m     \u001b[38;5;28;01mreturn\u001b[39;00m response\n",
      "File \u001b[1;32mc:\\Python311\\Lib\\site-packages\\selenium\\webdriver\\remote\\errorhandler.py:229\u001b[0m, in \u001b[0;36mErrorHandler.check_response\u001b[1;34m(self, response)\u001b[0m\n\u001b[0;32m    227\u001b[0m         alert_text \u001b[38;5;241m=\u001b[39m value[\u001b[38;5;124m\"\u001b[39m\u001b[38;5;124malert\u001b[39m\u001b[38;5;124m\"\u001b[39m]\u001b[38;5;241m.\u001b[39mget(\u001b[38;5;124m\"\u001b[39m\u001b[38;5;124mtext\u001b[39m\u001b[38;5;124m\"\u001b[39m)\n\u001b[0;32m    228\u001b[0m     \u001b[38;5;28;01mraise\u001b[39;00m exception_class(message, screen, stacktrace, alert_text)  \u001b[38;5;66;03m# type: ignore[call-arg]  # mypy is not smart enough here\u001b[39;00m\n\u001b[1;32m--> 229\u001b[0m \u001b[38;5;28;01mraise\u001b[39;00m exception_class(message, screen, stacktrace)\n",
      "\u001b[1;31mWebDriverException\u001b[0m: Message: unknown error: net::ERR_TUNNEL_CONNECTION_FAILED\n  (Session info: chrome=122.0.6261.129)\nStacktrace:\n\tGetHandleVerifier [0x00007FF7E485AD02+56930]\n\t(No symbol) [0x00007FF7E47CF602]\n\t(No symbol) [0x00007FF7E46842E5]\n\t(No symbol) [0x00007FF7E468011A]\n\t(No symbol) [0x00007FF7E46729F4]\n\t(No symbol) [0x00007FF7E4673D29]\n\t(No symbol) [0x00007FF7E4672CF3]\n\t(No symbol) [0x00007FF7E4671EF4]\n\t(No symbol) [0x00007FF7E4671E11]\n\t(No symbol) [0x00007FF7E4670625]\n\t(No symbol) [0x00007FF7E4670EDC]\n\t(No symbol) [0x00007FF7E46869FD]\n\t(No symbol) [0x00007FF7E4708B47]\n\t(No symbol) [0x00007FF7E46EBC9A]\n\t(No symbol) [0x00007FF7E47081E2]\n\t(No symbol) [0x00007FF7E46EBA43]\n\t(No symbol) [0x00007FF7E46BD438]\n\t(No symbol) [0x00007FF7E46BE4D1]\n\tGetHandleVerifier [0x00007FF7E4BD6F8D+3711213]\n\tGetHandleVerifier [0x00007FF7E4C304CD+4077101]\n\tGetHandleVerifier [0x00007FF7E4C2865F+4044735]\n\tGetHandleVerifier [0x00007FF7E48F9736+706710]\n\t(No symbol) [0x00007FF7E47DB8DF]\n\t(No symbol) [0x00007FF7E47D6AC4]\n\t(No symbol) [0x00007FF7E47D6C1C]\n\t(No symbol) [0x00007FF7E47C68D4]\n\tBaseThreadInitThunk [0x00007FFC1A9C257D+29]\n\tRtlUserThreadStart [0x00007FFC1BEEAA58+40]\n"
     ]
    }
   ],
   "source": [
    "import time\n",
    "from seleniumwire import webdriver\n",
    "from selenium.webdriver.chrome.options import Options\n",
    "\n",
    "proxies = [\n",
    "    (\"38.154.227.167\", 5868, \"tszuwnnm\", \"g0q5bywh7j1l\"),\n",
    "    (\"185.199.229.156\", 7492, \"tszuwnnm\", \"g0q5bywh7j1l\"),\n",
    "    (\"185.199.228.220\", 7300, \"tszuwnnm\", \"g0q5bywh7j1l\"),\n",
    "    (\"185.199.231.45\", 8382, \"tszuwnnm\", \"g0q5bywh7j1l\"),\n",
    "    (\"188.74.210.207\", 6286, \"tszuwnnm\", \"g0q5bywh7j1l\"),\n",
    "    (\"188.74.183.10\", 8279, \"tszuwnnm\", \"g0q5bywh7j1l\"),\n",
    "    (\"188.74.210.21\", 6100, \"tszuwnnm\", \"g0q5bywh7j1l\"),\n",
    "    (\"45.155.68.129\", 8133, \"tszuwnnm\", \"g0q5bywh7j1l\"),\n",
    "    (\"154.95.36.199\", 6893, \"tszuwnnm\", \"g0q5bywh7j1l\"),\n",
    "    (\"45.94.47.66\", 8110, \"tszuwnnm\", \"g0q5bywh7j1l\")\n",
    "]\n",
    "\n",
    "proxy_address = '104.167.10.132'\n",
    "proxy_port = '5200'\n",
    "proxy_username =  'tszuwnnm' \n",
    "proxy_password =  'g0q5bywh7j1l'\n",
    "proxy = {\n",
    "    'proxy': {\n",
    "        'https': f'https://{proxy_username}:{proxy_password}@{proxy_address}:{proxy_port}',\n",
    "    }\n",
    "}\n",
    "# user_agent = \"Mozilla/5.0 (Windows NT 10.0; Win64; x64) AppleWebKit/537.36 (KHTML, like Gecko) Chrome/58.0.3029.110 Safari/537.3\"\n",
    "options = Options()\n",
    "#options.add_argument(\"--headless\")\n",
    "# options.add_argument(f'user-agent={user_agent}')\n",
    "options.add_argument(\"--disable-gpu\")\n",
    "options.add_argument(\"--no-sandbox\")\n",
    "options.add_argument(\"--disable-dev-shm-usage\")\n",
    "options.add_argument(\"--disable-extensions\")\n",
    "options.add_argument(\"--disable-software-rasterizer\")\n",
    "# Enable automation features to make the browser look more like a real user\n",
    "options.add_experimental_option('excludeSwitches', ['enable-automation'])\n",
    "options.add_experimental_option('useAutomationExtension', False)\n",
    "options.add_argument(\"--disable-blink-features=AutomationControlled\")\n",
    "\n",
    "driver = webdriver.Chrome(seleniumwire_options=proxy, chrome_options=options)\n",
    "driver.get('https://www.linkedin.com/')"
   ]
  },
  {
   "cell_type": "code",
   "execution_count": 24,
   "metadata": {},
   "outputs": [],
   "source": [
    "async def openBrowser(proxy_address, proxy_port, proxy_username, proxy_password ):\n",
    "    options = Options()\n",
    "    proxy = {\n",
    "        'proxy': {\n",
    "            'https': f'https://{proxy_username}:{proxy_password}@{proxy_address}:{proxy_port}',\n",
    "        }\n",
    "    }\n",
    "    # user_agent = \"Mozilla/5.0 (Windows NT 10.0; Win64; x64) AppleWebKit/537.36 (KHTML, like Gecko) Chrome/58.0.3029.110 Safari/537.3\"\n",
    "    # options.add_argument(\"--headless\")\n",
    "    # options.add_argument(f'user-agent={user_agent}')\n",
    "    options.add_argument(\"--disable-gpu\")\n",
    "    options.add_argument(\"--no-sandbox\")\n",
    "    options.add_argument(\"--disable-dev-shm-usage\")\n",
    "    options.add_argument(\"--disable-extensions\")\n",
    "    options.add_argument(\"--disable-software-rasterizer\")\n",
    "    # Enable automation features to make the browser look more like a real user\n",
    "    options.add_experimental_option('excludeSwitches', ['enable-automation'])\n",
    "    options.add_experimental_option('useAutomationExtension', False)\n",
    "    options.add_argument(\"--disable-blink-features=AutomationControlled\")\n",
    "    if proxy_address == \"not\":\n",
    "        driver = webdriver.Chrome(options=options)\n",
    "        # driver.get('https://www.whatismypublicip.com/')\n",
    "        driver.set_window_size(1920, 1080)\n",
    "    else:\n",
    "        driver = webdriver.Chrome(seleniumwire_options=proxy,options=options)\n",
    "        # driver.get('https://www.whatismypublicip.com/')\n",
    "        driver.set_window_size(1920, 1080)\n",
    "    return driver"
   ]
  },
  {
   "cell_type": "code",
   "execution_count": 4,
   "metadata": {},
   "outputs": [],
   "source": [
    "proxy_address = '104.167.10.132'\n",
    "proxy_port = '5200'\n",
    "proxy_username =  'newsonio' \n",
    "proxy_password =  'newsonio'\n",
    "driver = await openBrowser(proxy_address, proxy_port, proxy_username, proxy_password)"
   ]
  },
  {
   "cell_type": "code",
   "execution_count": null,
   "metadata": {},
   "outputs": [
    {
     "name": "stderr",
     "output_type": "stream",
     "text": [
      "Invalid proxy server credentials supplied\n",
      "Invalid proxy server credentials supplied\n",
      "Invalid proxy server credentials supplied\n",
      "Invalid proxy server credentials supplied\n",
      "Invalid proxy server credentials supplied\n"
     ]
    }
   ],
   "source": [
    "driver.get('https://www.whatismypublicip.com/')"
   ]
  },
  {
   "cell_type": "code",
   "execution_count": 2,
   "metadata": {},
   "outputs": [],
   "source": [
    "cookies = [{'domain': '.linkedin.com', 'expiry': 1713104529, 'httpOnly': False, 'name': 'UserMatchHistory', 'path': '/', 'sameSite': 'None', 'secure': True, 'value': 'AQKA5uGVEfgKcgAAAY5CfbzhyiDWzgNqzLlv8GvTBZ8WUsPuwzMtSz8zVF3fFVcMZuR5ewlr1DdUi-_CLvQqz2GC3CG6keP6RCR-N7pr2jSnfPaG8Se5LyLZ9QCaNKUSmtwvBcmpsvNIwrjxedGQRM_Cl8NRMl773cFpZTj6CB7ZiCC0SejBBCtu-ec29K3t_TTd17c5LDAEOafpqmgUY2ky_JIYmY5XmBF_-k0jmtTHFGAqifnMOI486Ol_j29ysh6TOF6JJR0jKLvrdz_EByFCPNh6M65kdW7KngFdQXbSEOarW4k31THUXx91Zmwh0zZyxZc'}, {'domain': '.linkedin.com', 'expiry': 1718288529, 'httpOnly': False, 'name': 'li_sugr', 'path': '/', 'sameSite': 'None', 'secure': True, 'value': 'bb78a1f9-3227-4ca5-aa5b-e1e0ee87109f'}, {'domain': '.www.linkedin.com', 'expiry': 1726064497, 'httpOnly': False, 'name': 'li_theme_set', 'path': '/', 'sameSite': 'Lax', 'secure': True, 'value': 'app'}, {'domain': '.www.linkedin.com', 'expiry': 1726064497, 'httpOnly': False, 'name': 'li_theme', 'path': '/', 'sameSite': 'Lax', 'secure': True, 'value': 'light'}, {'domain': '.www.linkedin.com', 'expiry': 1711722097, 'httpOnly': False, 'name': 'timezone', 'path': '/', 'sameSite': 'Lax', 'secure': True, 'value': 'Asia/Calcutta'}, {'domain': '.linkedin.com', 'expiry': 1710551748, 'httpOnly': False, 'name': 'lidc', 'path': '/', 'sameSite': 'None', 'secure': True, 'value': '\"b=OB67:s=O:r=O:a=O:p=O:g=3526:u=582:x=1:i=1710512523:t=1710551737:v=2:sig=AQHPxLYeBu2Q8vfQkmeoJo1w3V8rXdPM\"'}, {'domain': '.www.linkedin.com', 'expiry': 1718288457, 'httpOnly': False, 'name': 'JSESSIONID', 'path': '/', 'sameSite': 'None', 'secure': True, 'value': '\"ajax:7246302928461418701\"'}, {'domain': '.www.linkedin.com', 'expiry': 1742048457, 'httpOnly': True, 'name': 'li_rm', 'path': '/', 'sameSite': 'None', 'secure': True, 'value': 'AQFh6vRvHHdUiAAAAY5CfDwzN6VATDzKzt7o5zkUQwUqivESZ2hE1qd5PMmGOjA78hnKGLvMquv9Hjg2CZL3S2AqcfZNINW6OIA_nHHfWEuM0HFL72lOIiTu'}, {'domain': '.www.linkedin.com', 'expiry': 1742048457, 'httpOnly': True, 'name': 'li_at', 'path': '/', 'sameSite': 'None', 'secure': True, 'value': 'AQEDAStuEgsFfnASAAABjkJ8oXgAAAGOZokleFYAvjSbSK6PKivNSHfZ-5ytQlFD7xFAiSSo14SSMS_9zvGY6b6TIFSD-2Jy9wwb8KJrTRAZw_2WtR7tTTC-K5dGC9XGj3hqar6SmKfP4E7sKALAZarT'}, {'domain': '.linkedin.com', 'expiry': 1742048530, 'httpOnly': False, 'name': 'bcookie', 'path': '/', 'sameSite': 'None', 'secure': True, 'value': '\"v=2&116e6ac4-e500-47ff-8561-fc2e851ca676\"'}, {'domain': '.linkedin.com', 'expiry': 1713104459, 'httpOnly': False, 'name': 'aam_uuid', 'path': '/', 'sameSite': 'Lax', 'secure': False, 'value': '91972669604963469723532014627644381917'}, {'domain': '.linkedin.com', 'expiry': 1713104529, 'httpOnly': False, 'name': 'AnalyticsSyncHistory', 'path': '/', 'sameSite': 'None', 'secure': True, 'value': 'AQLgcWnwv4q0oQAAAY5CfbzhXJfVO_zPAo9O6IKJKOHnq9jhCFZ2G3KZVo0ZDS_YUuZoPRQRtINZ5iUHp6mYmw'}, {'domain': '.linkedin.com', 'httpOnly': False, 'name': 'AMCVS_14215E3D5995C57C0A495C55%40AdobeOrg', 'path': '/', 'sameSite': 'Lax', 'secure': False, 'value': '1'}, {'domain': '.linkedin.com', 'httpOnly': False, 'name': 'lang', 'path': '/', 'sameSite': 'None', 'secure': True, 'value': 'v=2&lang=en-us'}, {'domain': '.linkedin.com', 'expiry': 1718288528, 'httpOnly': False, 'name': '_guid', 'path': '/', 'sameSite': 'None', 'secure': True, 'value': '236e1d86-5dd9-4ff4-b7d2-b9f9a3e28cef'}, {'domain': '.linkedin.com', 'expiry': 1718288439, 'httpOnly': False, 'name': '_gcl_au', 'path': '/', 'sameSite': 'Lax', 'secure': False, 'value': '1.1.1971648724.1710512439'}, {'domain': '.linkedin.com', 'expiry': 1718288457, 'httpOnly': False, 'name': 'liap', 'path': '/', 'sameSite': 'None', 'secure': True, 'value': 'true'}, {'domain': '.linkedin.com', 'expiry': 1726064439, 'httpOnly': False, 'name': 'AMCV_14215E3D5995C57C0A495C55%40AdobeOrg', 'path': '/', 'sameSite': 'Lax', 'secure': False, 'value': '-637568504%7CMCIDTS%7C19798%7CMCMID%7C91818354380678565353587983155887925526%7CMCAAMLH-1711117239%7C6%7CMCAAMB-1711117239%7C6G1ynYcLPuiQxYZrsz_pkqfLG9yMXBpb2zX5dvJdYQJzPXImdj0y%7CMCOPTOUT-1710519639s%7CNONE%7CvVersion%7C5.1.1'}, {'domain': '.www.linkedin.com', 'expiry': 1742048457, 'httpOnly': True, 'name': 'bscookie', 'path': '/', 'sameSite': 'None', 'secure': True, 'value': '\"v=1&20240315142010fce7648f-5c92-4f2a-8fd6-92ac3af2d9afAQEKbbasDNR_ALeSWtNx2TzyY3LW8L_I\"'}]\n"
   ]
  },
  {
   "cell_type": "code",
   "execution_count": 26,
   "metadata": {},
   "outputs": [],
   "source": [
    "cookies = [{'domain': '.linkedin.com', 'expiry': 1713104529, 'httpOnly': False, 'name': 'UserMatchHistory', 'path': '/', 'sameSite': 'None', 'secure': True, 'value': 'AQKA5uGVEfgKcgAAAY5CfbzhyiDWzgNqzLlv8GvTBZ8WUsPuwzMtSz8zVF3fFVcMZuR5ewlr1DdUi-_CLvQqz2GC3CG6keP6RCR-N7pr2jSnfPaG8Se5LyLZ9QCaNKUSmtwvBcmpsvNIwrjxedGQRM_Cl8NRMl773cFpZTj6CB7ZiCC0SejBBCtu-ec29K3t_TTd17c5LDAEOafpqmgUY2ky_JIYmY5XmBF_-k0jmtTHFGAqifnMOI486Ol_j29ysh6TOF6JJR0jKLvrdz_EByFCPNh6M65kdW7KngFdQXbSEOarW4k31THUXx91Zmwh0zZyxZc'}, {'domain': '.linkedin.com', 'expiry': 1718288529, 'httpOnly': False, 'name': 'li_sugr', 'path': '/', 'sameSite': 'None', 'secure': True, 'value': 'bb78a1f9-3227-4ca5-aa5b-e1e0ee87109f'}, {'domain': '.www.linkedin.com', 'expiry': 1726064497, 'httpOnly': False, 'name': 'li_theme_set', 'path': '/', 'sameSite': 'Lax', 'secure': True, 'value': 'app'}, {'domain': '.www.linkedin.com', 'expiry': 1726064497, 'httpOnly': False, 'name': 'li_theme', 'path': '/', 'sameSite': 'Lax', 'secure': True, 'value': 'light'}, {'domain': '.www.linkedin.com', 'expiry': 1711722097, 'httpOnly': False, 'name': 'timezone', 'path': '/', 'sameSite': 'Lax', 'secure': True, 'value': 'Asia/Calcutta'}, {'domain': '.linkedin.com', 'expiry': 1710551748, 'httpOnly': False, 'name': 'lidc', 'path': '/', 'sameSite': 'None', 'secure': True, 'value': '\"b=OB67:s=O:r=O:a=O:p=O:g=3526:u=582:x=1:i=1710512523:t=1710551737:v=2:sig=AQHPxLYeBu2Q8vfQkmeoJo1w3V8rXdPM\"'}, {'domain': '.www.linkedin.com', 'expiry': 1718288457, 'httpOnly': False, 'name': 'JSESSIONID', 'path': '/', 'sameSite': 'None', 'secure': True, 'value': '\"ajax:7246302928461418701\"'}, {'domain': '.www.linkedin.com', 'expiry': 1742048457, 'httpOnly': True, 'name': 'li_rm', 'path': '/', 'sameSite': 'None', 'secure': True, 'value': 'AQFh6vRvHHdUiAAAAY5CfDwzN6VATDzKzt7o5zkUQwUqivESZ2hE1qd5PMmGOjA78hnKGLvMquv9Hjg2CZL3S2AqcfZNINW6OIA_nHHfWEuM0HFL72lOIiTu'}, {'domain': '.www.linkedin.com', 'expiry': 1742048457, 'httpOnly': True, 'name': 'li_at', 'path': '/', 'sameSite': 'None', 'secure': True, 'value': 'AQEDAStuEgsFfnASAAABjkJ8oXgAAAGOZokleFYAvjSbSK6PKivNSHfZ-5ytQlFD7xFAiSSo14SSMS_9zvGY6b6TIFSD-2Jy9wwb8KJrTRAZw_2WtR7tTTC-K5dGC9XGj3hqar6SmKfP4E7sKALAZarT'}, {'domain': '.linkedin.com', 'expiry': 1742048530, 'httpOnly': False, 'name': 'bcookie', 'path': '/', 'sameSite': 'None', 'secure': True, 'value': '\"v=2&116e6ac4-e500-47ff-8561-fc2e851ca676\"'}, {'domain': '.linkedin.com', 'expiry': 1713104459, 'httpOnly': False, 'name': 'aam_uuid', 'path': '/', 'sameSite': 'Lax', 'secure': False, 'value': '91972669604963469723532014627644381917'}, {'domain': '.linkedin.com', 'expiry': 1713104529, 'httpOnly': False, 'name': 'AnalyticsSyncHistory', 'path': '/', 'sameSite': 'None', 'secure': True, 'value': 'AQLgcWnwv4q0oQAAAY5CfbzhXJfVO_zPAo9O6IKJKOHnq9jhCFZ2G3KZVo0ZDS_YUuZoPRQRtINZ5iUHp6mYmw'}, {'domain': '.linkedin.com', 'httpOnly': False, 'name': 'AMCVS_14215E3D5995C57C0A495C55%40AdobeOrg', 'path': '/', 'sameSite': 'Lax', 'secure': False, 'value': '1'}, {'domain': '.linkedin.com', 'httpOnly': False, 'name': 'lang', 'path': '/', 'sameSite': 'None', 'secure': True, 'value': 'v=2&lang=en-us'}, {'domain': '.linkedin.com', 'expiry': 1718288528, 'httpOnly': False, 'name': '_guid', 'path': '/', 'sameSite': 'None', 'secure': True, 'value': '236e1d86-5dd9-4ff4-b7d2-b9f9a3e28cef'}, {'domain': '.linkedin.com', 'expiry': 1718288439, 'httpOnly': False, 'name': '_gcl_au', 'path': '/', 'sameSite': 'Lax', 'secure': False, 'value': '1.1.1971648724.1710512439'}, {'domain': '.linkedin.com', 'expiry': 1718288457, 'httpOnly': False, 'name': 'liap', 'path': '/', 'sameSite': 'None', 'secure': True, 'value': 'true'}, {'domain': '.linkedin.com', 'expiry': 1726064439, 'httpOnly': False, 'name': 'AMCV_14215E3D5995C57C0A495C55%40AdobeOrg', 'path': '/', 'sameSite': 'Lax', 'secure': False, 'value': '-637568504%7CMCIDTS%7C19798%7CMCMID%7C91818354380678565353587983155887925526%7CMCAAMLH-1711117239%7C6%7CMCAAMB-1711117239%7C6G1ynYcLPuiQxYZrsz_pkqfLG9yMXBpb2zX5dvJdYQJzPXImdj0y%7CMCOPTOUT-1710519639s%7CNONE%7CvVersion%7C5.1.1'}, {'domain': '.www.linkedin.com', 'expiry': 1742048457, 'httpOnly': True, 'name': 'bscookie', 'path': '/', 'sameSite': 'None', 'secure': True, 'value': '\"v=1&20240315142010fce7648f-5c92-4f2a-8fd6-92ac3af2d9afAQEKbbasDNR_ALeSWtNx2TzyY3LW8L_I\"'}]\n"
   ]
  },
  {
   "cell_type": "code",
   "execution_count": 7,
   "metadata": {},
   "outputs": [],
   "source": [
    "from datetime import datetime\n",
    "async def epoch_to_timestamp(epoch_time):\n",
    "    try:\n",
    "        timestamp = datetime.fromtimestamp(epoch_time)\n",
    "        # return timestamp.strftime('%Y-%m-%d %H:%M:%S')\n",
    "        return timestamp.strptime(timestamp.strftime('%Y-%m-%d %H:%M:%S'),'%Y-%m-%d %H:%M:%S')\n",
    "    except ValueError as e:\n",
    "        return f\"Error: {e}\""
   ]
  },
  {
   "cell_type": "code",
   "execution_count": 15,
   "metadata": {},
   "outputs": [
    {
     "name": "stdout",
     "output_type": "stream",
     "text": [
      "2025-03-15 19:50:57\n"
     ]
    }
   ],
   "source": [
    "\n",
    "print(await get_expiry_time(cookies))"
   ]
  },
  {
   "cell_type": "code",
   "execution_count": 14,
   "metadata": {},
   "outputs": [],
   "source": [
    "async def get_expiry_time(cookies):\n",
    "    li_at_row = next(cookie for cookie in cookies if cookie['name'] == 'li_at')\n",
    "    expiry = li_at_row.get('expiry', None)\n",
    "    expiry = await epoch_to_timestamp(expiry)\n",
    "    return expiry"
   ]
  },
  {
   "cell_type": "code",
   "execution_count": 3,
   "metadata": {},
   "outputs": [],
   "source": [
    "import time \n",
    "async def openBrowserUserCookies(cookies, proxy_address, proxy_port, proxy_username, proxy_password):\n",
    "    options = Options()\n",
    "    proxy = {\n",
    "        'proxy': {\n",
    "            'https': f'https://{proxy_username}:{proxy_password}@{proxy_address}:{proxy_port}',\n",
    "        }\n",
    "    }\n",
    "    # user_agent = \"Mozilla/5.0 (Windows NT 10.0; Win64; x64) AppleWebKit/537.36 (KHTML, like Gecko) Chrome/58.0.3029.110 Safari/537.3\"\n",
    "    # options.add_argument(\"--headless\")\n",
    "    # options.add_argument(f'user-agent={user_agent}')\n",
    "    options.add_argument(\"--disable-gpu\")\n",
    "    options.add_argument(\"--no-sandbox\")\n",
    "    options.add_argument(\"--disable-dev-shm-usage\")\n",
    "    options.add_argument(\"--disable-extensions\")\n",
    "    options.add_argument(\"--disable-software-rasterizer\")\n",
    "    # Enable automation features to make the browser look more like a real user\n",
    "    options.add_experimental_option('excludeSwitches', ['enable-automation'])\n",
    "    options.add_experimental_option('useAutomationExtension', False)\n",
    "    options.add_argument(\"--disable-blink-features=AutomationControlled\")\n",
    "    \n",
    "    driver = webdriver.Chrome(seleniumwire_options=proxy,options=options)\n",
    "    driver.get('https://www.linkedin.com/')\n",
    "    for cookie in cookies:\n",
    "        print(cookie, \"    hey ->>>>>>>>>>>>>>>>>>>>>>>>>\")\n",
    "        driver.add_cookie(cookie)\n",
    "        driver.get('https://www.linkedin.com/')\n",
    "        time.sleep(3)\n",
    "    driver.set_window_size(1920, 1080)\n",
    "    \n",
    "    return driver"
   ]
  },
  {
   "cell_type": "code",
   "execution_count": 4,
   "metadata": {},
   "outputs": [
    {
     "name": "stdout",
     "output_type": "stream",
     "text": [
      "{'domain': '.linkedin.com', 'expiry': 1713104529, 'httpOnly': False, 'name': 'UserMatchHistory', 'path': '/', 'sameSite': 'None', 'secure': True, 'value': 'AQKA5uGVEfgKcgAAAY5CfbzhyiDWzgNqzLlv8GvTBZ8WUsPuwzMtSz8zVF3fFVcMZuR5ewlr1DdUi-_CLvQqz2GC3CG6keP6RCR-N7pr2jSnfPaG8Se5LyLZ9QCaNKUSmtwvBcmpsvNIwrjxedGQRM_Cl8NRMl773cFpZTj6CB7ZiCC0SejBBCtu-ec29K3t_TTd17c5LDAEOafpqmgUY2ky_JIYmY5XmBF_-k0jmtTHFGAqifnMOI486Ol_j29ysh6TOF6JJR0jKLvrdz_EByFCPNh6M65kdW7KngFdQXbSEOarW4k31THUXx91Zmwh0zZyxZc'}     hey ->>>>>>>>>>>>>>>>>>>>>>>>>\n",
      "{'domain': '.linkedin.com', 'expiry': 1718288529, 'httpOnly': False, 'name': 'li_sugr', 'path': '/', 'sameSite': 'None', 'secure': True, 'value': 'bb78a1f9-3227-4ca5-aa5b-e1e0ee87109f'}     hey ->>>>>>>>>>>>>>>>>>>>>>>>>\n",
      "{'domain': '.www.linkedin.com', 'expiry': 1726064497, 'httpOnly': False, 'name': 'li_theme_set', 'path': '/', 'sameSite': 'Lax', 'secure': True, 'value': 'app'}     hey ->>>>>>>>>>>>>>>>>>>>>>>>>\n",
      "{'domain': '.www.linkedin.com', 'expiry': 1726064497, 'httpOnly': False, 'name': 'li_theme', 'path': '/', 'sameSite': 'Lax', 'secure': True, 'value': 'light'}     hey ->>>>>>>>>>>>>>>>>>>>>>>>>\n",
      "{'domain': '.www.linkedin.com', 'expiry': 1711722097, 'httpOnly': False, 'name': 'timezone', 'path': '/', 'sameSite': 'Lax', 'secure': True, 'value': 'Asia/Calcutta'}     hey ->>>>>>>>>>>>>>>>>>>>>>>>>\n",
      "{'domain': '.linkedin.com', 'expiry': 1710551748, 'httpOnly': False, 'name': 'lidc', 'path': '/', 'sameSite': 'None', 'secure': True, 'value': '\"b=OB67:s=O:r=O:a=O:p=O:g=3526:u=582:x=1:i=1710512523:t=1710551737:v=2:sig=AQHPxLYeBu2Q8vfQkmeoJo1w3V8rXdPM\"'}     hey ->>>>>>>>>>>>>>>>>>>>>>>>>\n",
      "{'domain': '.www.linkedin.com', 'expiry': 1718288457, 'httpOnly': False, 'name': 'JSESSIONID', 'path': '/', 'sameSite': 'None', 'secure': True, 'value': '\"ajax:7246302928461418701\"'}     hey ->>>>>>>>>>>>>>>>>>>>>>>>>\n",
      "{'domain': '.www.linkedin.com', 'expiry': 1742048457, 'httpOnly': True, 'name': 'li_rm', 'path': '/', 'sameSite': 'None', 'secure': True, 'value': 'AQFh6vRvHHdUiAAAAY5CfDwzN6VATDzKzt7o5zkUQwUqivESZ2hE1qd5PMmGOjA78hnKGLvMquv9Hjg2CZL3S2AqcfZNINW6OIA_nHHfWEuM0HFL72lOIiTu'}     hey ->>>>>>>>>>>>>>>>>>>>>>>>>\n",
      "{'domain': '.www.linkedin.com', 'expiry': 1742048457, 'httpOnly': True, 'name': 'li_at', 'path': '/', 'sameSite': 'None', 'secure': True, 'value': 'AQEDAStuEgsFfnASAAABjkJ8oXgAAAGOZokleFYAvjSbSK6PKivNSHfZ-5ytQlFD7xFAiSSo14SSMS_9zvGY6b6TIFSD-2Jy9wwb8KJrTRAZw_2WtR7tTTC-K5dGC9XGj3hqar6SmKfP4E7sKALAZarT'}     hey ->>>>>>>>>>>>>>>>>>>>>>>>>\n",
      "{'domain': '.linkedin.com', 'expiry': 1742048530, 'httpOnly': False, 'name': 'bcookie', 'path': '/', 'sameSite': 'None', 'secure': True, 'value': '\"v=2&116e6ac4-e500-47ff-8561-fc2e851ca676\"'}     hey ->>>>>>>>>>>>>>>>>>>>>>>>>\n"
     ]
    },
    {
     "ename": "NoSuchWindowException",
     "evalue": "Message: no such window: target window already closed\nfrom unknown error: web view not found\n  (Session info: chrome=122.0.6261.129)\nStacktrace:\n\tGetHandleVerifier [0x00007FF7E485AD02+56930]\n\t(No symbol) [0x00007FF7E47CF602]\n\t(No symbol) [0x00007FF7E46842E5]\n\t(No symbol) [0x00007FF7E4661D4C]\n\t(No symbol) [0x00007FF7E46F23F7]\n\t(No symbol) [0x00007FF7E4707891]\n\t(No symbol) [0x00007FF7E46EBA43]\n\t(No symbol) [0x00007FF7E46BD438]\n\t(No symbol) [0x00007FF7E46BE4D1]\n\tGetHandleVerifier [0x00007FF7E4BD6F8D+3711213]\n\tGetHandleVerifier [0x00007FF7E4C304CD+4077101]\n\tGetHandleVerifier [0x00007FF7E4C2865F+4044735]\n\tGetHandleVerifier [0x00007FF7E48F9736+706710]\n\t(No symbol) [0x00007FF7E47DB8DF]\n\t(No symbol) [0x00007FF7E47D6AC4]\n\t(No symbol) [0x00007FF7E47D6C1C]\n\t(No symbol) [0x00007FF7E47C68D4]\n\tBaseThreadInitThunk [0x00007FFC1A9C257D+29]\n\tRtlUserThreadStart [0x00007FFC1BEEAA58+40]\n",
     "output_type": "error",
     "traceback": [
      "\u001b[1;31m---------------------------------------------------------------------------\u001b[0m",
      "\u001b[1;31mNoSuchWindowException\u001b[0m                     Traceback (most recent call last)",
      "Cell \u001b[1;32mIn[4], line 5\u001b[0m\n\u001b[0;32m      3\u001b[0m proxy_username \u001b[38;5;241m=\u001b[39m  \u001b[38;5;124m'\u001b[39m\u001b[38;5;124mnewsonio\u001b[39m\u001b[38;5;124m'\u001b[39m \n\u001b[0;32m      4\u001b[0m proxy_password \u001b[38;5;241m=\u001b[39m  \u001b[38;5;124m'\u001b[39m\u001b[38;5;124mnewsonio\u001b[39m\u001b[38;5;124m'\u001b[39m\n\u001b[1;32m----> 5\u001b[0m driver \u001b[38;5;241m=\u001b[39m \u001b[38;5;28;01mawait\u001b[39;00m openBrowserUserCookies(cookies, proxy_address, proxy_port, proxy_username, proxy_password)\n",
      "Cell \u001b[1;32mIn[3], line 26\u001b[0m, in \u001b[0;36mopenBrowserUserCookies\u001b[1;34m(cookies, proxy_address, proxy_port, proxy_username, proxy_password)\u001b[0m\n\u001b[0;32m     24\u001b[0m \u001b[38;5;28;01mfor\u001b[39;00m cookie \u001b[38;5;129;01min\u001b[39;00m cookies:\n\u001b[0;32m     25\u001b[0m     \u001b[38;5;28mprint\u001b[39m(cookie, \u001b[38;5;124m\"\u001b[39m\u001b[38;5;124m    hey ->>>>>>>>>>>>>>>>>>>>>>>>>\u001b[39m\u001b[38;5;124m\"\u001b[39m)\n\u001b[1;32m---> 26\u001b[0m     \u001b[43mdriver\u001b[49m\u001b[38;5;241;43m.\u001b[39;49m\u001b[43madd_cookie\u001b[49m\u001b[43m(\u001b[49m\u001b[43mcookie\u001b[49m\u001b[43m)\u001b[49m\n\u001b[0;32m     27\u001b[0m     driver\u001b[38;5;241m.\u001b[39mget(\u001b[38;5;124m'\u001b[39m\u001b[38;5;124mhttps://www.linkedin.com/\u001b[39m\u001b[38;5;124m'\u001b[39m)\n\u001b[0;32m     28\u001b[0m     time\u001b[38;5;241m.\u001b[39msleep(\u001b[38;5;241m3\u001b[39m)\n",
      "File \u001b[1;32mc:\\Python311\\Lib\\site-packages\\selenium\\webdriver\\remote\\webdriver.py:631\u001b[0m, in \u001b[0;36mWebDriver.add_cookie\u001b[1;34m(self, cookie_dict)\u001b[0m\n\u001b[0;32m    629\u001b[0m \u001b[38;5;28;01mif\u001b[39;00m \u001b[38;5;124m\"\u001b[39m\u001b[38;5;124msameSite\u001b[39m\u001b[38;5;124m\"\u001b[39m \u001b[38;5;129;01min\u001b[39;00m cookie_dict:\n\u001b[0;32m    630\u001b[0m     \u001b[38;5;28;01massert\u001b[39;00m cookie_dict[\u001b[38;5;124m\"\u001b[39m\u001b[38;5;124msameSite\u001b[39m\u001b[38;5;124m\"\u001b[39m] \u001b[38;5;129;01min\u001b[39;00m [\u001b[38;5;124m\"\u001b[39m\u001b[38;5;124mStrict\u001b[39m\u001b[38;5;124m\"\u001b[39m, \u001b[38;5;124m\"\u001b[39m\u001b[38;5;124mLax\u001b[39m\u001b[38;5;124m\"\u001b[39m, \u001b[38;5;124m\"\u001b[39m\u001b[38;5;124mNone\u001b[39m\u001b[38;5;124m\"\u001b[39m]\n\u001b[1;32m--> 631\u001b[0m     \u001b[38;5;28;43mself\u001b[39;49m\u001b[38;5;241;43m.\u001b[39;49m\u001b[43mexecute\u001b[49m\u001b[43m(\u001b[49m\u001b[43mCommand\u001b[49m\u001b[38;5;241;43m.\u001b[39;49m\u001b[43mADD_COOKIE\u001b[49m\u001b[43m,\u001b[49m\u001b[43m \u001b[49m\u001b[43m{\u001b[49m\u001b[38;5;124;43m\"\u001b[39;49m\u001b[38;5;124;43mcookie\u001b[39;49m\u001b[38;5;124;43m\"\u001b[39;49m\u001b[43m:\u001b[49m\u001b[43m \u001b[49m\u001b[43mcookie_dict\u001b[49m\u001b[43m}\u001b[49m\u001b[43m)\u001b[49m\n\u001b[0;32m    632\u001b[0m \u001b[38;5;28;01melse\u001b[39;00m:\n\u001b[0;32m    633\u001b[0m     \u001b[38;5;28mself\u001b[39m\u001b[38;5;241m.\u001b[39mexecute(Command\u001b[38;5;241m.\u001b[39mADD_COOKIE, {\u001b[38;5;124m\"\u001b[39m\u001b[38;5;124mcookie\u001b[39m\u001b[38;5;124m\"\u001b[39m: cookie_dict})\n",
      "File \u001b[1;32mc:\\Python311\\Lib\\site-packages\\selenium\\webdriver\\remote\\webdriver.py:344\u001b[0m, in \u001b[0;36mWebDriver.execute\u001b[1;34m(self, driver_command, params)\u001b[0m\n\u001b[0;32m    342\u001b[0m response \u001b[38;5;241m=\u001b[39m \u001b[38;5;28mself\u001b[39m\u001b[38;5;241m.\u001b[39mcommand_executor\u001b[38;5;241m.\u001b[39mexecute(driver_command, params)\n\u001b[0;32m    343\u001b[0m \u001b[38;5;28;01mif\u001b[39;00m response:\n\u001b[1;32m--> 344\u001b[0m     \u001b[38;5;28;43mself\u001b[39;49m\u001b[38;5;241;43m.\u001b[39;49m\u001b[43merror_handler\u001b[49m\u001b[38;5;241;43m.\u001b[39;49m\u001b[43mcheck_response\u001b[49m\u001b[43m(\u001b[49m\u001b[43mresponse\u001b[49m\u001b[43m)\u001b[49m\n\u001b[0;32m    345\u001b[0m     response[\u001b[38;5;124m\"\u001b[39m\u001b[38;5;124mvalue\u001b[39m\u001b[38;5;124m\"\u001b[39m] \u001b[38;5;241m=\u001b[39m \u001b[38;5;28mself\u001b[39m\u001b[38;5;241m.\u001b[39m_unwrap_value(response\u001b[38;5;241m.\u001b[39mget(\u001b[38;5;124m\"\u001b[39m\u001b[38;5;124mvalue\u001b[39m\u001b[38;5;124m\"\u001b[39m, \u001b[38;5;28;01mNone\u001b[39;00m))\n\u001b[0;32m    346\u001b[0m     \u001b[38;5;28;01mreturn\u001b[39;00m response\n",
      "File \u001b[1;32mc:\\Python311\\Lib\\site-packages\\selenium\\webdriver\\remote\\errorhandler.py:229\u001b[0m, in \u001b[0;36mErrorHandler.check_response\u001b[1;34m(self, response)\u001b[0m\n\u001b[0;32m    227\u001b[0m         alert_text \u001b[38;5;241m=\u001b[39m value[\u001b[38;5;124m\"\u001b[39m\u001b[38;5;124malert\u001b[39m\u001b[38;5;124m\"\u001b[39m]\u001b[38;5;241m.\u001b[39mget(\u001b[38;5;124m\"\u001b[39m\u001b[38;5;124mtext\u001b[39m\u001b[38;5;124m\"\u001b[39m)\n\u001b[0;32m    228\u001b[0m     \u001b[38;5;28;01mraise\u001b[39;00m exception_class(message, screen, stacktrace, alert_text)  \u001b[38;5;66;03m# type: ignore[call-arg]  # mypy is not smart enough here\u001b[39;00m\n\u001b[1;32m--> 229\u001b[0m \u001b[38;5;28;01mraise\u001b[39;00m exception_class(message, screen, stacktrace)\n",
      "\u001b[1;31mNoSuchWindowException\u001b[0m: Message: no such window: target window already closed\nfrom unknown error: web view not found\n  (Session info: chrome=122.0.6261.129)\nStacktrace:\n\tGetHandleVerifier [0x00007FF7E485AD02+56930]\n\t(No symbol) [0x00007FF7E47CF602]\n\t(No symbol) [0x00007FF7E46842E5]\n\t(No symbol) [0x00007FF7E4661D4C]\n\t(No symbol) [0x00007FF7E46F23F7]\n\t(No symbol) [0x00007FF7E4707891]\n\t(No symbol) [0x00007FF7E46EBA43]\n\t(No symbol) [0x00007FF7E46BD438]\n\t(No symbol) [0x00007FF7E46BE4D1]\n\tGetHandleVerifier [0x00007FF7E4BD6F8D+3711213]\n\tGetHandleVerifier [0x00007FF7E4C304CD+4077101]\n\tGetHandleVerifier [0x00007FF7E4C2865F+4044735]\n\tGetHandleVerifier [0x00007FF7E48F9736+706710]\n\t(No symbol) [0x00007FF7E47DB8DF]\n\t(No symbol) [0x00007FF7E47D6AC4]\n\t(No symbol) [0x00007FF7E47D6C1C]\n\t(No symbol) [0x00007FF7E47C68D4]\n\tBaseThreadInitThunk [0x00007FFC1A9C257D+29]\n\tRtlUserThreadStart [0x00007FFC1BEEAA58+40]\n"
     ]
    }
   ],
   "source": [
    "proxy_address = '104.167.10.132'\n",
    "proxy_port = '5200'\n",
    "proxy_username =  'newsonio' \n",
    "proxy_password =  'newsonio'\n",
    "driver = await openBrowserUserCookies(cookies, proxy_address, proxy_port, proxy_username, proxy_password)"
   ]
  },
  {
   "cell_type": "code",
   "execution_count": 6,
   "metadata": {},
   "outputs": [
    {
     "name": "stderr",
     "output_type": "stream",
     "text": [
      "127.0.0.1:59175: Traceback (most recent call last):\n",
      "  File \"c:\\Python311\\Lib\\site-packages\\seleniumwire\\thirdparty\\mitmproxy\\net\\tcp.py\", line 94, in write\n",
      "    r = self.o.write(v)\n",
      "        ^^^^^^^^^^^^^^^\n",
      "  File \"c:\\Python311\\Lib\\socket.py\", line 724, in write\n",
      "    return self._sock.send(b)\n",
      "           ^^^^^^^^^^^^^^^^^^\n",
      "ConnectionAbortedError: [WinError 10053] An established connection was aborted by the software in your host machine\n",
      "\n",
      "During handling of the above exception, another exception occurred:\n",
      "\n",
      "Traceback (most recent call last):\n",
      "  File \"c:\\Python311\\Lib\\site-packages\\seleniumwire\\thirdparty\\mitmproxy\\server\\server.py\", line 113, in handle\n",
      "    root_layer()\n",
      "  File \"c:\\Python311\\Lib\\site-packages\\seleniumwire\\thirdparty\\mitmproxy\\server\\modes\\http_proxy.py\", line 23, in __call__\n",
      "    layer()\n",
      "  File \"c:\\Python311\\Lib\\site-packages\\seleniumwire\\thirdparty\\mitmproxy\\server\\protocol\\tls.py\", line 285, in __call__\n",
      "    layer()\n",
      "  File \"c:\\Python311\\Lib\\site-packages\\seleniumwire\\thirdparty\\mitmproxy\\server\\protocol\\http1.py\", line 100, in __call__\n",
      "    layer()\n",
      "  File \"c:\\Python311\\Lib\\site-packages\\seleniumwire\\thirdparty\\mitmproxy\\server\\protocol\\http.py\", line 206, in __call__\n",
      "    if not self._process_flow(flow):\n",
      "           ^^^^^^^^^^^^^^^^^^^^^^^^\n",
      "  File \"c:\\Python311\\Lib\\site-packages\\seleniumwire\\thirdparty\\mitmproxy\\server\\protocol\\http.py\", line 288, in _process_flow\n",
      "    return self.handle_upstream_connect(f)\n",
      "           ^^^^^^^^^^^^^^^^^^^^^^^^^^^^^^^\n",
      "  File \"c:\\Python311\\Lib\\site-packages\\seleniumwire\\thirdparty\\mitmproxy\\server\\protocol\\http.py\", line 251, in handle_upstream_connect\n",
      "    self.send_response(f.response)\n",
      "  File \"c:\\Python311\\Lib\\site-packages\\seleniumwire\\thirdparty\\mitmproxy\\server\\protocol\\http.py\", line 54, in send_response\n",
      "    self.send_response_body(response, [response.data.content])\n",
      "  File \"c:\\Python311\\Lib\\site-packages\\seleniumwire\\thirdparty\\mitmproxy\\server\\protocol\\http1.py\", line 72, in send_response_body\n",
      "    self.client_conn.wfile.write(chunk)\n",
      "  File \"c:\\Python311\\Lib\\site-packages\\seleniumwire\\thirdparty\\mitmproxy\\net\\tcp.py\", line 98, in write\n",
      "    raise exceptions.TcpDisconnect(str(e))\n",
      "seleniumwire.thirdparty.mitmproxy.exceptions.TcpDisconnect: [WinError 10053] An established connection was aborted by the software in your host machine\n",
      "\n",
      "127.0.0.1:59270: Traceback (most recent call last):\n",
      "  File \"c:\\Python311\\Lib\\site-packages\\seleniumwire\\thirdparty\\mitmproxy\\net\\tcp.py\", line 94, in write\n",
      "    r = self.o.write(v)\n",
      "        ^^^^^^^^^^^^^^^\n",
      "  File \"c:\\Python311\\Lib\\socket.py\", line 724, in write\n",
      "    return self._sock.send(b)\n",
      "           ^^^^^^^^^^^^^^^^^^\n",
      "ConnectionAbortedError: [WinError 10053] An established connection was aborted by the software in your host machine\n",
      "\n",
      "During handling of the above exception, another exception occurred:\n",
      "\n",
      "Traceback (most recent call last):\n",
      "  File \"c:\\Python311\\Lib\\site-packages\\seleniumwire\\thirdparty\\mitmproxy\\server\\server.py\", line 113, in handle\n",
      "    root_layer()\n",
      "  File \"c:\\Python311\\Lib\\site-packages\\seleniumwire\\thirdparty\\mitmproxy\\server\\modes\\http_proxy.py\", line 23, in __call__\n",
      "    layer()\n",
      "  File \"c:\\Python311\\Lib\\site-packages\\seleniumwire\\thirdparty\\mitmproxy\\server\\protocol\\tls.py\", line 285, in __call__\n",
      "    layer()\n",
      "  File \"c:\\Python311\\Lib\\site-packages\\seleniumwire\\thirdparty\\mitmproxy\\server\\protocol\\http1.py\", line 100, in __call__\n",
      "    layer()\n",
      "  File \"c:\\Python311\\Lib\\site-packages\\seleniumwire\\thirdparty\\mitmproxy\\server\\protocol\\http.py\", line 206, in __call__\n",
      "    if not self._process_flow(flow):\n",
      "           ^^^^^^^^^^^^^^^^^^^^^^^^\n",
      "  File \"c:\\Python311\\Lib\\site-packages\\seleniumwire\\thirdparty\\mitmproxy\\server\\protocol\\http.py\", line 288, in _process_flow\n",
      "    return self.handle_upstream_connect(f)\n",
      "           ^^^^^^^^^^^^^^^^^^^^^^^^^^^^^^^\n",
      "  File \"c:\\Python311\\Lib\\site-packages\\seleniumwire\\thirdparty\\mitmproxy\\server\\protocol\\http.py\", line 251, in handle_upstream_connect\n",
      "    self.send_response(f.response)\n",
      "  File \"c:\\Python311\\Lib\\site-packages\\seleniumwire\\thirdparty\\mitmproxy\\server\\protocol\\http.py\", line 54, in send_response\n",
      "    self.send_response_body(response, [response.data.content])\n",
      "  File \"c:\\Python311\\Lib\\site-packages\\seleniumwire\\thirdparty\\mitmproxy\\server\\protocol\\http1.py\", line 72, in send_response_body\n",
      "    self.client_conn.wfile.write(chunk)\n",
      "  File \"c:\\Python311\\Lib\\site-packages\\seleniumwire\\thirdparty\\mitmproxy\\net\\tcp.py\", line 98, in write\n",
      "    raise exceptions.TcpDisconnect(str(e))\n",
      "seleniumwire.thirdparty.mitmproxy.exceptions.TcpDisconnect: [WinError 10053] An established connection was aborted by the software in your host machine\n",
      "\n",
      "127.0.0.1:59301: Traceback (most recent call last):\n",
      "  File \"c:\\Python311\\Lib\\site-packages\\seleniumwire\\thirdparty\\mitmproxy\\net\\tcp.py\", line 94, in write\n",
      "    r = self.o.write(v)\n",
      "        ^^^^^^^^^^^^^^^\n",
      "  File \"c:\\Python311\\Lib\\socket.py\", line 724, in write\n",
      "    return self._sock.send(b)\n",
      "           ^^^^^^^^^^^^^^^^^^\n",
      "ConnectionAbortedError: [WinError 10053] An established connection was aborted by the software in your host machine\n",
      "\n",
      "During handling of the above exception, another exception occurred:\n",
      "\n",
      "Traceback (most recent call last):\n",
      "  File \"c:\\Python311\\Lib\\site-packages\\seleniumwire\\thirdparty\\mitmproxy\\server\\server.py\", line 113, in handle\n",
      "    root_layer()\n",
      "  File \"c:\\Python311\\Lib\\site-packages\\seleniumwire\\thirdparty\\mitmproxy\\server\\modes\\http_proxy.py\", line 23, in __call__\n",
      "    layer()\n",
      "  File \"c:\\Python311\\Lib\\site-packages\\seleniumwire\\thirdparty\\mitmproxy\\server\\protocol\\tls.py\", line 285, in __call__\n",
      "    layer()\n",
      "  File \"c:\\Python311\\Lib\\site-packages\\seleniumwire\\thirdparty\\mitmproxy\\server\\protocol\\http1.py\", line 100, in __call__\n",
      "    layer()\n",
      "  File \"c:\\Python311\\Lib\\site-packages\\seleniumwire\\thirdparty\\mitmproxy\\server\\protocol\\http.py\", line 206, in __call__\n",
      "    if not self._process_flow(flow):\n",
      "           ^^^^^^^^^^^^^^^^^^^^^^^^\n",
      "  File \"c:\\Python311\\Lib\\site-packages\\seleniumwire\\thirdparty\\mitmproxy\\server\\protocol\\http.py\", line 288, in _process_flow\n",
      "    return self.handle_upstream_connect(f)\n",
      "           ^^^^^^^^^^^^^^^^^^^^^^^^^^^^^^^\n",
      "  File \"c:\\Python311\\Lib\\site-packages\\seleniumwire\\thirdparty\\mitmproxy\\server\\protocol\\http.py\", line 251, in handle_upstream_connect\n",
      "    self.send_response(f.response)\n",
      "  File \"c:\\Python311\\Lib\\site-packages\\seleniumwire\\thirdparty\\mitmproxy\\server\\protocol\\http.py\", line 54, in send_response\n",
      "    self.send_response_body(response, [response.data.content])\n",
      "  File \"c:\\Python311\\Lib\\site-packages\\seleniumwire\\thirdparty\\mitmproxy\\server\\protocol\\http1.py\", line 72, in send_response_body\n",
      "    self.client_conn.wfile.write(chunk)\n",
      "  File \"c:\\Python311\\Lib\\site-packages\\seleniumwire\\thirdparty\\mitmproxy\\net\\tcp.py\", line 98, in write\n",
      "    raise exceptions.TcpDisconnect(str(e))\n",
      "seleniumwire.thirdparty.mitmproxy.exceptions.TcpDisconnect: [WinError 10053] An established connection was aborted by the software in your host machine\n",
      "\n"
     ]
    }
   ],
   "source": [
    "driver.get('https://www.linkedin.com/')"
   ]
  },
  {
   "cell_type": "code",
   "execution_count": null,
   "metadata": {},
   "outputs": [],
   "source": []
  }
 ],
 "metadata": {
  "kernelspec": {
   "display_name": "Python 3",
   "language": "python",
   "name": "python3"
  },
  "language_info": {
   "codemirror_mode": {
    "name": "ipython",
    "version": 3
   },
   "file_extension": ".py",
   "mimetype": "text/x-python",
   "name": "python",
   "nbconvert_exporter": "python",
   "pygments_lexer": "ipython3",
   "version": "3.11.5"
  }
 },
 "nbformat": 4,
 "nbformat_minor": 2
}
