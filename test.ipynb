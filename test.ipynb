{
 "cells": [
  {
   "cell_type": "markdown",
   "metadata": {},
   "source": []
  },
  {
   "cell_type": "code",
   "execution_count": 47,
   "metadata": {},
   "outputs": [],
   "source": [
    "from seleniumwire import webdriver\n",
    "import time\n",
    "from seleniumwire import webdriver\n",
    "from selenium.webdriver.chrome.options import Options\n",
    "user =  'tszuwnnm'\n",
    "password ='g0q5bywh7j1l'\n",
    "ip = '38.154.227.167' \n",
    "port = '5868'\n",
    "from selenium.webdriver.common.keys import Keys\n",
    "from selenium.webdriver.common.by import By\n",
    "from selenium.webdriver.chrome.options import Options\n",
    "from selenium.webdriver.support.ui import WebDriverWait\n",
    "from selenium.webdriver.support import expected_conditions as EC\n",
    "import time , random    \n",
    "from bs4 import BeautifulSoup\n"
   ]
  },
  {
   "cell_type": "code",
   "execution_count": 8,
   "metadata": {},
   "outputs": [],
   "source": [
    "driver.get('https://www.google.com')"
   ]
  },
  {
   "cell_type": "code",
   "execution_count": 11,
   "metadata": {},
   "outputs": [],
   "source": [
    "driver.get('https://whatismyipaddress.com')"
   ]
  },
  {
   "cell_type": "code",
   "execution_count": 2,
   "metadata": {},
   "outputs": [
    {
     "ename": "WebDriverException",
     "evalue": "Message: unknown error: net::ERR_TUNNEL_CONNECTION_FAILED\n  (Session info: chrome=122.0.6261.129)\nStacktrace:\n\tGetHandleVerifier [0x00007FF7E485AD02+56930]\n\t(No symbol) [0x00007FF7E47CF602]\n\t(No symbol) [0x00007FF7E46842E5]\n\t(No symbol) [0x00007FF7E468011A]\n\t(No symbol) [0x00007FF7E46729F4]\n\t(No symbol) [0x00007FF7E4673D29]\n\t(No symbol) [0x00007FF7E4672CF3]\n\t(No symbol) [0x00007FF7E4671EF4]\n\t(No symbol) [0x00007FF7E4671E11]\n\t(No symbol) [0x00007FF7E4670625]\n\t(No symbol) [0x00007FF7E4670EDC]\n\t(No symbol) [0x00007FF7E46869FD]\n\t(No symbol) [0x00007FF7E4708B47]\n\t(No symbol) [0x00007FF7E46EBC9A]\n\t(No symbol) [0x00007FF7E47081E2]\n\t(No symbol) [0x00007FF7E46EBA43]\n\t(No symbol) [0x00007FF7E46BD438]\n\t(No symbol) [0x00007FF7E46BE4D1]\n\tGetHandleVerifier [0x00007FF7E4BD6F8D+3711213]\n\tGetHandleVerifier [0x00007FF7E4C304CD+4077101]\n\tGetHandleVerifier [0x00007FF7E4C2865F+4044735]\n\tGetHandleVerifier [0x00007FF7E48F9736+706710]\n\t(No symbol) [0x00007FF7E47DB8DF]\n\t(No symbol) [0x00007FF7E47D6AC4]\n\t(No symbol) [0x00007FF7E47D6C1C]\n\t(No symbol) [0x00007FF7E47C68D4]\n\tBaseThreadInitThunk [0x00007FFC1A9C257D+29]\n\tRtlUserThreadStart [0x00007FFC1BEEAA58+40]\n",
     "output_type": "error",
     "traceback": [
      "\u001b[1;31m---------------------------------------------------------------------------\u001b[0m",
      "\u001b[1;31mWebDriverException\u001b[0m                        Traceback (most recent call last)",
      "Cell \u001b[1;32mIn[2], line 42\u001b[0m\n\u001b[0;32m     39\u001b[0m options\u001b[38;5;241m.\u001b[39madd_argument(\u001b[38;5;124m\"\u001b[39m\u001b[38;5;124m--disable-blink-features=AutomationControlled\u001b[39m\u001b[38;5;124m\"\u001b[39m)\n\u001b[0;32m     41\u001b[0m driver \u001b[38;5;241m=\u001b[39m webdriver\u001b[38;5;241m.\u001b[39mChrome(seleniumwire_options\u001b[38;5;241m=\u001b[39mproxy, chrome_options\u001b[38;5;241m=\u001b[39moptions)\n\u001b[1;32m---> 42\u001b[0m \u001b[43mdriver\u001b[49m\u001b[38;5;241;43m.\u001b[39;49m\u001b[43mget\u001b[49m\u001b[43m(\u001b[49m\u001b[38;5;124;43m'\u001b[39;49m\u001b[38;5;124;43mhttps://www.linkedin.com/\u001b[39;49m\u001b[38;5;124;43m'\u001b[39;49m\u001b[43m)\u001b[49m\n",
      "File \u001b[1;32mc:\\Python311\\Lib\\site-packages\\selenium\\webdriver\\remote\\webdriver.py:353\u001b[0m, in \u001b[0;36mWebDriver.get\u001b[1;34m(self, url)\u001b[0m\n\u001b[0;32m    351\u001b[0m \u001b[38;5;28;01mdef\u001b[39;00m \u001b[38;5;21mget\u001b[39m(\u001b[38;5;28mself\u001b[39m, url: \u001b[38;5;28mstr\u001b[39m) \u001b[38;5;241m-\u001b[39m\u001b[38;5;241m>\u001b[39m \u001b[38;5;28;01mNone\u001b[39;00m:\n\u001b[0;32m    352\u001b[0m \u001b[38;5;250m    \u001b[39m\u001b[38;5;124;03m\"\"\"Loads a web page in the current browser session.\"\"\"\u001b[39;00m\n\u001b[1;32m--> 353\u001b[0m     \u001b[38;5;28;43mself\u001b[39;49m\u001b[38;5;241;43m.\u001b[39;49m\u001b[43mexecute\u001b[49m\u001b[43m(\u001b[49m\u001b[43mCommand\u001b[49m\u001b[38;5;241;43m.\u001b[39;49m\u001b[43mGET\u001b[49m\u001b[43m,\u001b[49m\u001b[43m \u001b[49m\u001b[43m{\u001b[49m\u001b[38;5;124;43m\"\u001b[39;49m\u001b[38;5;124;43murl\u001b[39;49m\u001b[38;5;124;43m\"\u001b[39;49m\u001b[43m:\u001b[49m\u001b[43m \u001b[49m\u001b[43murl\u001b[49m\u001b[43m}\u001b[49m\u001b[43m)\u001b[49m\n",
      "File \u001b[1;32mc:\\Python311\\Lib\\site-packages\\selenium\\webdriver\\remote\\webdriver.py:344\u001b[0m, in \u001b[0;36mWebDriver.execute\u001b[1;34m(self, driver_command, params)\u001b[0m\n\u001b[0;32m    342\u001b[0m response \u001b[38;5;241m=\u001b[39m \u001b[38;5;28mself\u001b[39m\u001b[38;5;241m.\u001b[39mcommand_executor\u001b[38;5;241m.\u001b[39mexecute(driver_command, params)\n\u001b[0;32m    343\u001b[0m \u001b[38;5;28;01mif\u001b[39;00m response:\n\u001b[1;32m--> 344\u001b[0m     \u001b[38;5;28;43mself\u001b[39;49m\u001b[38;5;241;43m.\u001b[39;49m\u001b[43merror_handler\u001b[49m\u001b[38;5;241;43m.\u001b[39;49m\u001b[43mcheck_response\u001b[49m\u001b[43m(\u001b[49m\u001b[43mresponse\u001b[49m\u001b[43m)\u001b[49m\n\u001b[0;32m    345\u001b[0m     response[\u001b[38;5;124m\"\u001b[39m\u001b[38;5;124mvalue\u001b[39m\u001b[38;5;124m\"\u001b[39m] \u001b[38;5;241m=\u001b[39m \u001b[38;5;28mself\u001b[39m\u001b[38;5;241m.\u001b[39m_unwrap_value(response\u001b[38;5;241m.\u001b[39mget(\u001b[38;5;124m\"\u001b[39m\u001b[38;5;124mvalue\u001b[39m\u001b[38;5;124m\"\u001b[39m, \u001b[38;5;28;01mNone\u001b[39;00m))\n\u001b[0;32m    346\u001b[0m     \u001b[38;5;28;01mreturn\u001b[39;00m response\n",
      "File \u001b[1;32mc:\\Python311\\Lib\\site-packages\\selenium\\webdriver\\remote\\errorhandler.py:229\u001b[0m, in \u001b[0;36mErrorHandler.check_response\u001b[1;34m(self, response)\u001b[0m\n\u001b[0;32m    227\u001b[0m         alert_text \u001b[38;5;241m=\u001b[39m value[\u001b[38;5;124m\"\u001b[39m\u001b[38;5;124malert\u001b[39m\u001b[38;5;124m\"\u001b[39m]\u001b[38;5;241m.\u001b[39mget(\u001b[38;5;124m\"\u001b[39m\u001b[38;5;124mtext\u001b[39m\u001b[38;5;124m\"\u001b[39m)\n\u001b[0;32m    228\u001b[0m     \u001b[38;5;28;01mraise\u001b[39;00m exception_class(message, screen, stacktrace, alert_text)  \u001b[38;5;66;03m# type: ignore[call-arg]  # mypy is not smart enough here\u001b[39;00m\n\u001b[1;32m--> 229\u001b[0m \u001b[38;5;28;01mraise\u001b[39;00m exception_class(message, screen, stacktrace)\n",
      "\u001b[1;31mWebDriverException\u001b[0m: Message: unknown error: net::ERR_TUNNEL_CONNECTION_FAILED\n  (Session info: chrome=122.0.6261.129)\nStacktrace:\n\tGetHandleVerifier [0x00007FF7E485AD02+56930]\n\t(No symbol) [0x00007FF7E47CF602]\n\t(No symbol) [0x00007FF7E46842E5]\n\t(No symbol) [0x00007FF7E468011A]\n\t(No symbol) [0x00007FF7E46729F4]\n\t(No symbol) [0x00007FF7E4673D29]\n\t(No symbol) [0x00007FF7E4672CF3]\n\t(No symbol) [0x00007FF7E4671EF4]\n\t(No symbol) [0x00007FF7E4671E11]\n\t(No symbol) [0x00007FF7E4670625]\n\t(No symbol) [0x00007FF7E4670EDC]\n\t(No symbol) [0x00007FF7E46869FD]\n\t(No symbol) [0x00007FF7E4708B47]\n\t(No symbol) [0x00007FF7E46EBC9A]\n\t(No symbol) [0x00007FF7E47081E2]\n\t(No symbol) [0x00007FF7E46EBA43]\n\t(No symbol) [0x00007FF7E46BD438]\n\t(No symbol) [0x00007FF7E46BE4D1]\n\tGetHandleVerifier [0x00007FF7E4BD6F8D+3711213]\n\tGetHandleVerifier [0x00007FF7E4C304CD+4077101]\n\tGetHandleVerifier [0x00007FF7E4C2865F+4044735]\n\tGetHandleVerifier [0x00007FF7E48F9736+706710]\n\t(No symbol) [0x00007FF7E47DB8DF]\n\t(No symbol) [0x00007FF7E47D6AC4]\n\t(No symbol) [0x00007FF7E47D6C1C]\n\t(No symbol) [0x00007FF7E47C68D4]\n\tBaseThreadInitThunk [0x00007FFC1A9C257D+29]\n\tRtlUserThreadStart [0x00007FFC1BEEAA58+40]\n"
     ]
    }
   ],
   "source": [
    "import time\n",
    "from seleniumwire import webdriver\n",
    "from selenium.webdriver.chrome.options import Options\n",
    "\n",
    "proxies = [\n",
    "    (\"38.154.227.167\", 5868, \"tszuwnnm\", \"g0q5bywh7j1l\"),\n",
    "    (\"185.199.229.156\", 7492, \"tszuwnnm\", \"g0q5bywh7j1l\"),\n",
    "    (\"185.199.228.220\", 7300, \"tszuwnnm\", \"g0q5bywh7j1l\"),\n",
    "    (\"185.199.231.45\", 8382, \"tszuwnnm\", \"g0q5bywh7j1l\"),\n",
    "    (\"188.74.210.207\", 6286, \"tszuwnnm\", \"g0q5bywh7j1l\"),\n",
    "    (\"188.74.183.10\", 8279, \"tszuwnnm\", \"g0q5bywh7j1l\"),\n",
    "    (\"188.74.210.21\", 6100, \"tszuwnnm\", \"g0q5bywh7j1l\"),\n",
    "    (\"45.155.68.129\", 8133, \"tszuwnnm\", \"g0q5bywh7j1l\"),\n",
    "    (\"154.95.36.199\", 6893, \"tszuwnnm\", \"g0q5bywh7j1l\"),\n",
    "    (\"45.94.47.66\", 8110, \"tszuwnnm\", \"g0q5bywh7j1l\")\n",
    "]\n",
    "\n",
    "proxy_address = '104.167.10.132'\n",
    "proxy_port = '5200'\n",
    "proxy_username =  'tszuwnnm' \n",
    "proxy_password =  'g0q5bywh7j1l'\n",
    "proxy = {\n",
    "    'proxy': {\n",
    "        'https': f'https://{proxy_username}:{proxy_password}@{proxy_address}:{proxy_port}',\n",
    "    }\n",
    "}\n",
    "# user_agent = \"Mozilla/5.0 (Windows NT 10.0; Win64; x64) AppleWebKit/537.36 (KHTML, like Gecko) Chrome/58.0.3029.110 Safari/537.3\"\n",
    "options = Options()\n",
    "#options.add_argument(\"--headless\")\n",
    "# options.add_argument(f'user-agent={user_agent}')\n",
    "options.add_argument(\"--disable-gpu\")\n",
    "options.add_argument(\"--no-sandbox\")\n",
    "options.add_argument(\"--disable-dev-shm-usage\")\n",
    "options.add_argument(\"--disable-extensions\")\n",
    "options.add_argument(\"--disable-software-rasterizer\")\n",
    "# Enable automation features to make the browser look more like a real user\n",
    "options.add_experimental_option('excludeSwitches', ['enable-automation'])\n",
    "options.add_experimental_option('useAutomationExtension', False)\n",
    "options.add_argument(\"--disable-blink-features=AutomationControlled\")\n",
    "\n",
    "driver = webdriver.Chrome(seleniumwire_options=proxy, chrome_options=options)\n",
    "driver.get('https://www.linkedin.com/')"
   ]
  },
  {
   "cell_type": "code",
   "execution_count": 48,
   "metadata": {},
   "outputs": [],
   "source": [
    "async def openBrowser(proxy_address, proxy_port, proxy_username, proxy_password ):\n",
    "    options = Options()\n",
    "    proxy = {\n",
    "        'proxy': {\n",
    "            'https': f'https://{proxy_username}:{proxy_password}@{proxy_address}:{proxy_port}',\n",
    "        }\n",
    "    }\n",
    "    # user_agent = \"Mozilla/5.0 (Windows NT 10.0; Win64; x64) AppleWebKit/537.36 (KHTML, like Gecko) Chrome/58.0.3029.110 Safari/537.3\"\n",
    "    # options.add_argument(\"--headless\")\n",
    "    # options.add_argument(f'user-agent={user_agent}')\n",
    "    options.add_argument(\"--disable-gpu\")\n",
    "    options.add_argument(\"--no-sandbox\")\n",
    "    options.add_argument(\"--disable-dev-shm-usage\")\n",
    "    options.add_argument(\"--disable-extensions\")\n",
    "    options.add_argument(\"--disable-software-rasterizer\")\n",
    "    # Enable automation features to make the browser look more like a real user\n",
    "    options.add_experimental_option('excludeSwitches', ['enable-automation'])\n",
    "    options.add_experimental_option('useAutomationExtension', False)\n",
    "    options.add_argument(\"--disable-blink-features=AutomationControlled\")\n",
    "    if proxy_address == \"not\":\n",
    "        driver = webdriver.Chrome(options=options)\n",
    "        # driver.get('https://www.whatismypublicip.com/')\n",
    "        driver.set_window_size(1920, 1080)\n",
    "    else:\n",
    "        driver = webdriver.Chrome(seleniumwire_options=proxy,options=options)\n",
    "        # driver.get('https://www.whatismypublicip.com/')\n",
    "        driver.set_window_size(1920, 1080)\n",
    "    return driver"
   ]
  },
  {
   "cell_type": "code",
   "execution_count": 4,
   "metadata": {},
   "outputs": [],
   "source": [
    "proxy_address = '104.167.10.132'\n",
    "proxy_port = '5200'\n",
    "proxy_username =  'newsonio' \n",
    "proxy_password =  'newsonio'\n",
    "driver = await openBrowser(proxy_address, proxy_port, proxy_username, proxy_password)"
   ]
  },
  {
   "cell_type": "code",
   "execution_count": null,
   "metadata": {},
   "outputs": [
    {
     "name": "stderr",
     "output_type": "stream",
     "text": [
      "Invalid proxy server credentials supplied\n",
      "Invalid proxy server credentials supplied\n",
      "Invalid proxy server credentials supplied\n",
      "Invalid proxy server credentials supplied\n",
      "Invalid proxy server credentials supplied\n"
     ]
    }
   ],
   "source": [
    "driver.get('https://www.whatismypublicip.com/')"
   ]
  },
  {
   "cell_type": "code",
   "execution_count": 2,
   "metadata": {},
   "outputs": [],
   "source": [
    "cookies = [{'domain': '.linkedin.com', 'expiry': 1713104529, 'httpOnly': False, 'name': 'UserMatchHistory', 'path': '/', 'sameSite': 'None', 'secure': True, 'value': 'AQKA5uGVEfgKcgAAAY5CfbzhyiDWzgNqzLlv8GvTBZ8WUsPuwzMtSz8zVF3fFVcMZuR5ewlr1DdUi-_CLvQqz2GC3CG6keP6RCR-N7pr2jSnfPaG8Se5LyLZ9QCaNKUSmtwvBcmpsvNIwrjxedGQRM_Cl8NRMl773cFpZTj6CB7ZiCC0SejBBCtu-ec29K3t_TTd17c5LDAEOafpqmgUY2ky_JIYmY5XmBF_-k0jmtTHFGAqifnMOI486Ol_j29ysh6TOF6JJR0jKLvrdz_EByFCPNh6M65kdW7KngFdQXbSEOarW4k31THUXx91Zmwh0zZyxZc'}, {'domain': '.linkedin.com', 'expiry': 1718288529, 'httpOnly': False, 'name': 'li_sugr', 'path': '/', 'sameSite': 'None', 'secure': True, 'value': 'bb78a1f9-3227-4ca5-aa5b-e1e0ee87109f'}, {'domain': '.www.linkedin.com', 'expiry': 1726064497, 'httpOnly': False, 'name': 'li_theme_set', 'path': '/', 'sameSite': 'Lax', 'secure': True, 'value': 'app'}, {'domain': '.www.linkedin.com', 'expiry': 1726064497, 'httpOnly': False, 'name': 'li_theme', 'path': '/', 'sameSite': 'Lax', 'secure': True, 'value': 'light'}, {'domain': '.www.linkedin.com', 'expiry': 1711722097, 'httpOnly': False, 'name': 'timezone', 'path': '/', 'sameSite': 'Lax', 'secure': True, 'value': 'Asia/Calcutta'}, {'domain': '.linkedin.com', 'expiry': 1710551748, 'httpOnly': False, 'name': 'lidc', 'path': '/', 'sameSite': 'None', 'secure': True, 'value': '\"b=OB67:s=O:r=O:a=O:p=O:g=3526:u=582:x=1:i=1710512523:t=1710551737:v=2:sig=AQHPxLYeBu2Q8vfQkmeoJo1w3V8rXdPM\"'}, {'domain': '.www.linkedin.com', 'expiry': 1718288457, 'httpOnly': False, 'name': 'JSESSIONID', 'path': '/', 'sameSite': 'None', 'secure': True, 'value': '\"ajax:7246302928461418701\"'}, {'domain': '.www.linkedin.com', 'expiry': 1742048457, 'httpOnly': True, 'name': 'li_rm', 'path': '/', 'sameSite': 'None', 'secure': True, 'value': 'AQFh6vRvHHdUiAAAAY5CfDwzN6VATDzKzt7o5zkUQwUqivESZ2hE1qd5PMmGOjA78hnKGLvMquv9Hjg2CZL3S2AqcfZNINW6OIA_nHHfWEuM0HFL72lOIiTu'}, {'domain': '.www.linkedin.com', 'expiry': 1742048457, 'httpOnly': True, 'name': 'li_at', 'path': '/', 'sameSite': 'None', 'secure': True, 'value': 'AQEDAStuEgsFfnASAAABjkJ8oXgAAAGOZokleFYAvjSbSK6PKivNSHfZ-5ytQlFD7xFAiSSo14SSMS_9zvGY6b6TIFSD-2Jy9wwb8KJrTRAZw_2WtR7tTTC-K5dGC9XGj3hqar6SmKfP4E7sKALAZarT'}, {'domain': '.linkedin.com', 'expiry': 1742048530, 'httpOnly': False, 'name': 'bcookie', 'path': '/', 'sameSite': 'None', 'secure': True, 'value': '\"v=2&116e6ac4-e500-47ff-8561-fc2e851ca676\"'}, {'domain': '.linkedin.com', 'expiry': 1713104459, 'httpOnly': False, 'name': 'aam_uuid', 'path': '/', 'sameSite': 'Lax', 'secure': False, 'value': '91972669604963469723532014627644381917'}, {'domain': '.linkedin.com', 'expiry': 1713104529, 'httpOnly': False, 'name': 'AnalyticsSyncHistory', 'path': '/', 'sameSite': 'None', 'secure': True, 'value': 'AQLgcWnwv4q0oQAAAY5CfbzhXJfVO_zPAo9O6IKJKOHnq9jhCFZ2G3KZVo0ZDS_YUuZoPRQRtINZ5iUHp6mYmw'}, {'domain': '.linkedin.com', 'httpOnly': False, 'name': 'AMCVS_14215E3D5995C57C0A495C55%40AdobeOrg', 'path': '/', 'sameSite': 'Lax', 'secure': False, 'value': '1'}, {'domain': '.linkedin.com', 'httpOnly': False, 'name': 'lang', 'path': '/', 'sameSite': 'None', 'secure': True, 'value': 'v=2&lang=en-us'}, {'domain': '.linkedin.com', 'expiry': 1718288528, 'httpOnly': False, 'name': '_guid', 'path': '/', 'sameSite': 'None', 'secure': True, 'value': '236e1d86-5dd9-4ff4-b7d2-b9f9a3e28cef'}, {'domain': '.linkedin.com', 'expiry': 1718288439, 'httpOnly': False, 'name': '_gcl_au', 'path': '/', 'sameSite': 'Lax', 'secure': False, 'value': '1.1.1971648724.1710512439'}, {'domain': '.linkedin.com', 'expiry': 1718288457, 'httpOnly': False, 'name': 'liap', 'path': '/', 'sameSite': 'None', 'secure': True, 'value': 'True'}, {'domain': '.linkedin.com', 'expiry': 1726064439, 'httpOnly': False, 'name': 'AMCV_14215E3D5995C57C0A495C55%40AdobeOrg', 'path': '/', 'sameSite': 'Lax', 'secure': False, 'value': '-637568504%7CMCIDTS%7C19798%7CMCMID%7C91818354380678565353587983155887925526%7CMCAAMLH-1711117239%7C6%7CMCAAMB-1711117239%7C6G1ynYcLPuiQxYZrsz_pkqfLG9yMXBpb2zX5dvJdYQJzPXImdj0y%7CMCOPTOUT-1710519639s%7CNONE%7CvVersion%7C5.1.1'}, {'domain': '.www.linkedin.com', 'expiry': 1742048457, 'httpOnly': True, 'name': 'bscookie', 'path': '/', 'sameSite': 'None', 'secure': True, 'value': '\"v=1&20240315142010fce7648f-5c92-4f2a-8fd6-92ac3af2d9afAQEKbbasDNR_ALeSWtNx2TzyY3LW8L_I\"'}]\n"
   ]
  },
  {
   "cell_type": "code",
   "execution_count": 2,
   "metadata": {},
   "outputs": [],
   "source": [
    "cookies =   [\n",
    "        {\n",
    "            \"domain\": \".linkedin.com\",\n",
    "            \"expiry\": 1726085783,\n",
    "            \"httpOnly\": False,\n",
    "            \"name\": \"AMCV_14215E3D5995C57C0A495C55%40AdobeOrg\",\n",
    "            \"path\": \"/\",\n",
    "            \"sameSite\": \"Lax\",\n",
    "            \"secure\": False,\n",
    "            \"value\": \"-637568504%7CMCIDTS%7C19798%7CMCMID%7C82312968965276113983039895199472747694%7CMCAAMLH-1711138583%7C7%7CMCAAMB-1711138583%7C6G1ynYcLPuiQxYZrsz_pkqfLG9yMXBpb2zX5dvJdYQJzPXImdj0y%7CMCOPTOUT-1710540983s%7CNONE%7CvVersion%7C5.1.1%7CMCCIDH%7C803797319\"\n",
    "        },\n",
    "        {\n",
    "            \"domain\": \".linkedin.com\",\n",
    "            \"expiry\": 1713125776,\n",
    "            \"httpOnly\": False,\n",
    "            \"name\": \"lms_analytics\",\n",
    "            \"path\": \"/\",\n",
    "            \"sameSite\": \"None\",\n",
    "            \"secure\": True,\n",
    "            \"value\": \"AQEEKua-gh6CoAAAAY5DwfGAqE14cU9VaZnQhqG0UB6CDOj3RxKGyFnEbyrcj4vRztAye4vpBMoyw6aEu44z4E59lEpyCVEQ\"\n",
    "        },\n",
    "        {\n",
    "            \"domain\": \".linkedin.com\",\n",
    "            \"expiry\": 1718309786,\n",
    "            \"httpOnly\": False,\n",
    "            \"name\": \"_gcl_au\",\n",
    "            \"path\": \"/\",\n",
    "            \"sameSite\": \"Lax\",\n",
    "            \"secure\": False,\n",
    "            \"value\": \"1.1.606047819.1710533787\"\n",
    "        },\n",
    "        {\n",
    "            \"domain\": \".linkedin.com\",\n",
    "            \"expiry\": 1718309776,\n",
    "            \"httpOnly\": False,\n",
    "            \"name\": \"_guid\",\n",
    "            \"path\": \"/\",\n",
    "            \"sameSite\": \"None\",\n",
    "            \"secure\": True,\n",
    "            \"value\": \"b7a610be-3eed-4e2b-85af-3ca01d572d09\"\n",
    "        },\n",
    "        {\n",
    "            \"domain\": \".linkedin.com\",\n",
    "            \"expiry\": 1713125776,\n",
    "            \"httpOnly\": False,\n",
    "            \"name\": \"UserMatchHistory\",\n",
    "            \"path\": \"/\",\n",
    "            \"sameSite\": \"None\",\n",
    "            \"secure\": True,\n",
    "            \"value\": \"AQJQWDBCtLYTOQAAAY5Dwe5TfktuK-2EjjbxCYt0vVdA2uOEevq6jcVRaDwnVSbSvPOsBwpPZ74tarWYt8kKHu90-WL7gIecIp5VVm8dN3OP7BeHZKrFXtdMUOSSs-dhz0wij_QyS3SG47OnpX8f404u_x-zoMCxirx4FqfK269--Ik_utTRoHCkNEpvvG3U6x7s4ZGJP3JdnfZfr527b512lL1FyKkG2OIcnipKAcU34nuhrzljSssRDtK7w4B2CJrmo1dmu7yN_YIbeMAiB7g3_MRdCc4TSdF7KTj-OHCJfVjItu4GFAxdp6oLnH2KvNzK5Wo\"\n",
    "        },\n",
    "        {\n",
    "            \"domain\": \".linkedin.com\",\n",
    "            \"expiry\": 1718309777,\n",
    "            \"httpOnly\": False,\n",
    "            \"name\": \"li_sugr\",\n",
    "            \"path\": \"/\",\n",
    "            \"sameSite\": \"None\",\n",
    "            \"secure\": True,\n",
    "            \"value\": \"28a37859-a56c-44ef-9b09-d148bf0718a0\"\n",
    "        },\n",
    "        {\n",
    "            \"domain\": \".www.linkedin.com\",\n",
    "            \"expiry\": 1711743349,\n",
    "            \"httpOnly\": False,\n",
    "            \"name\": \"timezone\",\n",
    "            \"path\": \"/\",\n",
    "            \"sameSite\": \"Lax\",\n",
    "            \"secure\": True,\n",
    "            \"value\": \"Asia/Calcutta\"\n",
    "        },\n",
    "        {\n",
    "            \"domain\": \".linkedin.com\",\n",
    "            \"expiry\": 1713125776,\n",
    "            \"httpOnly\": False,\n",
    "            \"name\": \"lms_ads\",\n",
    "            \"path\": \"/\",\n",
    "            \"sameSite\": \"None\",\n",
    "            \"secure\": True,\n",
    "            \"value\": \"AQEEKua-gh6CoAAAAY5DwfGAqE14cU9VaZnQhqG0UB6CDOj3RxKGyFnEbyrcj4vRztAye4vpBMoyw6aEu44z4E59lEpyCVEQ\"\n",
    "        },\n",
    "        {\n",
    "            \"domain\": \".linkedin.com\",\n",
    "            \"expiry\": 1713125776,\n",
    "            \"httpOnly\": False,\n",
    "            \"name\": \"AnalyticsSyncHistory\",\n",
    "            \"path\": \"/\",\n",
    "            \"sameSite\": \"None\",\n",
    "            \"secure\": True,\n",
    "            \"value\": \"AQIpNsLlDJscFgAAAY5Dwe5TMafM2PFrGoQzCXLtjuSoRtqdS2oiuZL1IEYzrO2utEUVgXbyFgS6wDkFEXIB9Q\"\n",
    "        },\n",
    "        {\n",
    "            \"domain\": \".linkedin.com\",\n",
    "            \"httpOnly\": False,\n",
    "            \"name\": \"AMCVS_14215E3D5995C57C0A495C55%40AdobeOrg\",\n",
    "            \"path\": \"/\",\n",
    "            \"sameSite\": \"Lax\",\n",
    "            \"secure\": False,\n",
    "            \"value\": \"1\"\n",
    "        },\n",
    "        {\n",
    "            \"domain\": \".linkedin.com\",\n",
    "            \"expiry\": 1713125783,\n",
    "            \"httpOnly\": False,\n",
    "            \"name\": \"aam_uuid\",\n",
    "            \"path\": \"/\",\n",
    "            \"sameSite\": \"Lax\",\n",
    "            \"secure\": False,\n",
    "            \"value\": \"82833509883544386053089697696279164773\"\n",
    "        },\n",
    "        {\n",
    "            \"domain\": \".linkedin.com\",\n",
    "            \"expiry\": 1742069778,\n",
    "            \"httpOnly\": False,\n",
    "            \"name\": \"bcookie\",\n",
    "            \"path\": \"/\",\n",
    "            \"sameSite\": \"None\",\n",
    "            \"secure\": True,\n",
    "            \"value\": \"\\\"v=2&65f506a4-a2ae-4afc-873a-7382c6bd8879\\\"\"\n",
    "        },\n",
    "        {\n",
    "            \"domain\": \".www.linkedin.com\",\n",
    "            \"expiry\": 1726085749,\n",
    "            \"httpOnly\": False,\n",
    "            \"name\": \"li_theme_set\",\n",
    "            \"path\": \"/\",\n",
    "            \"sameSite\": \"Lax\",\n",
    "            \"secure\": True,\n",
    "            \"value\": \"app\"\n",
    "        },\n",
    "        {\n",
    "            \"domain\": \".www.linkedin.com\",\n",
    "            \"expiry\": 1742069709,\n",
    "            \"httpOnly\": True,\n",
    "            \"name\": \"li_rm\",\n",
    "            \"path\": \"/\",\n",
    "            \"sameSite\": \"None\",\n",
    "            \"secure\": True,\n",
    "            \"value\": \"AQGFc7pI9XnLXAAAAY5DwLy_g8TVUaM0q_7XGuuJUlDsw5v9d3BLJ8iJmfPNTU9AEwciDE-ANAE8cpFb27gKJTEGNj1FRrAyMhIForEL-IAzynKfHZw5PGit\"\n",
    "        },\n",
    "        {\n",
    "            \"domain\": \".www.linkedin.com\",\n",
    "            \"expiry\": 1742069709,\n",
    "            \"httpOnly\": True,\n",
    "            \"name\": \"li_at\",\n",
    "            \"path\": \"/\",\n",
    "            \"sameSite\": \"None\",\n",
    "            \"secure\": True,\n",
    "            \"value\": \"AQEDAStuEgsFWw0gAAABjkPA6dkAAAGOZ81t2VYAq-Hln4kO158djoyQ5GjkEBnoBYEgJ3Zoa3-m-W2GyT93SLrNhXNkCoonk5bu__CDKNUnISzig-6E5sEPZ4jeJcmOzRphhl5u2ebY6p2kIva0z9FA\"\n",
    "        },\n",
    "        {\n",
    "            \"domain\": \".linkedin.com\",\n",
    "            \"expiry\": 1710606232,\n",
    "            \"httpOnly\": False,\n",
    "            \"name\": \"lidc\",\n",
    "            \"path\": \"/\",\n",
    "            \"sameSite\": \"None\",\n",
    "            \"secure\": True,\n",
    "            \"value\": \"\\\"b=OB67:s=O:r=O:a=O:p=O:g=3528:u=582:x=1:i=1710533775:t=1710606222:v=2:sig=AQGvxlpqjh3R6bsWN3vCdfPw_LGaRAvV\\\"\"\n",
    "        },\n",
    "        {\n",
    "            \"domain\": \".www.linkedin.com\",\n",
    "            \"expiry\": 1718309709,\n",
    "            \"httpOnly\": False,\n",
    "            \"name\": \"JSESSIONID\",\n",
    "            \"path\": \"/\",\n",
    "            \"sameSite\": \"None\",\n",
    "            \"secure\": True,\n",
    "            \"value\": \"\\\"ajax:8885468710510284191\\\"\"\n",
    "        },\n",
    "        {\n",
    "            \"domain\": \".www.linkedin.com\",\n",
    "            \"expiry\": 1742069777,\n",
    "            \"httpOnly\": True,\n",
    "            \"name\": \"bscookie\",\n",
    "            \"path\": \"/\",\n",
    "            \"sameSite\": \"None\",\n",
    "            \"secure\": True,\n",
    "            \"value\": \"\\\"v=1&202403152014480ff4f461-3714-4431-81ed-e96a79daa456AQGpSTghHhbkSd04CUyIWfjaJE8wQQjE\\\"\"\n",
    "        },\n",
    "        {\n",
    "            \"domain\": \".www.linkedin.com\",\n",
    "            \"expiry\": 1726085749,\n",
    "            \"httpOnly\": False,\n",
    "            \"name\": \"li_theme\",\n",
    "            \"path\": \"/\",\n",
    "            \"sameSite\": \"Lax\",\n",
    "            \"secure\": True,\n",
    "            \"value\": \"light\"\n",
    "        },\n",
    "        {\n",
    "            \"domain\": \".linkedin.com\",\n",
    "            \"httpOnly\": False,\n",
    "            \"name\": \"lang\",\n",
    "            \"path\": \"/\",\n",
    "            \"sameSite\": \"None\",\n",
    "            \"secure\": True,\n",
    "            \"value\": \"v=2&lang=en-us\"\n",
    "        },\n",
    "        {\n",
    "            \"domain\": \".linkedin.com\",\n",
    "            \"expiry\": 1718309709,\n",
    "            \"httpOnly\": False,\n",
    "            \"name\": \"liap\",\n",
    "            \"path\": \"/\",\n",
    "            \"sameSite\": \"None\",\n",
    "            \"secure\": True,\n",
    "            \"value\": \"True\"\n",
    "        }\n",
    "    ]\n"
   ]
  },
  {
   "cell_type": "code",
   "execution_count": 4,
   "metadata": {},
   "outputs": [],
   "source": [
    "from datetime import datetime\n",
    "async def epoch_to_timestamp(epoch_time):\n",
    "    try:\n",
    "        timestamp = datetime.fromtimestamp(epoch_time)\n",
    "        # return timestamp.strftime('%Y-%m-%d %H:%M:%S')\n",
    "        return timestamp.strptime(timestamp.strftime('%Y-%m-%d %H:%M:%S'),'%Y-%m-%d %H:%M:%S')\n",
    "    except ValueError as e:\n",
    "        return f\"Error: {e}\""
   ]
  },
  {
   "cell_type": "code",
   "execution_count": 15,
   "metadata": {},
   "outputs": [
    {
     "name": "stdout",
     "output_type": "stream",
     "text": [
      "2025-03-15 19:50:57\n"
     ]
    }
   ],
   "source": [
    "\n",
    "print(await get_expiry_time(cookies))"
   ]
  },
  {
   "cell_type": "code",
   "execution_count": 5,
   "metadata": {},
   "outputs": [],
   "source": [
    "async def get_expiry_time(cookies):\n",
    "    li_at_row = next(cookie for cookie in cookies if cookie['name'] == 'li_at')\n",
    "    expiry = li_at_row.get('expiry', None)\n",
    "    expiry = await epoch_to_timestamp(expiry)\n",
    "    return expiry"
   ]
  },
  {
   "cell_type": "code",
   "execution_count": 6,
   "metadata": {},
   "outputs": [],
   "source": [
    "import time \n",
    "async def openBrowserUserCookies(cookies, proxy_address, proxy_port, proxy_username, proxy_password):\n",
    "    options = Options()\n",
    "    proxy = {\n",
    "        'proxy': {\n",
    "            'https': f'https://{proxy_username}:{proxy_password}@{proxy_address}:{proxy_port}',\n",
    "        }\n",
    "    }\n",
    "    # user_agent = \"Mozilla/5.0 (Windows NT 10.0; Win64; x64) AppleWebKit/537.36 (KHTML, like Gecko) Chrome/58.0.3029.110 Safari/537.3\"\n",
    "    # options.add_argument(\"--headless\")\n",
    "    # options.add_argument(f'user-agent={user_agent}')\n",
    "    options.add_argument(\"--disable-gpu\")\n",
    "    options.add_argument(\"--no-sandbox\")\n",
    "    options.add_argument(\"--disable-dev-shm-usage\")\n",
    "    options.add_argument(\"--disable-extensions\")\n",
    "    options.add_argument(\"--disable-software-rasterizer\")\n",
    "    # Enable automation features to make the browser look more like a real user\n",
    "    options.add_experimental_option('excludeSwitches', ['enable-automation'])\n",
    "    options.add_experimental_option('useAutomationExtension', False)\n",
    "    options.add_argument(\"--disable-blink-features=AutomationControlled\")\n",
    "    \n",
    "    driver = webdriver.Chrome(seleniumwire_options=proxy,options=options)\n",
    "    driver.get('https://www.linkedin.com/')\n",
    "    for cookie in cookies:\n",
    "        driver.add_cookie(cookie)\n",
    "    driver.set_window_size(1920, 1080)\n",
    "    \n",
    "    return driver"
   ]
  },
  {
   "cell_type": "code",
   "execution_count": 49,
   "metadata": {},
   "outputs": [],
   "source": [
    "proxy_address = '104.167.10.132'\n",
    "proxy_port = '5200'\n",
    "proxy_username =  'newsonio' \n",
    "proxy_password =  'newsonio'\n",
    "driver = await openBrowserUserCookies(cookies, proxy_address, proxy_port, proxy_username, proxy_password)"
   ]
  },
  {
   "cell_type": "code",
   "execution_count": 15,
   "metadata": {},
   "outputs": [],
   "source": [
    "import time , random    \n",
    "async def getrandomNumber(min, max):\n",
    "    return random.randint(min, max)"
   ]
  },
  {
   "cell_type": "code",
   "execution_count": 50,
   "metadata": {},
   "outputs": [],
   "source": [
    "driver.get('https://www.linkedin.com')"
   ]
  },
  {
   "cell_type": "code",
   "execution_count": 44,
   "metadata": {},
   "outputs": [],
   "source": [
    "next_button = WebDriverWait(driver, 10).until(EC.presence_of_element_located((By.XPATH, \"//button[@aria-label='Next']\")))\n",
    "driver.execute_script(\"arguments[0].scrollIntoView();\", next_button)\n",
    "\n",
    "findResultList = WebDriverWait(driver, 10).until(EC.presence_of_all_elements_located((By.XPATH, \"*//li[@class='artdeco-list__item pl3 pv3 ']\")))"
   ]
  },
  {
   "cell_type": "code",
   "execution_count": 38,
   "metadata": {},
   "outputs": [],
   "source": [
    "\n",
    "async def sendInMail(driver, subject, message):\n",
    "    WebDriverWait(driver, 10).until(EC.presence_of_element_located((By.XPATH, \".//input[@placeholder='Subject (required)']\"))).send_keys(subject)\n",
    "    time.sleep(await getrandomNumber(2, 5))\n",
    "    WebDriverWait(driver, 10).until(EC.presence_of_element_located((By.XPATH, \".//textarea[@placeholder='Type your message here…']\"))).send_keys(message)\n",
    "    WebDriverWait(driver, 10).until(EC.presence_of_element_located((By.XPATH, \".//button[normalize-space()='Send']\"))).click()\n",
    "    time.sleep(await getrandomNumber(2, 5))\n",
    "    WebDriverWait(driver, 10).until(EC.presence_of_element_located((By.XPATH, \".//button[@data-control-name='overlay.close_overlay']\"))).click()\n",
    "    return {\"status\": \"success\", \"message\": message, \"subject\": subject}"
   ]
  },
  {
   "cell_type": "code",
   "execution_count": 46,
   "metadata": {},
   "outputs": [],
   "source": [
    "async def search_sales(driver,url, result_num, subject, message):\n",
    "    driver.get(url)\n",
    "    DataList = []\n",
    "    i = 0\n",
    "    \n",
    "    while True:\n",
    "        findResultList = WebDriverWait(driver, 10).until(EC.presence_of_all_elements_located((By.XPATH, \"*//li[@class='artdeco-list__item pl3 pv3 ']\")))\n",
    "        for result in findResultList:\n",
    "            driver.execute_script(\"arguments[0].scrollIntoView();\", result)\n",
    "            result_html = result.get_attribute('outerHTML')\n",
    "            soup = BeautifulSoup(result_html, 'html.parser')\n",
    "            try:\n",
    "                name = soup.find('span', {'data-anonymize': 'person-name'}).text.strip().split()\n",
    "                address = soup.find('span', {'data-anonymize': 'location'}).text.strip()\n",
    "                profile_image = soup.find('img', {\"data-anonymize\":\"headshot-photo\"}).get('src')\n",
    "                firstname = name[0]\n",
    "                lastname = name.pop()\n",
    "                link_tag = soup.find('a', {'data-view-name': 'search-results-lead-name'})\n",
    "                link =\"https://www.linkedin.com\"+link_tag.get('href')\n",
    "                data = {\n",
    "                    'firstname': firstname,\n",
    "                    'lastname': lastname,\n",
    "                    'address': address,\n",
    "                    'profile_image' : profile_image,\n",
    "                    'profile_link': link,\n",
    "                    'type': 'salesnavigator'\n",
    "                }\n",
    "                WebDriverWait(result, 10).until(EC.presence_of_element_located((By.XPATH, \".//li[@class='message-overlay-trigger']\"))).click()\n",
    "                is_inmail = await sendInMail(driver, subject, message)\n",
    "                data['inmail'] = is_inmail    \n",
    "                print(data)\n",
    "                i += 1\n",
    "            except Exception as e:\n",
    "                continue\n",
    "        WebDriverWait(driver, 10).until(EC.presence_of_element_located((By.XPATH, \"//button[@aria-label='Next']\"))).click()\n",
    "            \n",
    "        if i >= result_num:\n",
    "            break\n",
    "    return DataList\n",
    "    # print(soup.prettify())\n"
   ]
  },
  {
   "cell_type": "code",
   "execution_count": 29,
   "metadata": {},
   "outputs": [],
   "source": [
    "resulthtml = findResultList[0].get_attribute('outerHTML')"
   ]
  },
  {
   "cell_type": "code",
   "execution_count": 30,
   "metadata": {},
   "outputs": [],
   "source": [
    "soup = BeautifulSoup(resulthtml, 'html.parser')"
   ]
  },
  {
   "cell_type": "code",
   "execution_count": 32,
   "metadata": {},
   "outputs": [],
   "source": [
    "with open('index.html', 'w',encoding='UTF') as file:\n",
    "    print(soup.prettify(), file=file)"
   ]
  },
  {
   "cell_type": "code",
   "execution_count": 36,
   "metadata": {},
   "outputs": [],
   "source": [
    "url = \"https://www.linkedin.com/sales/search/people?page=3&query=(spellCorrectionEnabled%3Atrue%2CrecentSearchParam%3A(id%3A3535884988%2CdoLogHistory%3Atrue)%2Ckeywords%3Ad365)&sessionId=pS1bJR0bSGOOuY5xXVSAAg%3D%3D\""
   ]
  },
  {
   "cell_type": "code",
   "execution_count": 45,
   "metadata": {},
   "outputs": [
    {
     "name": "stdout",
     "output_type": "stream",
     "text": [
      "{'firstname': 'Hamzah', 'lastname': 'Amer', 'address': 'Manchester Area, United Kingdom', 'profile_image': 'https://media.licdn.com/dms/image/C5603AQG6LJVLcrgbXg/profile-displayphoto-shrink_200_200/0/1642179677166?e=1715817600&v=beta&t=bF_mFUW-d0LemZGT5sx8m-EwaMuxGexX_lYXBlnoZmQ', 'profile_link': 'https://www.linkedin.com/sales/lead/ACwAACCs2SEBdsaQ-dNolyx78tlZs8U4dsIlUBI,NAME_SEARCH,rYGT?_ntb=pS1bJR0bSGOOuY5xXVSAAg%3D%3D', 'type': 'salesnavigator', 'inmail': {'status': 'success', 'message': 'I am interested in your power apps project. I would like to discuss more about it. Please let me know when you are available for a call', 'subject': 'Power apps project '}}\n",
      "{'firstname': 'Eric', 'lastname': 'Poisson', 'address': 'Rueil-Malmaison, Île-de-France, France', 'profile_image': 'https://media.licdn.com/dms/image/C4D03AQFS1LJqgHU35A/profile-displayphoto-shrink_100_100/0/1573571732637?e=1715817600&v=beta&t=MPCtJNP4xnxlG5_An_khk4vXkNXXsXHB8MOvAQCmoJ4', 'profile_link': 'https://www.linkedin.com/sales/lead/ACwAAAG7zmYBawpKGwIDnE2GV4Hy0xNZAX6O6Zo,NAME_SEARCH,HmSU?_ntb=pS1bJR0bSGOOuY5xXVSAAg%3D%3D', 'type': 'salesnavigator', 'inmail': {'status': 'success', 'message': 'I am interested in your power apps project. I would like to discuss more about it. Please let me know when you are available for a call', 'subject': 'Power apps project '}}\n",
      "{'firstname': 'Aman', 'lastname': 'K.', 'address': 'United Kingdom', 'profile_image': 'https://media.licdn.com/dms/image/D4D03AQH_ymB1eTY71Q/profile-displayphoto-shrink_100_100/0/1702317144848?e=1715817600&v=beta&t=XDiDVd4Xbri9gY0YHEjB7W85kAhpFJDShRqNsNaFPw8', 'profile_link': 'https://www.linkedin.com/sales/lead/ACwAAAC3AdcB-NI8FWmUyUF6-N82S4n6cRa7S3A,NAME_SEARCH,3lO9?_ntb=pS1bJR0bSGOOuY5xXVSAAg%3D%3D', 'type': 'salesnavigator', 'inmail': {'status': 'success', 'message': 'I am interested in your power apps project. I would like to discuss more about it. Please let me know when you are available for a call', 'subject': 'Power apps project '}}\n",
      "{'firstname': 'Nivin', 'lastname': 'Sreelaya', 'address': 'Dallas-Fort Worth Metroplex', 'profile_image': 'https://media.licdn.com/dms/image/D5603AQFTmuQPv5Riwg/profile-displayphoto-shrink_100_100/0/1694115885015?e=1715817600&v=beta&t=TFN5BcJfjZiBXSc3TN5Bre6lHKD8q129xXe60XOkhhU', 'profile_link': 'https://www.linkedin.com/sales/lead/ACwAACjjLlkBinuprJ0JL11fC92MyxbDWEVLWOE,NAME_SEARCH,Ga00?_ntb=pS1bJR0bSGOOuY5xXVSAAg%3D%3D', 'type': 'salesnavigator', 'inmail': {'status': 'success', 'message': 'I am interested in your power apps project. I would like to discuss more about it. Please let me know when you are available for a call', 'subject': 'Power apps project '}}\n",
      "{'firstname': 'Inamur', 'lastname': 'Rahman', 'address': 'Mumbai, Maharashtra, India', 'profile_image': 'https://media.licdn.com/dms/image/C5603AQH7dLo6VJHzmg/profile-displayphoto-shrink_100_100/0/1638190743370?e=1715817600&v=beta&t=3yfBusEWMuVggjKKzQ-l_XC_sqqNXLOIDVVcoctdNZc', 'profile_link': 'https://www.linkedin.com/sales/lead/ACwAACWkVkQB9FU0TqatecyWJws6o8aiBc1JMCk,NAME_SEARCH,vkgD?_ntb=pS1bJR0bSGOOuY5xXVSAAg%3D%3D', 'type': 'salesnavigator', 'inmail': {'status': 'success', 'message': 'I am interested in your power apps project. I would like to discuss more about it. Please let me know when you are available for a call', 'subject': 'Power apps project '}}\n",
      "{'firstname': 'Annie', 'lastname': 'Bai', 'address': 'Redmond, Washington, United States', 'profile_image': 'https://media.licdn.com/dms/image/C4D03AQGrmg7tp_Xk5g/profile-displayphoto-shrink_100_100/0/1516881175485?e=1715817600&v=beta&t=ZfWXHvIR5e-HqfWDxMkDuClS_Q9DyeqU3KXpTvjUfDk', 'profile_link': 'https://www.linkedin.com/sales/lead/ACwAAAQ-h2IB0Qvovf_96hLFHk40wntiNlSY2cE,NAME_SEARCH,PipZ?_ntb=pS1bJR0bSGOOuY5xXVSAAg%3D%3D', 'type': 'salesnavigator', 'inmail': {'status': 'success', 'message': 'I am interested in your power apps project. I would like to discuss more about it. Please let me know when you are available for a call', 'subject': 'Power apps project '}}\n"
     ]
    },
    {
     "ename": "NoSuchWindowException",
     "evalue": "Message: no such window: target window already closed\nfrom unknown error: web view not found\n  (Session info: chrome=122.0.6261.129)\nStacktrace:\n\tGetHandleVerifier [0x00007FF7EB9DAD02+56930]\n\t(No symbol) [0x00007FF7EB94F602]\n\t(No symbol) [0x00007FF7EB8042E5]\n\t(No symbol) [0x00007FF7EB7E1D4C]\n\t(No symbol) [0x00007FF7EB8723F7]\n\t(No symbol) [0x00007FF7EB887891]\n\t(No symbol) [0x00007FF7EB86BA43]\n\t(No symbol) [0x00007FF7EB83D438]\n\t(No symbol) [0x00007FF7EB83E4D1]\n\tGetHandleVerifier [0x00007FF7EBD56F8D+3711213]\n\tGetHandleVerifier [0x00007FF7EBDB04CD+4077101]\n\tGetHandleVerifier [0x00007FF7EBDA865F+4044735]\n\tGetHandleVerifier [0x00007FF7EBA79736+706710]\n\t(No symbol) [0x00007FF7EB95B8DF]\n\t(No symbol) [0x00007FF7EB956AC4]\n\t(No symbol) [0x00007FF7EB956C1C]\n\t(No symbol) [0x00007FF7EB9468D4]\n\tBaseThreadInitThunk [0x00007FFC1A9C257D+29]\n\tRtlUserThreadStart [0x00007FFC1BEEAA58+40]\n",
     "output_type": "error",
     "traceback": [
      "\u001b[1;31m---------------------------------------------------------------------------\u001b[0m",
      "\u001b[1;31mNoSuchWindowException\u001b[0m                     Traceback (most recent call last)",
      "Cell \u001b[1;32mIn[45], line 1\u001b[0m\n\u001b[1;32m----> 1\u001b[0m data \u001b[38;5;241m=\u001b[39m \u001b[38;5;28;01mawait\u001b[39;00m search_sales(driver, url, \u001b[38;5;241m10\u001b[39m, \u001b[38;5;124m\"\u001b[39m\u001b[38;5;124mPower apps project \u001b[39m\u001b[38;5;124m\"\u001b[39m, \u001b[38;5;124m\"\u001b[39m\u001b[38;5;124mI am interested in your power apps project. I would like to discuss more about it. Please let me know when you are available for a call\u001b[39m\u001b[38;5;124m\"\u001b[39m)\n",
      "Cell \u001b[1;32mIn[44], line 29\u001b[0m, in \u001b[0;36msearch_sales\u001b[1;34m(driver, url, result_num, subject, message)\u001b[0m\n\u001b[0;32m     20\u001b[0m data \u001b[38;5;241m=\u001b[39m {\n\u001b[0;32m     21\u001b[0m     \u001b[38;5;124m'\u001b[39m\u001b[38;5;124mfirstname\u001b[39m\u001b[38;5;124m'\u001b[39m: firstname,\n\u001b[0;32m     22\u001b[0m     \u001b[38;5;124m'\u001b[39m\u001b[38;5;124mlastname\u001b[39m\u001b[38;5;124m'\u001b[39m: lastname,\n\u001b[1;32m   (...)\u001b[0m\n\u001b[0;32m     26\u001b[0m     \u001b[38;5;124m'\u001b[39m\u001b[38;5;124mtype\u001b[39m\u001b[38;5;124m'\u001b[39m: \u001b[38;5;124m'\u001b[39m\u001b[38;5;124msalesnavigator\u001b[39m\u001b[38;5;124m'\u001b[39m\n\u001b[0;32m     27\u001b[0m }\n\u001b[0;32m     28\u001b[0m WebDriverWait(result, \u001b[38;5;241m10\u001b[39m)\u001b[38;5;241m.\u001b[39muntil(EC\u001b[38;5;241m.\u001b[39mpresence_of_element_located((By\u001b[38;5;241m.\u001b[39mXPATH, \u001b[38;5;124m\"\u001b[39m\u001b[38;5;124m.//li[@class=\u001b[39m\u001b[38;5;124m'\u001b[39m\u001b[38;5;124mmessage-overlay-trigger\u001b[39m\u001b[38;5;124m'\u001b[39m\u001b[38;5;124m]\u001b[39m\u001b[38;5;124m\"\u001b[39m)))\u001b[38;5;241m.\u001b[39mclick()\n\u001b[1;32m---> 29\u001b[0m is_inmail \u001b[38;5;241m=\u001b[39m \u001b[38;5;28;01mawait\u001b[39;00m sendInMail(driver, subject, message)\n\u001b[0;32m     30\u001b[0m data[\u001b[38;5;124m'\u001b[39m\u001b[38;5;124minmail\u001b[39m\u001b[38;5;124m'\u001b[39m] \u001b[38;5;241m=\u001b[39m is_inmail    \n\u001b[0;32m     31\u001b[0m \u001b[38;5;28mprint\u001b[39m(data)\n",
      "Cell \u001b[1;32mIn[38], line 2\u001b[0m, in \u001b[0;36msendInMail\u001b[1;34m(driver, subject, message)\u001b[0m\n\u001b[0;32m      1\u001b[0m \u001b[38;5;28;01masync\u001b[39;00m \u001b[38;5;28;01mdef\u001b[39;00m \u001b[38;5;21msendInMail\u001b[39m(driver, subject, message):\n\u001b[1;32m----> 2\u001b[0m     \u001b[43mWebDriverWait\u001b[49m\u001b[43m(\u001b[49m\u001b[43mdriver\u001b[49m\u001b[43m,\u001b[49m\u001b[43m \u001b[49m\u001b[38;5;241;43m10\u001b[39;49m\u001b[43m)\u001b[49m\u001b[38;5;241;43m.\u001b[39;49m\u001b[43muntil\u001b[49m\u001b[43m(\u001b[49m\u001b[43mEC\u001b[49m\u001b[38;5;241;43m.\u001b[39;49m\u001b[43mpresence_of_element_located\u001b[49m\u001b[43m(\u001b[49m\u001b[43m(\u001b[49m\u001b[43mBy\u001b[49m\u001b[38;5;241;43m.\u001b[39;49m\u001b[43mXPATH\u001b[49m\u001b[43m,\u001b[49m\u001b[43m \u001b[49m\u001b[38;5;124;43m\"\u001b[39;49m\u001b[38;5;124;43m.//input[@placeholder=\u001b[39;49m\u001b[38;5;124;43m'\u001b[39;49m\u001b[38;5;124;43mSubject (required)\u001b[39;49m\u001b[38;5;124;43m'\u001b[39;49m\u001b[38;5;124;43m]\u001b[39;49m\u001b[38;5;124;43m\"\u001b[39;49m\u001b[43m)\u001b[49m\u001b[43m)\u001b[49m\u001b[43m)\u001b[49m\u001b[38;5;241m.\u001b[39msend_keys(subject)\n\u001b[0;32m      3\u001b[0m     time\u001b[38;5;241m.\u001b[39msleep(\u001b[38;5;28;01mawait\u001b[39;00m getrandomNumber(\u001b[38;5;241m2\u001b[39m, \u001b[38;5;241m5\u001b[39m))\n\u001b[0;32m      4\u001b[0m     WebDriverWait(driver, \u001b[38;5;241m10\u001b[39m)\u001b[38;5;241m.\u001b[39muntil(EC\u001b[38;5;241m.\u001b[39mpresence_of_element_located((By\u001b[38;5;241m.\u001b[39mXPATH, \u001b[38;5;124m\"\u001b[39m\u001b[38;5;124m.//textarea[@placeholder=\u001b[39m\u001b[38;5;124m'\u001b[39m\u001b[38;5;124mType your message here…\u001b[39m\u001b[38;5;124m'\u001b[39m\u001b[38;5;124m]\u001b[39m\u001b[38;5;124m\"\u001b[39m)))\u001b[38;5;241m.\u001b[39msend_keys(message)\n",
      "File \u001b[1;32mc:\\Python311\\Lib\\site-packages\\selenium\\webdriver\\support\\wait.py:86\u001b[0m, in \u001b[0;36mWebDriverWait.until\u001b[1;34m(self, method, message)\u001b[0m\n\u001b[0;32m     84\u001b[0m \u001b[38;5;28;01mwhile\u001b[39;00m \u001b[38;5;28;01mTrue\u001b[39;00m:\n\u001b[0;32m     85\u001b[0m     \u001b[38;5;28;01mtry\u001b[39;00m:\n\u001b[1;32m---> 86\u001b[0m         value \u001b[38;5;241m=\u001b[39m \u001b[43mmethod\u001b[49m\u001b[43m(\u001b[49m\u001b[38;5;28;43mself\u001b[39;49m\u001b[38;5;241;43m.\u001b[39;49m\u001b[43m_driver\u001b[49m\u001b[43m)\u001b[49m\n\u001b[0;32m     87\u001b[0m         \u001b[38;5;28;01mif\u001b[39;00m value:\n\u001b[0;32m     88\u001b[0m             \u001b[38;5;28;01mreturn\u001b[39;00m value\n",
      "File \u001b[1;32mc:\\Python311\\Lib\\site-packages\\selenium\\webdriver\\support\\expected_conditions.py:81\u001b[0m, in \u001b[0;36mpresence_of_element_located.<locals>._predicate\u001b[1;34m(driver)\u001b[0m\n\u001b[0;32m     80\u001b[0m \u001b[38;5;28;01mdef\u001b[39;00m \u001b[38;5;21m_predicate\u001b[39m(driver):\n\u001b[1;32m---> 81\u001b[0m     \u001b[38;5;28;01mreturn\u001b[39;00m \u001b[43mdriver\u001b[49m\u001b[38;5;241;43m.\u001b[39;49m\u001b[43mfind_element\u001b[49m\u001b[43m(\u001b[49m\u001b[38;5;241;43m*\u001b[39;49m\u001b[43mlocator\u001b[49m\u001b[43m)\u001b[49m\n",
      "File \u001b[1;32mc:\\Python311\\Lib\\site-packages\\selenium\\webdriver\\remote\\webdriver.py:738\u001b[0m, in \u001b[0;36mWebDriver.find_element\u001b[1;34m(self, by, value)\u001b[0m\n\u001b[0;32m    735\u001b[0m     by \u001b[38;5;241m=\u001b[39m By\u001b[38;5;241m.\u001b[39mCSS_SELECTOR\n\u001b[0;32m    736\u001b[0m     value \u001b[38;5;241m=\u001b[39m \u001b[38;5;124mf\u001b[39m\u001b[38;5;124m'\u001b[39m\u001b[38;5;124m[name=\u001b[39m\u001b[38;5;124m\"\u001b[39m\u001b[38;5;132;01m{\u001b[39;00mvalue\u001b[38;5;132;01m}\u001b[39;00m\u001b[38;5;124m\"\u001b[39m\u001b[38;5;124m]\u001b[39m\u001b[38;5;124m'\u001b[39m\n\u001b[1;32m--> 738\u001b[0m \u001b[38;5;28;01mreturn\u001b[39;00m \u001b[38;5;28;43mself\u001b[39;49m\u001b[38;5;241;43m.\u001b[39;49m\u001b[43mexecute\u001b[49m\u001b[43m(\u001b[49m\u001b[43mCommand\u001b[49m\u001b[38;5;241;43m.\u001b[39;49m\u001b[43mFIND_ELEMENT\u001b[49m\u001b[43m,\u001b[49m\u001b[43m \u001b[49m\u001b[43m{\u001b[49m\u001b[38;5;124;43m\"\u001b[39;49m\u001b[38;5;124;43musing\u001b[39;49m\u001b[38;5;124;43m\"\u001b[39;49m\u001b[43m:\u001b[49m\u001b[43m \u001b[49m\u001b[43mby\u001b[49m\u001b[43m,\u001b[49m\u001b[43m \u001b[49m\u001b[38;5;124;43m\"\u001b[39;49m\u001b[38;5;124;43mvalue\u001b[39;49m\u001b[38;5;124;43m\"\u001b[39;49m\u001b[43m:\u001b[49m\u001b[43m \u001b[49m\u001b[43mvalue\u001b[49m\u001b[43m}\u001b[49m\u001b[43m)\u001b[49m[\u001b[38;5;124m\"\u001b[39m\u001b[38;5;124mvalue\u001b[39m\u001b[38;5;124m\"\u001b[39m]\n",
      "File \u001b[1;32mc:\\Python311\\Lib\\site-packages\\selenium\\webdriver\\remote\\webdriver.py:344\u001b[0m, in \u001b[0;36mWebDriver.execute\u001b[1;34m(self, driver_command, params)\u001b[0m\n\u001b[0;32m    342\u001b[0m response \u001b[38;5;241m=\u001b[39m \u001b[38;5;28mself\u001b[39m\u001b[38;5;241m.\u001b[39mcommand_executor\u001b[38;5;241m.\u001b[39mexecute(driver_command, params)\n\u001b[0;32m    343\u001b[0m \u001b[38;5;28;01mif\u001b[39;00m response:\n\u001b[1;32m--> 344\u001b[0m     \u001b[38;5;28;43mself\u001b[39;49m\u001b[38;5;241;43m.\u001b[39;49m\u001b[43merror_handler\u001b[49m\u001b[38;5;241;43m.\u001b[39;49m\u001b[43mcheck_response\u001b[49m\u001b[43m(\u001b[49m\u001b[43mresponse\u001b[49m\u001b[43m)\u001b[49m\n\u001b[0;32m    345\u001b[0m     response[\u001b[38;5;124m\"\u001b[39m\u001b[38;5;124mvalue\u001b[39m\u001b[38;5;124m\"\u001b[39m] \u001b[38;5;241m=\u001b[39m \u001b[38;5;28mself\u001b[39m\u001b[38;5;241m.\u001b[39m_unwrap_value(response\u001b[38;5;241m.\u001b[39mget(\u001b[38;5;124m\"\u001b[39m\u001b[38;5;124mvalue\u001b[39m\u001b[38;5;124m\"\u001b[39m, \u001b[38;5;28;01mNone\u001b[39;00m))\n\u001b[0;32m    346\u001b[0m     \u001b[38;5;28;01mreturn\u001b[39;00m response\n",
      "File \u001b[1;32mc:\\Python311\\Lib\\site-packages\\selenium\\webdriver\\remote\\errorhandler.py:229\u001b[0m, in \u001b[0;36mErrorHandler.check_response\u001b[1;34m(self, response)\u001b[0m\n\u001b[0;32m    227\u001b[0m         alert_text \u001b[38;5;241m=\u001b[39m value[\u001b[38;5;124m\"\u001b[39m\u001b[38;5;124malert\u001b[39m\u001b[38;5;124m\"\u001b[39m]\u001b[38;5;241m.\u001b[39mget(\u001b[38;5;124m\"\u001b[39m\u001b[38;5;124mtext\u001b[39m\u001b[38;5;124m\"\u001b[39m)\n\u001b[0;32m    228\u001b[0m     \u001b[38;5;28;01mraise\u001b[39;00m exception_class(message, screen, stacktrace, alert_text)  \u001b[38;5;66;03m# type: ignore[call-arg]  # mypy is not smart enough here\u001b[39;00m\n\u001b[1;32m--> 229\u001b[0m \u001b[38;5;28;01mraise\u001b[39;00m exception_class(message, screen, stacktrace)\n",
      "\u001b[1;31mNoSuchWindowException\u001b[0m: Message: no such window: target window already closed\nfrom unknown error: web view not found\n  (Session info: chrome=122.0.6261.129)\nStacktrace:\n\tGetHandleVerifier [0x00007FF7EB9DAD02+56930]\n\t(No symbol) [0x00007FF7EB94F602]\n\t(No symbol) [0x00007FF7EB8042E5]\n\t(No symbol) [0x00007FF7EB7E1D4C]\n\t(No symbol) [0x00007FF7EB8723F7]\n\t(No symbol) [0x00007FF7EB887891]\n\t(No symbol) [0x00007FF7EB86BA43]\n\t(No symbol) [0x00007FF7EB83D438]\n\t(No symbol) [0x00007FF7EB83E4D1]\n\tGetHandleVerifier [0x00007FF7EBD56F8D+3711213]\n\tGetHandleVerifier [0x00007FF7EBDB04CD+4077101]\n\tGetHandleVerifier [0x00007FF7EBDA865F+4044735]\n\tGetHandleVerifier [0x00007FF7EBA79736+706710]\n\t(No symbol) [0x00007FF7EB95B8DF]\n\t(No symbol) [0x00007FF7EB956AC4]\n\t(No symbol) [0x00007FF7EB956C1C]\n\t(No symbol) [0x00007FF7EB9468D4]\n\tBaseThreadInitThunk [0x00007FFC1A9C257D+29]\n\tRtlUserThreadStart [0x00007FFC1BEEAA58+40]\n"
     ]
    }
   ],
   "source": [
    "data = await search_sales(driver, url, 10, \"Power apps project \", \"I am interested in your power apps project. I would like to discuss more about it. Please let me know when you are available for a call\")"
   ]
  },
  {
   "cell_type": "code",
   "execution_count": 24,
   "metadata": {},
   "outputs": [],
   "source": [
    "driver.get(url)"
   ]
  },
  {
   "cell_type": "code",
   "execution_count": 26,
   "metadata": {},
   "outputs": [],
   "source": [
    "subject = \"Power apps project \"\n",
    "message = \"I am interested in your power apps project. I would like to discuss more about it. Please let me know when you are available for a call\"\n",
    "WebDriverWait(driver, 10).until(EC.presence_of_element_located((By.XPATH, \"//li[@class='message-overlay-trigger']\"))).click()\n",
    "WebDriverWait(driver, 10).until(EC.presence_of_element_located((By.XPATH, \"//input[@placeholder='Subject (required)']\"))).send_keys(subject)\n",
    "time.sleep(await getrandomNumber(2, 5))\n",
    "WebDriverWait(driver, 10).until(EC.presence_of_element_located((By.XPATH, \"//textarea[@placeholder='Type your message here…']\"))).send_keys(message)\n",
    "WebDriverWait(driver, 10).until(EC.presence_of_element_located((By.XPATH, \"//button[normalize-space()='Send']\"))).click()\n",
    "time.sleep(await getrandomNumber(2, 5))\n",
    "WebDriverWait(driver, 10).until(EC.presence_of_element_located((By.XPATH, \"//button[@data-control-name='overlay.close_overlay']\"))).click()\n",
    "# return {\"status\": \"success\", \"message\": message, \"subject\": subject}"
   ]
  },
  {
   "cell_type": "code",
   "execution_count": 51,
   "metadata": {},
   "outputs": [],
   "source": [
    "profile_url = \"https://www.linkedin.com/in/shravan-kumar-a-01a70715b/\""
   ]
  },
  {
   "cell_type": "code",
   "execution_count": 52,
   "metadata": {},
   "outputs": [],
   "source": []
  },
  {
   "cell_type": "code",
   "execution_count": 57,
   "metadata": {},
   "outputs": [],
   "source": []
  },
  {
   "cell_type": "code",
   "execution_count": 61,
   "metadata": {},
   "outputs": [],
   "source": [
    "async def likePost(driver, profile_url):\n",
    "    i=0\n",
    "    driver.get(profile_url+\"recent-activity/all/\")\n",
    "    allPost = WebDriverWait(driver, 10).until(EC.presence_of_all_elements_located((By.XPATH, \"*//li[@class='profile-creator-shared-feed-update__container']\")))\n",
    "    for post in allPost:\n",
    "        driver.execute_script(\"arguments[0].scrollIntoView();\", post)\n",
    "        WebDriverWait(post, 10).until(EC.presence_of_element_located((By.XPATH, \".//button[normalize-space()='Like']\"))).click()\n",
    "        time.sleep(await getrandomNumber(2, 5))\n",
    "        i+=1\n",
    "        if i > 3:\n",
    "            break\n",
    "        "
   ]
  },
  {
   "cell_type": "code",
   "execution_count": 70,
   "metadata": {},
   "outputs": [
    {
     "name": "stdout",
     "output_type": "stream",
     "text": [
      "['Avnish', 'Kumar']\n",
      "['Keerthana', 'Buvaneshwaran']\n",
      "['Priyanka', 'Jain']\n",
      "['Sahil', 'Pisavadiya']\n",
      "['Saurabh', 'Agrawal']\n",
      "['Mitali', 'Mittal']\n",
      "['Ali', 'Zubair']\n",
      "['Dheeraj', 'yadav']\n",
      "['Amar', 'kumar']\n",
      "['Simran', 'Gupta']\n"
     ]
    }
   ],
   "source": [
    "dataList = []\n",
    "message = \"Hi,'{name}' I am interested in the Python project and would like to discuss more about it. Please let me know when you are available to discuss it.\\n\\nThanks and Regards,\"\n",
    "findResultList = WebDriverWait(driver, 10).until(EC.presence_of_all_elements_located((By.XPATH, \"*//li[@class='reusable-search__result-container']\")))\n",
    "for result in findResultList:\n",
    "    result_html = result.get_attribute('outerHTML')\n",
    "    soup = BeautifulSoup(result_html, 'html.parser')\n",
    "    \n",
    "    Name = soup.find('div', {'class': 't-roman t-sans'}).find('a').find('span').find('span').text.split(\" \")\n",
    "    print(Name)\n",
    "    firstname = Name[0]\n",
    "    lastname = Name.pop()\n",
    "    profileLink = soup.find('div', {'class': 't-roman t-sans'}).find('a')['href']\n",
    "    UserTitle = soup.find('div', {'class': 'entity-result__primary-subtitle t-14 t-black t-normal'}).text.strip()\n",
    "    adress = soup.find('div', {'class': 'entity-result__secondary-subtitle t-14 t-normal'}).text.strip()\n",
    "    message= message.replace(\"{{name}}\", firstname)\n",
    "    # isconnected = await sendConnectionRequest(profileLink, message, driver)\n",
    "    dataDict = {'FirstName': firstname, 'LastName': lastname , 'profileLink': profileLink, 'UserTitle': UserTitle, 'adress': adress }\n",
    "    dataList.append(dataDict)\n",
    "        \n",
    "        # dataList.append({'Name': Name, 'profileLink': profileLink, 'UserTitle': UserTitle, 'adress': adress , 'message': message })\n",
    "    # except:\n",
    "    #     continue"
   ]
  },
  {
   "cell_type": "code",
   "execution_count": 71,
   "metadata": {},
   "outputs": [
    {
     "name": "stdout",
     "output_type": "stream",
     "text": [
      "[{'FirstName': 'Avnish', 'LastName': 'Kumar', 'profileLink': 'https://www.linkedin.com/in/avnishkumar8969?miniProfileUrn=urn%3Ali%3Afs_miniProfile%3AACoAACh9iD0BMbVjoAp8aIp7T5NraU0Pb6GtVD0', 'UserTitle': 'Python Developer at Tychons USA', 'adress': 'Bengaluru'}, {'FirstName': 'Keerthana', 'LastName': 'Buvaneshwaran', 'profileLink': 'https://www.linkedin.com/in/keerthana-buvaneshwaran?miniProfileUrn=urn%3Ali%3Afs_miniProfile%3AACoAADAB7wsBZ0gfX-EClpnq-6jlwTak0CYwBuk', 'UserTitle': 'Software Engineer | Python Developer', 'adress': 'Chennai'}, {'FirstName': 'Priyanka', 'LastName': 'Jain', 'profileLink': 'https://www.linkedin.com/in/jainpriyanka01?miniProfileUrn=urn%3Ali%3Afs_miniProfile%3AACoAABLot54BoZQsfogZXALzjfBZdrwGuWnkn2U', 'UserTitle': 'Automation Architect| Python | AWS | Ansible | Django | Flask | SQL | Grafana |', 'adress': 'Delhi, India'}, {'FirstName': 'Sahil', 'LastName': 'Pisavadiya', 'profileLink': 'https://www.linkedin.com/in/smpisavadiya?miniProfileUrn=urn%3Ali%3Afs_miniProfile%3AACoAACSP9xEB6YCBeOZBzWiG15t2D4slwhigt5w', 'UserTitle': 'Python Developer', 'adress': 'Rajkot'}, {'FirstName': 'Saurabh', 'LastName': 'Agrawal', 'profileLink': 'https://www.linkedin.com/in/saurabh-agrawal-ba55a5111?miniProfileUrn=urn%3Ali%3Afs_miniProfile%3AACoAABwHnm0Buyyyt69nWjE7JoXD1j09y2peHUI', 'UserTitle': 'Python Developer | Django | Flask | Data Science | AWS', 'adress': 'Indore'}, {'FirstName': 'Mitali', 'LastName': 'Mittal', 'profileLink': 'https://www.linkedin.com/in/mitalimittal1995?miniProfileUrn=urn%3Ali%3Afs_miniProfile%3AACoAAB9ztYUB8wR7Zy4aW5cB1xeSPMD1ZiXyk7Y', 'UserTitle': 'Automation Engineer @TCS | Python | Selenium | Protractor | Qftest', 'adress': 'India'}, {'FirstName': 'Ali', 'LastName': 'Zubair', 'profileLink': 'https://www.linkedin.com/in/ali-zubair-4639b9139?miniProfileUrn=urn%3Ali%3Afs_miniProfile%3AACoAACHJNksBHmKM9q6DmmyHNOwJM85ThOlfEQM', 'UserTitle': 'AI /ML | Module Lead | Data Engg | 7+ yrs | Ex-infosys | MLOps | PyTorch |NLP | GenAI | Pandas,Keras,Tensorflow | PySpark |AWS | Python | Kafka| Hive | SQL | DevOps | HDFS | Airflow | Azure', 'adress': 'Noida'}, {'FirstName': 'Dheeraj', 'LastName': 'yadav', 'profileLink': 'https://www.linkedin.com/in/dheeraj-yadav?miniProfileUrn=urn%3Ali%3Afs_miniProfile%3AACoAAB6yZw0B2aKX-pk-00wJrGVwVM_PGr7Hqlg', 'UserTitle': 'Data Engineer | ETL | Informatica BDM/DEI Certified | Python | Hive | AWS Redshift | AWS S3 | SQL | GIT', 'adress': 'Bengaluru'}, {'FirstName': 'Amar', 'LastName': 'kumar', 'profileLink': 'https://www.linkedin.com/in/amarkumargupta?miniProfileUrn=urn%3Ali%3Afs_miniProfile%3AACoAAAeLZKYBBiBTU30qcyM-gLLILbVmQrmztHc', 'UserTitle': 'Data Scientist | Python | Machine Learning | Deep Learning | NLP | Deep NLP', 'adress': 'Bengaluru'}, {'FirstName': 'Simran', 'LastName': 'Gupta', 'profileLink': 'https://www.linkedin.com/in/simran-gupta-0338a7155?miniProfileUrn=urn%3Ali%3Afs_miniProfile%3AACoAACVUSWcBTgo3JUirABZLUPhPBeDJOCHUykw', 'UserTitle': 'Python Developer | Automation Engineer', 'adress': 'Baghpat'}]\n"
     ]
    }
   ],
   "source": [
    "print(dataList)"
   ]
  },
  {
   "cell_type": "code",
   "execution_count": 72,
   "metadata": {},
   "outputs": [],
   "source": [
    "WebDriverWait(driver, 10).until(EC.presence_of_element_located((By.XPATH, \"//button[normalize-space()='Message']\"))).click()"
   ]
  },
  {
   "cell_type": "code",
   "execution_count": 78,
   "metadata": {},
   "outputs": [],
   "source": [
    "element =  WebDriverWait(driver, 10).until(EC.presence_of_element_located((By.XPATH, \"//div[@aria-label='Write a message…']\")))"
   ]
  },
  {
   "cell_type": "code",
   "execution_count": 82,
   "metadata": {},
   "outputs": [],
   "source": [
    "def slow_type(element, text):\n",
    "    \"\"\"Send a text to an input field with a delay between each character.\"\"\"\n",
    "    delay = 60.0 / (40 * 5)  # 5 characters per word\n",
    "    for character in text:\n",
    "        element.send_keys(character)\n",
    "        time.sleep(delay)"
   ]
  },
  {
   "cell_type": "code",
   "execution_count": 83,
   "metadata": {},
   "outputs": [
    {
     "ename": "KeyboardInterrupt",
     "evalue": "",
     "output_type": "error",
     "traceback": [
      "\u001b[1;31m---------------------------------------------------------------------------\u001b[0m",
      "\u001b[1;31mKeyboardInterrupt\u001b[0m                         Traceback (most recent call last)",
      "Cell \u001b[1;32mIn[83], line 1\u001b[0m\n\u001b[1;32m----> 1\u001b[0m \u001b[43mslow_type\u001b[49m\u001b[43m(\u001b[49m\u001b[43melement\u001b[49m\u001b[43m,\u001b[49m\u001b[43m \u001b[49m\u001b[43mmessage\u001b[49m\u001b[43m)\u001b[49m\n",
      "Cell \u001b[1;32mIn[82], line 5\u001b[0m, in \u001b[0;36mslow_type\u001b[1;34m(element, text)\u001b[0m\n\u001b[0;32m      3\u001b[0m delay \u001b[38;5;241m=\u001b[39m \u001b[38;5;241m60.0\u001b[39m \u001b[38;5;241m/\u001b[39m (\u001b[38;5;241m40\u001b[39m \u001b[38;5;241m*\u001b[39m \u001b[38;5;241m5\u001b[39m)  \u001b[38;5;66;03m# 5 characters per word\u001b[39;00m\n\u001b[0;32m      4\u001b[0m \u001b[38;5;28;01mfor\u001b[39;00m character \u001b[38;5;129;01min\u001b[39;00m text:\n\u001b[1;32m----> 5\u001b[0m     \u001b[43melement\u001b[49m\u001b[38;5;241;43m.\u001b[39;49m\u001b[43msend_keys\u001b[49m\u001b[43m(\u001b[49m\u001b[43mcharacter\u001b[49m\u001b[43m)\u001b[49m\n\u001b[0;32m      6\u001b[0m     time\u001b[38;5;241m.\u001b[39msleep(delay)\n",
      "File \u001b[1;32mc:\\Python311\\Lib\\site-packages\\selenium\\webdriver\\remote\\webelement.py:230\u001b[0m, in \u001b[0;36mWebElement.send_keys\u001b[1;34m(self, *value)\u001b[0m\n\u001b[0;32m    227\u001b[0m             remote_files\u001b[38;5;241m.\u001b[39mappend(\u001b[38;5;28mself\u001b[39m\u001b[38;5;241m.\u001b[39m_upload(file))\n\u001b[0;32m    228\u001b[0m         value \u001b[38;5;241m=\u001b[39m \u001b[38;5;124m\"\u001b[39m\u001b[38;5;130;01m\\n\u001b[39;00m\u001b[38;5;124m\"\u001b[39m\u001b[38;5;241m.\u001b[39mjoin(remote_files)\n\u001b[1;32m--> 230\u001b[0m \u001b[38;5;28;43mself\u001b[39;49m\u001b[38;5;241;43m.\u001b[39;49m\u001b[43m_execute\u001b[49m\u001b[43m(\u001b[49m\n\u001b[0;32m    231\u001b[0m \u001b[43m    \u001b[49m\u001b[43mCommand\u001b[49m\u001b[38;5;241;43m.\u001b[39;49m\u001b[43mSEND_KEYS_TO_ELEMENT\u001b[49m\u001b[43m,\u001b[49m\u001b[43m \u001b[49m\u001b[43m{\u001b[49m\u001b[38;5;124;43m\"\u001b[39;49m\u001b[38;5;124;43mtext\u001b[39;49m\u001b[38;5;124;43m\"\u001b[39;49m\u001b[43m:\u001b[49m\u001b[43m \u001b[49m\u001b[38;5;124;43m\"\u001b[39;49m\u001b[38;5;124;43m\"\u001b[39;49m\u001b[38;5;241;43m.\u001b[39;49m\u001b[43mjoin\u001b[49m\u001b[43m(\u001b[49m\u001b[43mkeys_to_typing\u001b[49m\u001b[43m(\u001b[49m\u001b[43mvalue\u001b[49m\u001b[43m)\u001b[49m\u001b[43m)\u001b[49m\u001b[43m,\u001b[49m\u001b[43m \u001b[49m\u001b[38;5;124;43m\"\u001b[39;49m\u001b[38;5;124;43mvalue\u001b[39;49m\u001b[38;5;124;43m\"\u001b[39;49m\u001b[43m:\u001b[49m\u001b[43m \u001b[49m\u001b[43mkeys_to_typing\u001b[49m\u001b[43m(\u001b[49m\u001b[43mvalue\u001b[49m\u001b[43m)\u001b[49m\u001b[43m}\u001b[49m\n\u001b[0;32m    232\u001b[0m \u001b[43m\u001b[49m\u001b[43m)\u001b[49m\n",
      "File \u001b[1;32mc:\\Python311\\Lib\\site-packages\\selenium\\webdriver\\remote\\webelement.py:394\u001b[0m, in \u001b[0;36mWebElement._execute\u001b[1;34m(self, command, params)\u001b[0m\n\u001b[0;32m    392\u001b[0m     params \u001b[38;5;241m=\u001b[39m {}\n\u001b[0;32m    393\u001b[0m params[\u001b[38;5;124m\"\u001b[39m\u001b[38;5;124mid\u001b[39m\u001b[38;5;124m\"\u001b[39m] \u001b[38;5;241m=\u001b[39m \u001b[38;5;28mself\u001b[39m\u001b[38;5;241m.\u001b[39m_id\n\u001b[1;32m--> 394\u001b[0m \u001b[38;5;28;01mreturn\u001b[39;00m \u001b[38;5;28;43mself\u001b[39;49m\u001b[38;5;241;43m.\u001b[39;49m\u001b[43m_parent\u001b[49m\u001b[38;5;241;43m.\u001b[39;49m\u001b[43mexecute\u001b[49m\u001b[43m(\u001b[49m\u001b[43mcommand\u001b[49m\u001b[43m,\u001b[49m\u001b[43m \u001b[49m\u001b[43mparams\u001b[49m\u001b[43m)\u001b[49m\n",
      "File \u001b[1;32mc:\\Python311\\Lib\\site-packages\\selenium\\webdriver\\remote\\webdriver.py:342\u001b[0m, in \u001b[0;36mWebDriver.execute\u001b[1;34m(self, driver_command, params)\u001b[0m\n\u001b[0;32m    339\u001b[0m     \u001b[38;5;28;01melif\u001b[39;00m \u001b[38;5;124m\"\u001b[39m\u001b[38;5;124msessionId\u001b[39m\u001b[38;5;124m\"\u001b[39m \u001b[38;5;129;01mnot\u001b[39;00m \u001b[38;5;129;01min\u001b[39;00m params:\n\u001b[0;32m    340\u001b[0m         params[\u001b[38;5;124m\"\u001b[39m\u001b[38;5;124msessionId\u001b[39m\u001b[38;5;124m\"\u001b[39m] \u001b[38;5;241m=\u001b[39m \u001b[38;5;28mself\u001b[39m\u001b[38;5;241m.\u001b[39msession_id\n\u001b[1;32m--> 342\u001b[0m response \u001b[38;5;241m=\u001b[39m \u001b[38;5;28;43mself\u001b[39;49m\u001b[38;5;241;43m.\u001b[39;49m\u001b[43mcommand_executor\u001b[49m\u001b[38;5;241;43m.\u001b[39;49m\u001b[43mexecute\u001b[49m\u001b[43m(\u001b[49m\u001b[43mdriver_command\u001b[49m\u001b[43m,\u001b[49m\u001b[43m \u001b[49m\u001b[43mparams\u001b[49m\u001b[43m)\u001b[49m\n\u001b[0;32m    343\u001b[0m \u001b[38;5;28;01mif\u001b[39;00m response:\n\u001b[0;32m    344\u001b[0m     \u001b[38;5;28mself\u001b[39m\u001b[38;5;241m.\u001b[39merror_handler\u001b[38;5;241m.\u001b[39mcheck_response(response)\n",
      "File \u001b[1;32mc:\\Python311\\Lib\\site-packages\\selenium\\webdriver\\remote\\remote_connection.py:297\u001b[0m, in \u001b[0;36mRemoteConnection.execute\u001b[1;34m(self, command, params)\u001b[0m\n\u001b[0;32m    295\u001b[0m data \u001b[38;5;241m=\u001b[39m utils\u001b[38;5;241m.\u001b[39mdump_json(params)\n\u001b[0;32m    296\u001b[0m url \u001b[38;5;241m=\u001b[39m \u001b[38;5;124mf\u001b[39m\u001b[38;5;124m\"\u001b[39m\u001b[38;5;132;01m{\u001b[39;00m\u001b[38;5;28mself\u001b[39m\u001b[38;5;241m.\u001b[39m_url\u001b[38;5;132;01m}\u001b[39;00m\u001b[38;5;132;01m{\u001b[39;00mpath\u001b[38;5;132;01m}\u001b[39;00m\u001b[38;5;124m\"\u001b[39m\n\u001b[1;32m--> 297\u001b[0m \u001b[38;5;28;01mreturn\u001b[39;00m \u001b[38;5;28;43mself\u001b[39;49m\u001b[38;5;241;43m.\u001b[39;49m\u001b[43m_request\u001b[49m\u001b[43m(\u001b[49m\u001b[43mcommand_info\u001b[49m\u001b[43m[\u001b[49m\u001b[38;5;241;43m0\u001b[39;49m\u001b[43m]\u001b[49m\u001b[43m,\u001b[49m\u001b[43m \u001b[49m\u001b[43murl\u001b[49m\u001b[43m,\u001b[49m\u001b[43m \u001b[49m\u001b[43mbody\u001b[49m\u001b[38;5;241;43m=\u001b[39;49m\u001b[43mdata\u001b[49m\u001b[43m)\u001b[49m\n",
      "File \u001b[1;32mc:\\Python311\\Lib\\site-packages\\selenium\\webdriver\\remote\\remote_connection.py:318\u001b[0m, in \u001b[0;36mRemoteConnection._request\u001b[1;34m(self, method, url, body)\u001b[0m\n\u001b[0;32m    315\u001b[0m     body \u001b[38;5;241m=\u001b[39m \u001b[38;5;28;01mNone\u001b[39;00m\n\u001b[0;32m    317\u001b[0m \u001b[38;5;28;01mif\u001b[39;00m \u001b[38;5;28mself\u001b[39m\u001b[38;5;241m.\u001b[39mkeep_alive:\n\u001b[1;32m--> 318\u001b[0m     response \u001b[38;5;241m=\u001b[39m \u001b[38;5;28;43mself\u001b[39;49m\u001b[38;5;241;43m.\u001b[39;49m\u001b[43m_conn\u001b[49m\u001b[38;5;241;43m.\u001b[39;49m\u001b[43mrequest\u001b[49m\u001b[43m(\u001b[49m\u001b[43mmethod\u001b[49m\u001b[43m,\u001b[49m\u001b[43m \u001b[49m\u001b[43murl\u001b[49m\u001b[43m,\u001b[49m\u001b[43m \u001b[49m\u001b[43mbody\u001b[49m\u001b[38;5;241;43m=\u001b[39;49m\u001b[43mbody\u001b[49m\u001b[43m,\u001b[49m\u001b[43m \u001b[49m\u001b[43mheaders\u001b[49m\u001b[38;5;241;43m=\u001b[39;49m\u001b[43mheaders\u001b[49m\u001b[43m)\u001b[49m\n\u001b[0;32m    319\u001b[0m     statuscode \u001b[38;5;241m=\u001b[39m response\u001b[38;5;241m.\u001b[39mstatus\n\u001b[0;32m    320\u001b[0m \u001b[38;5;28;01melse\u001b[39;00m:\n",
      "File \u001b[1;32mc:\\Python311\\Lib\\site-packages\\urllib3\\request.py:78\u001b[0m, in \u001b[0;36mRequestMethods.request\u001b[1;34m(self, method, url, fields, headers, **urlopen_kw)\u001b[0m\n\u001b[0;32m     74\u001b[0m     \u001b[38;5;28;01mreturn\u001b[39;00m \u001b[38;5;28mself\u001b[39m\u001b[38;5;241m.\u001b[39mrequest_encode_url(\n\u001b[0;32m     75\u001b[0m         method, url, fields\u001b[38;5;241m=\u001b[39mfields, headers\u001b[38;5;241m=\u001b[39mheaders, \u001b[38;5;241m*\u001b[39m\u001b[38;5;241m*\u001b[39murlopen_kw\n\u001b[0;32m     76\u001b[0m     )\n\u001b[0;32m     77\u001b[0m \u001b[38;5;28;01melse\u001b[39;00m:\n\u001b[1;32m---> 78\u001b[0m     \u001b[38;5;28;01mreturn\u001b[39;00m \u001b[38;5;28;43mself\u001b[39;49m\u001b[38;5;241;43m.\u001b[39;49m\u001b[43mrequest_encode_body\u001b[49m\u001b[43m(\u001b[49m\n\u001b[0;32m     79\u001b[0m \u001b[43m        \u001b[49m\u001b[43mmethod\u001b[49m\u001b[43m,\u001b[49m\u001b[43m \u001b[49m\u001b[43murl\u001b[49m\u001b[43m,\u001b[49m\u001b[43m \u001b[49m\u001b[43mfields\u001b[49m\u001b[38;5;241;43m=\u001b[39;49m\u001b[43mfields\u001b[49m\u001b[43m,\u001b[49m\u001b[43m \u001b[49m\u001b[43mheaders\u001b[49m\u001b[38;5;241;43m=\u001b[39;49m\u001b[43mheaders\u001b[49m\u001b[43m,\u001b[49m\u001b[43m \u001b[49m\u001b[38;5;241;43m*\u001b[39;49m\u001b[38;5;241;43m*\u001b[39;49m\u001b[43murlopen_kw\u001b[49m\n\u001b[0;32m     80\u001b[0m \u001b[43m    \u001b[49m\u001b[43m)\u001b[49m\n",
      "File \u001b[1;32mc:\\Python311\\Lib\\site-packages\\urllib3\\request.py:170\u001b[0m, in \u001b[0;36mRequestMethods.request_encode_body\u001b[1;34m(self, method, url, fields, headers, encode_multipart, multipart_boundary, **urlopen_kw)\u001b[0m\n\u001b[0;32m    167\u001b[0m extra_kw[\u001b[38;5;124m\"\u001b[39m\u001b[38;5;124mheaders\u001b[39m\u001b[38;5;124m\"\u001b[39m]\u001b[38;5;241m.\u001b[39mupdate(headers)\n\u001b[0;32m    168\u001b[0m extra_kw\u001b[38;5;241m.\u001b[39mupdate(urlopen_kw)\n\u001b[1;32m--> 170\u001b[0m \u001b[38;5;28;01mreturn\u001b[39;00m \u001b[38;5;28;43mself\u001b[39;49m\u001b[38;5;241;43m.\u001b[39;49m\u001b[43murlopen\u001b[49m\u001b[43m(\u001b[49m\u001b[43mmethod\u001b[49m\u001b[43m,\u001b[49m\u001b[43m \u001b[49m\u001b[43murl\u001b[49m\u001b[43m,\u001b[49m\u001b[43m \u001b[49m\u001b[38;5;241;43m*\u001b[39;49m\u001b[38;5;241;43m*\u001b[39;49m\u001b[43mextra_kw\u001b[49m\u001b[43m)\u001b[49m\n",
      "File \u001b[1;32mc:\\Python311\\Lib\\site-packages\\urllib3\\poolmanager.py:376\u001b[0m, in \u001b[0;36mPoolManager.urlopen\u001b[1;34m(self, method, url, redirect, **kw)\u001b[0m\n\u001b[0;32m    374\u001b[0m     response \u001b[38;5;241m=\u001b[39m conn\u001b[38;5;241m.\u001b[39murlopen(method, url, \u001b[38;5;241m*\u001b[39m\u001b[38;5;241m*\u001b[39mkw)\n\u001b[0;32m    375\u001b[0m \u001b[38;5;28;01melse\u001b[39;00m:\n\u001b[1;32m--> 376\u001b[0m     response \u001b[38;5;241m=\u001b[39m \u001b[43mconn\u001b[49m\u001b[38;5;241;43m.\u001b[39;49m\u001b[43murlopen\u001b[49m\u001b[43m(\u001b[49m\u001b[43mmethod\u001b[49m\u001b[43m,\u001b[49m\u001b[43m \u001b[49m\u001b[43mu\u001b[49m\u001b[38;5;241;43m.\u001b[39;49m\u001b[43mrequest_uri\u001b[49m\u001b[43m,\u001b[49m\u001b[43m \u001b[49m\u001b[38;5;241;43m*\u001b[39;49m\u001b[38;5;241;43m*\u001b[39;49m\u001b[43mkw\u001b[49m\u001b[43m)\u001b[49m\n\u001b[0;32m    378\u001b[0m redirect_location \u001b[38;5;241m=\u001b[39m redirect \u001b[38;5;129;01mand\u001b[39;00m response\u001b[38;5;241m.\u001b[39mget_redirect_location()\n\u001b[0;32m    379\u001b[0m \u001b[38;5;28;01mif\u001b[39;00m \u001b[38;5;129;01mnot\u001b[39;00m redirect_location:\n",
      "File \u001b[1;32mc:\\Python311\\Lib\\site-packages\\urllib3\\connectionpool.py:703\u001b[0m, in \u001b[0;36mHTTPConnectionPool.urlopen\u001b[1;34m(self, method, url, body, headers, retries, redirect, assert_same_host, timeout, pool_timeout, release_conn, chunked, body_pos, **response_kw)\u001b[0m\n\u001b[0;32m    700\u001b[0m     \u001b[38;5;28mself\u001b[39m\u001b[38;5;241m.\u001b[39m_prepare_proxy(conn)\n\u001b[0;32m    702\u001b[0m \u001b[38;5;66;03m# Make the request on the httplib connection object.\u001b[39;00m\n\u001b[1;32m--> 703\u001b[0m httplib_response \u001b[38;5;241m=\u001b[39m \u001b[38;5;28;43mself\u001b[39;49m\u001b[38;5;241;43m.\u001b[39;49m\u001b[43m_make_request\u001b[49m\u001b[43m(\u001b[49m\n\u001b[0;32m    704\u001b[0m \u001b[43m    \u001b[49m\u001b[43mconn\u001b[49m\u001b[43m,\u001b[49m\n\u001b[0;32m    705\u001b[0m \u001b[43m    \u001b[49m\u001b[43mmethod\u001b[49m\u001b[43m,\u001b[49m\n\u001b[0;32m    706\u001b[0m \u001b[43m    \u001b[49m\u001b[43murl\u001b[49m\u001b[43m,\u001b[49m\n\u001b[0;32m    707\u001b[0m \u001b[43m    \u001b[49m\u001b[43mtimeout\u001b[49m\u001b[38;5;241;43m=\u001b[39;49m\u001b[43mtimeout_obj\u001b[49m\u001b[43m,\u001b[49m\n\u001b[0;32m    708\u001b[0m \u001b[43m    \u001b[49m\u001b[43mbody\u001b[49m\u001b[38;5;241;43m=\u001b[39;49m\u001b[43mbody\u001b[49m\u001b[43m,\u001b[49m\n\u001b[0;32m    709\u001b[0m \u001b[43m    \u001b[49m\u001b[43mheaders\u001b[49m\u001b[38;5;241;43m=\u001b[39;49m\u001b[43mheaders\u001b[49m\u001b[43m,\u001b[49m\n\u001b[0;32m    710\u001b[0m \u001b[43m    \u001b[49m\u001b[43mchunked\u001b[49m\u001b[38;5;241;43m=\u001b[39;49m\u001b[43mchunked\u001b[49m\u001b[43m,\u001b[49m\n\u001b[0;32m    711\u001b[0m \u001b[43m\u001b[49m\u001b[43m)\u001b[49m\n\u001b[0;32m    713\u001b[0m \u001b[38;5;66;03m# If we're going to release the connection in ``finally:``, then\u001b[39;00m\n\u001b[0;32m    714\u001b[0m \u001b[38;5;66;03m# the response doesn't need to know about the connection. Otherwise\u001b[39;00m\n\u001b[0;32m    715\u001b[0m \u001b[38;5;66;03m# it will also try to release it and we'll have a double-release\u001b[39;00m\n\u001b[0;32m    716\u001b[0m \u001b[38;5;66;03m# mess.\u001b[39;00m\n\u001b[0;32m    717\u001b[0m response_conn \u001b[38;5;241m=\u001b[39m conn \u001b[38;5;28;01mif\u001b[39;00m \u001b[38;5;129;01mnot\u001b[39;00m release_conn \u001b[38;5;28;01melse\u001b[39;00m \u001b[38;5;28;01mNone\u001b[39;00m\n",
      "File \u001b[1;32mc:\\Python311\\Lib\\site-packages\\urllib3\\connectionpool.py:449\u001b[0m, in \u001b[0;36mHTTPConnectionPool._make_request\u001b[1;34m(self, conn, method, url, timeout, chunked, **httplib_request_kw)\u001b[0m\n\u001b[0;32m    444\u001b[0m             httplib_response \u001b[38;5;241m=\u001b[39m conn\u001b[38;5;241m.\u001b[39mgetresponse()\n\u001b[0;32m    445\u001b[0m         \u001b[38;5;28;01mexcept\u001b[39;00m \u001b[38;5;167;01mBaseException\u001b[39;00m \u001b[38;5;28;01mas\u001b[39;00m e:\n\u001b[0;32m    446\u001b[0m             \u001b[38;5;66;03m# Remove the TypeError from the exception chain in\u001b[39;00m\n\u001b[0;32m    447\u001b[0m             \u001b[38;5;66;03m# Python 3 (including for exceptions like SystemExit).\u001b[39;00m\n\u001b[0;32m    448\u001b[0m             \u001b[38;5;66;03m# Otherwise it looks like a bug in the code.\u001b[39;00m\n\u001b[1;32m--> 449\u001b[0m             \u001b[43msix\u001b[49m\u001b[38;5;241;43m.\u001b[39;49m\u001b[43mraise_from\u001b[49m\u001b[43m(\u001b[49m\u001b[43me\u001b[49m\u001b[43m,\u001b[49m\u001b[43m \u001b[49m\u001b[38;5;28;43;01mNone\u001b[39;49;00m\u001b[43m)\u001b[49m\n\u001b[0;32m    450\u001b[0m \u001b[38;5;28;01mexcept\u001b[39;00m (SocketTimeout, BaseSSLError, SocketError) \u001b[38;5;28;01mas\u001b[39;00m e:\n\u001b[0;32m    451\u001b[0m     \u001b[38;5;28mself\u001b[39m\u001b[38;5;241m.\u001b[39m_raise_timeout(err\u001b[38;5;241m=\u001b[39me, url\u001b[38;5;241m=\u001b[39murl, timeout_value\u001b[38;5;241m=\u001b[39mread_timeout)\n",
      "File \u001b[1;32m<string>:3\u001b[0m, in \u001b[0;36mraise_from\u001b[1;34m(value, from_value)\u001b[0m\n",
      "File \u001b[1;32mc:\\Python311\\Lib\\site-packages\\urllib3\\connectionpool.py:444\u001b[0m, in \u001b[0;36mHTTPConnectionPool._make_request\u001b[1;34m(self, conn, method, url, timeout, chunked, **httplib_request_kw)\u001b[0m\n\u001b[0;32m    441\u001b[0m \u001b[38;5;28;01mexcept\u001b[39;00m \u001b[38;5;167;01mTypeError\u001b[39;00m:\n\u001b[0;32m    442\u001b[0m     \u001b[38;5;66;03m# Python 3\u001b[39;00m\n\u001b[0;32m    443\u001b[0m     \u001b[38;5;28;01mtry\u001b[39;00m:\n\u001b[1;32m--> 444\u001b[0m         httplib_response \u001b[38;5;241m=\u001b[39m \u001b[43mconn\u001b[49m\u001b[38;5;241;43m.\u001b[39;49m\u001b[43mgetresponse\u001b[49m\u001b[43m(\u001b[49m\u001b[43m)\u001b[49m\n\u001b[0;32m    445\u001b[0m     \u001b[38;5;28;01mexcept\u001b[39;00m \u001b[38;5;167;01mBaseException\u001b[39;00m \u001b[38;5;28;01mas\u001b[39;00m e:\n\u001b[0;32m    446\u001b[0m         \u001b[38;5;66;03m# Remove the TypeError from the exception chain in\u001b[39;00m\n\u001b[0;32m    447\u001b[0m         \u001b[38;5;66;03m# Python 3 (including for exceptions like SystemExit).\u001b[39;00m\n\u001b[0;32m    448\u001b[0m         \u001b[38;5;66;03m# Otherwise it looks like a bug in the code.\u001b[39;00m\n\u001b[0;32m    449\u001b[0m         six\u001b[38;5;241m.\u001b[39mraise_from(e, \u001b[38;5;28;01mNone\u001b[39;00m)\n",
      "File \u001b[1;32mc:\\Python311\\Lib\\http\\client.py:1378\u001b[0m, in \u001b[0;36mHTTPConnection.getresponse\u001b[1;34m(self)\u001b[0m\n\u001b[0;32m   1376\u001b[0m \u001b[38;5;28;01mtry\u001b[39;00m:\n\u001b[0;32m   1377\u001b[0m     \u001b[38;5;28;01mtry\u001b[39;00m:\n\u001b[1;32m-> 1378\u001b[0m         \u001b[43mresponse\u001b[49m\u001b[38;5;241;43m.\u001b[39;49m\u001b[43mbegin\u001b[49m\u001b[43m(\u001b[49m\u001b[43m)\u001b[49m\n\u001b[0;32m   1379\u001b[0m     \u001b[38;5;28;01mexcept\u001b[39;00m \u001b[38;5;167;01mConnectionError\u001b[39;00m:\n\u001b[0;32m   1380\u001b[0m         \u001b[38;5;28mself\u001b[39m\u001b[38;5;241m.\u001b[39mclose()\n",
      "File \u001b[1;32mc:\\Python311\\Lib\\http\\client.py:318\u001b[0m, in \u001b[0;36mHTTPResponse.begin\u001b[1;34m(self)\u001b[0m\n\u001b[0;32m    316\u001b[0m \u001b[38;5;66;03m# read until we get a non-100 response\u001b[39;00m\n\u001b[0;32m    317\u001b[0m \u001b[38;5;28;01mwhile\u001b[39;00m \u001b[38;5;28;01mTrue\u001b[39;00m:\n\u001b[1;32m--> 318\u001b[0m     version, status, reason \u001b[38;5;241m=\u001b[39m \u001b[38;5;28;43mself\u001b[39;49m\u001b[38;5;241;43m.\u001b[39;49m\u001b[43m_read_status\u001b[49m\u001b[43m(\u001b[49m\u001b[43m)\u001b[49m\n\u001b[0;32m    319\u001b[0m     \u001b[38;5;28;01mif\u001b[39;00m status \u001b[38;5;241m!=\u001b[39m CONTINUE:\n\u001b[0;32m    320\u001b[0m         \u001b[38;5;28;01mbreak\u001b[39;00m\n",
      "File \u001b[1;32mc:\\Python311\\Lib\\http\\client.py:279\u001b[0m, in \u001b[0;36mHTTPResponse._read_status\u001b[1;34m(self)\u001b[0m\n\u001b[0;32m    278\u001b[0m \u001b[38;5;28;01mdef\u001b[39;00m \u001b[38;5;21m_read_status\u001b[39m(\u001b[38;5;28mself\u001b[39m):\n\u001b[1;32m--> 279\u001b[0m     line \u001b[38;5;241m=\u001b[39m \u001b[38;5;28mstr\u001b[39m(\u001b[38;5;28mself\u001b[39m\u001b[38;5;241m.\u001b[39mfp\u001b[38;5;241m.\u001b[39mreadline(_MAXLINE \u001b[38;5;241m+\u001b[39m \u001b[38;5;241m1\u001b[39m), \u001b[38;5;124m\"\u001b[39m\u001b[38;5;124miso-8859-1\u001b[39m\u001b[38;5;124m\"\u001b[39m)\n\u001b[0;32m    280\u001b[0m     \u001b[38;5;28;01mif\u001b[39;00m \u001b[38;5;28mlen\u001b[39m(line) \u001b[38;5;241m>\u001b[39m _MAXLINE:\n\u001b[0;32m    281\u001b[0m         \u001b[38;5;28;01mraise\u001b[39;00m LineTooLong(\u001b[38;5;124m\"\u001b[39m\u001b[38;5;124mstatus line\u001b[39m\u001b[38;5;124m\"\u001b[39m)\n",
      "File \u001b[1;32mc:\\Python311\\Lib\\socket.py:706\u001b[0m, in \u001b[0;36mSocketIO.readinto\u001b[1;34m(self, b)\u001b[0m\n\u001b[0;32m    704\u001b[0m \u001b[38;5;28;01mwhile\u001b[39;00m \u001b[38;5;28;01mTrue\u001b[39;00m:\n\u001b[0;32m    705\u001b[0m     \u001b[38;5;28;01mtry\u001b[39;00m:\n\u001b[1;32m--> 706\u001b[0m         \u001b[38;5;28;01mreturn\u001b[39;00m \u001b[38;5;28;43mself\u001b[39;49m\u001b[38;5;241;43m.\u001b[39;49m\u001b[43m_sock\u001b[49m\u001b[38;5;241;43m.\u001b[39;49m\u001b[43mrecv_into\u001b[49m\u001b[43m(\u001b[49m\u001b[43mb\u001b[49m\u001b[43m)\u001b[49m\n\u001b[0;32m    707\u001b[0m     \u001b[38;5;28;01mexcept\u001b[39;00m timeout:\n\u001b[0;32m    708\u001b[0m         \u001b[38;5;28mself\u001b[39m\u001b[38;5;241m.\u001b[39m_timeout_occurred \u001b[38;5;241m=\u001b[39m \u001b[38;5;28;01mTrue\u001b[39;00m\n",
      "\u001b[1;31mKeyboardInterrupt\u001b[0m: "
     ]
    }
   ],
   "source": [
    "slow_type(element, message)"
   ]
  },
  {
   "cell_type": "code",
   "execution_count": null,
   "metadata": {},
   "outputs": [],
   "source": []
  }
 ],
 "metadata": {
  "kernelspec": {
   "display_name": "Python 3",
   "language": "python",
   "name": "python3"
  },
  "language_info": {
   "codemirror_mode": {
    "name": "ipython",
    "version": 3
   },
   "file_extension": ".py",
   "mimetype": "text/x-python",
   "name": "python",
   "nbconvert_exporter": "python",
   "pygments_lexer": "ipython3",
   "version": "3.11.5"
  }
 },
 "nbformat": 4,
 "nbformat_minor": 2
}
