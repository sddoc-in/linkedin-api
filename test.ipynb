{
 "cells": [
  {
   "cell_type": "markdown",
   "metadata": {},
   "source": []
  },
  {
   "cell_type": "code",
   "execution_count": 10,
   "metadata": {},
   "outputs": [],
   "source": [
    "from seleniumwire import webdriver\n",
    "user =  'tszuwnnm'\n",
    "password ='g0q5bywh7j1l'\n",
    "ip = '38.154.227.167' \n",
    "port = '5868'\n"
   ]
  },
  {
   "cell_type": "code",
   "execution_count": 8,
   "metadata": {},
   "outputs": [],
   "source": [
    "driver.get('https://www.google.com')"
   ]
  },
  {
   "cell_type": "code",
   "execution_count": 11,
   "metadata": {},
   "outputs": [],
   "source": [
    "driver.get('https://whatismyipaddress.com')"
   ]
  },
  {
   "cell_type": "code",
   "execution_count": 37,
   "metadata": {},
   "outputs": [
    {
     "ename": "KeyboardInterrupt",
     "evalue": "",
     "output_type": "error",
     "traceback": [
      "\u001b[1;31m---------------------------------------------------------------------------\u001b[0m",
      "\u001b[1;31mKeyboardInterrupt\u001b[0m                         Traceback (most recent call last)",
      "Cell \u001b[1;32mIn[37], line 40\u001b[0m\n\u001b[0;32m     38\u001b[0m driver \u001b[38;5;241m=\u001b[39m webdriver\u001b[38;5;241m.\u001b[39mChrome(seleniumwire_options\u001b[38;5;241m=\u001b[39mproxy, chrome_options\u001b[38;5;241m=\u001b[39moptions)\n\u001b[0;32m     39\u001b[0m driver\u001b[38;5;241m.\u001b[39mget(\u001b[38;5;124m'\u001b[39m\u001b[38;5;124mhttps://www.whatismypublicip.com/\u001b[39m\u001b[38;5;124m'\u001b[39m)\n\u001b[1;32m---> 40\u001b[0m \u001b[43mtime\u001b[49m\u001b[38;5;241;43m.\u001b[39;49m\u001b[43msleep\u001b[49m\u001b[43m(\u001b[49m\u001b[38;5;241;43m5\u001b[39;49m\u001b[43m)\u001b[49m\n\u001b[0;32m     41\u001b[0m driver\u001b[38;5;241m.\u001b[39mquit()\n",
      "\u001b[1;31mKeyboardInterrupt\u001b[0m: "
     ]
    }
   ],
   "source": [
    "import time\n",
    "from seleniumwire import webdriver\n",
    "from selenium.webdriver.chrome.options import Options\n",
    "\n",
    "proxies = [\n",
    "    (\"38.154.227.167\", 5868, \"tszuwnnm\", \"g0q5bywh7j1l\"),\n",
    "    (\"185.199.229.156\", 7492, \"tszuwnnm\", \"g0q5bywh7j1l\"),\n",
    "    (\"185.199.228.220\", 7300, \"tszuwnnm\", \"g0q5bywh7j1l\"),\n",
    "    (\"185.199.231.45\", 8382, \"tszuwnnm\", \"g0q5bywh7j1l\"),\n",
    "    (\"188.74.210.207\", 6286, \"tszuwnnm\", \"g0q5bywh7j1l\"),\n",
    "    (\"188.74.183.10\", 8279, \"tszuwnnm\", \"g0q5bywh7j1l\"),\n",
    "    (\"188.74.210.21\", 6100, \"tszuwnnm\", \"g0q5bywh7j1l\"),\n",
    "    (\"45.155.68.129\", 8133, \"tszuwnnm\", \"g0q5bywh7j1l\"),\n",
    "    (\"154.95.36.199\", 6893, \"tszuwnnm\", \"g0q5bywh7j1l\"),\n",
    "    (\"45.94.47.66\", 8110, \"tszuwnnm\", \"g0q5bywh7j1l\")\n",
    "]\n",
    "\n",
    "for proxy_address, proxy_port, proxy_username, proxy_password in proxies:\n",
    "    proxy = {\n",
    "        'proxy': {\n",
    "            'https': f'https://{proxy_username}:{proxy_password}@{proxy_address}:{proxy_port}',\n",
    "        }\n",
    "    }\n",
    "    user_agent = \"Mozilla/5.0 (Windows NT 10.0; Win64; x64) AppleWebKit/537.36 (KHTML, like Gecko) Chrome/58.0.3029.110 Safari/537.3\"\n",
    "    options = Options()\n",
    "    #options.add_argument(\"--headless\")\n",
    "    options.add_argument(f'user-agent={user_agent}')\n",
    "    options.add_argument(\"--disable-gpu\")\n",
    "    options.add_argument(\"--no-sandbox\")\n",
    "    options.add_argument(\"--disable-dev-shm-usage\")\n",
    "    options.add_argument(\"--disable-extensions\")\n",
    "    options.add_argument(\"--disable-software-rasterizer\")\n",
    "    # Enable automation features to make the browser look more like a real user\n",
    "    options.add_experimental_option('excludeSwitches', ['enable-automation'])\n",
    "    options.add_experimental_option('useAutomationExtension', False)\n",
    "    options.add_argument(\"--disable-blink-features=AutomationControlled\")\n",
    "\n",
    "    driver = webdriver.Chrome(seleniumwire_options=proxy, chrome_options=options)\n",
    "    driver.get('https://www.whatismypublicip.com/')\n",
    "    time.sleep(5)\n",
    "    driver.quit()\n"
   ]
  },
  {
   "cell_type": "code",
   "execution_count": null,
   "metadata": {},
   "outputs": [],
   "source": []
  }
 ],
 "metadata": {
  "kernelspec": {
   "display_name": "Python 3",
   "language": "python",
   "name": "python3"
  },
  "language_info": {
   "codemirror_mode": {
    "name": "ipython",
    "version": 3
   },
   "file_extension": ".py",
   "mimetype": "text/x-python",
   "name": "python",
   "nbconvert_exporter": "python",
   "pygments_lexer": "ipython3",
   "version": "3.11.5"
  }
 },
 "nbformat": 4,
 "nbformat_minor": 2
}
