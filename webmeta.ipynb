{
 "cells": [
  {
   "cell_type": "code",
   "execution_count": 2,
   "metadata": {},
   "outputs": [
    {
     "data": {
      "text/plain": [
       "'CSRF check failed.'"
      ]
     },
     "execution_count": 2,
     "metadata": {},
     "output_type": "execute_result"
    }
   ],
   "source": [
    "import requests\n",
    "\n",
    "headers = {\n",
    "    'authority': 'www.linkedin.com',\n",
    "    'accept': 'application/vnd.linkedin.normalized+json+2.1',\n",
    "    'accept-language': 'en-GB,en-US;q=0.9,en;q=0.8,hi;q=0.7',\n",
    "    # 'cookie': 'bcookie=\"v=2&f2ea83d1-4c86-4fce-8fa5-1ec9a81eb04f\"; __ssid=c72d5351-66e1-4c2b-894b-0ef78f23d043; _ga=GA1.2.879371034.1658241219; li_sugr=ea4fbf4e-e7f4-44f8-9121-a51e4a64e94b; bscookie=\"v=1&2024012012021007dfd4c3-1c39-4e84-80db-2ee3cd33d7f4AQGFJeNC6TTbJsgzkHdQZjZsqtpfueCT\"; lang=v=2&lang=en-us; AMCVS_14215E3D5995C57C0A495C55%40AdobeOrg=1; li_at=AQEDAS8lyf4CdVAMAAABjeV3zkoAAAGOCYRSSlYAHb9Ww04R47anrgwhF9FKWRS5MCiHwzDAOqwAqsKjdmPlcgBl3HGqBBwVmcsr3cjwoF1VRrr1Kte6T67PTM5jwTFv6h39DeucrvTiC5E0x1ODLgaP; liap=true; JSESSIONID=\"ajax:5242634178652437279\"; timezone=Asia/Calcutta; li_theme=light; li_theme_set=app; _guid=07bd197c-0a98-4ab9-b2bb-8a3a7179aaf0; AnalyticsSyncHistory=AQLDDYkOgxn05gAAAY3ld-XOyCttwMpwUKfZo8k8bcNcad7knYuhwcicVI7aSs20BYkm9d1J0Ng6Dlf0DOzU8A; lms_ads=AQFNOrQAWS08uQAAAY3ld-fUOd4XJpSFKAj8g5RswCXCJkv1aARHToFtrkraj3FtUNNG5Xdwda53QG_K6vITOkyEkDlxKola; lms_analytics=AQFNOrQAWS08uQAAAY3ld-fUOd4XJpSFKAj8g5RswCXCJkv1aARHToFtrkraj3FtUNNG5Xdwda53QG_K6vITOkyEkDlxKola; dfpfpt=f620ecf7ea534effb6b206247d75bea9; aam_uuid=46101548178871610300376197722698816055; fptctx2=taBcrIH61PuCVH7eNCyH0CYjjbqLuI8XF8pleSQW5NaBrY4qPOh2Pm%252bzacC7whjYt2I3ca1K9xeherNlvPdU%252fAjiAnN2r3xWK6PY9PMZWW7kOD1w1iglKgBE%252bnkD9sTu6w71fCb8XUN5%252bXWXvKs1guSJj%252fga%252fj9MwcrF14lMElB1MvLeR2rJEQAkQQC0WdMCxVzSi8KyYODfDuItHX69xETol4zDYQCURT1gRPJ8x7%252bBds7i7A32dEuGDEN0PUMa6WjnqGzGJe1RbefVxnfheIjUhrHtbfbjoCO%252fB8w6UR84qwBvtuKsGkehWXbhGDZJANTJpzUqUTOG6le3HPMBVfqnuKlLhoo5d4TJWSlmzIY%253d; engageai-linkedin-feed-cta-0=<b>Welcome</b>++<b>Hello There!</b>--Discover Engage AI, one snippet at a time.<br>Give it a go:<br>1. Click the right arrow below<br>2. Or, minimize snippets for now; engageai-linkedin-feed-cta-1=<b>Getting Started</b>++<b>Where Do I Start?</b>--1. Choose any post<br>2. Click Comment<br>3. Choose a tone below the comment field<br>4. Edit draft comment<br>5. Hit post<br><br><center>Ready for the next step? Click the right arrow button.</center>; engageai-linkedin-feed-cta-2=<b>Customize Your AI</b>++<b>Customize Your AI</b>--Want to sound more empathetic? Logical? Neutral?<br>Some other tone unique to you?<br><br><center><a href=\"https://apps.engage-ai.co/CustomizeAI\" target=\"_blank\">Personalize</a></center>; engageai-linkedin-feed-cta-3=<b>Make Commenting a Nurturing Strategy</b>++<b>Whatâ€™s Next After Leaving a Comment?</b>--1 comment = Break the ice + Get noticed<br>Every comment after = Keeps you top of mind + builds rapport!<br>The best part? NO manual profile checks for recent posts.<br><br><center>Ready for the secret sauce? Click the right arrow button.</center>; engageai-linkedin-feed-cta-4=<b>Nurture a Prospect</b>++<b>Never Lose Sight of a Key Prospect</b>--Make every engagement opportunity count!<br>1. Go to your prospectâ€™s LinkedIn profile<br>2. Hover over <b>Add to List</b><br>3. Save to your chosen list<br><br><center>Ready for the next step? Click the right arrow button.</center>; engageai-linkedin-feed-cta-5=<b>Customize Prospect List</b>++<b>How To Customize My Prospect List</b>--1. Rename default list<br>2. Select day(s) and time Engage AI <b>checks for recent posts</b><br>3. Select day(s) and time Engage AI <b>notifies you about recent posts</b><br><br><center><a href=\"https://apps.engage-ai.co/NurtureProspects/lists\" target=\"_blank\">Personalize</a></center>; engageai-linkedin-feed-cta-6=<b>Nurture Prospects at Scale</b>++<b>Monitor Multiple Prospects</b>--Click <b>Import Leads</b> to upload as many key prospects into Engage AIâ€™s mini-CRM. <ul style=\"padding-left:1.2em\"><li>No more manual profile checks</li> <li>Never lose sight of engagement opportunities</li> <li>Keep track of engagement counts</li></ul><br><center><a href=\"https://apps.engage-ai.co/NurtureProspects\" target=\"_blank\">Import</a></center>; engageai-linkedin-feed-cta-7=<b>Increase Attention, Likes, and Replies</b>++<b>How Others Leverage Commenting</b>--Hear how others grab <b>attention, likes and replies</b> just from commenting alone.<br><br><center><a href=\"https://www.facebook.com/groups/engageai/permalink/1043986600288055/\" target=\"_blank\">Discover more</a></center>; engageai-linkedin-feed-cta-8=<b>Engage AI on Mobile</b>++<b>Use Engage AI on iOS and Android</b>--Are you often on the LinkedIn app?<br>Use Engage AI on the go and in between meetings.<br><br><center><a href=\"https://apps.apple.com/us/app/engage-ai-comments-on-social/id6446336897\" target=\"_blank\">iOS</a>   |   <a href=\"https://play.google.com/store/apps/details?id=com.filtpod.engageai&pli=1\" target=\"_blank\">Android</a></center>; engageai-linkedin-feed-cta-9=<b>Your Time-Limited Engage AI Discount</b>++<b>$23 Discount Code for Engage AI Pro Subscription</b>--Use code <b>BF23</b> at checkout: <ul style=\"padding-left:1.2em\"><li>Cut spending to just <b>$7 the 1st month</b></li><li>Upgrade, downgrade, or cancel any time</li><li>Unlock unlimited prospect monitoring and AI\\'s long-term memory</li></ul><br><center><a href=\"https://engage-ai.co/engage-ai-pro-subscription/\" target=\"_blank\">Claim now</a></center>; engageai-linkedin-feed-cta-10=<b>Grow Visibility as an Engage AI-vocate</b>++<b>Engage AI-vocate Effect: Stand Out on LinkedIn</b>--Engage AI reaches thousands on LinkedIn every day.<br>Tap on our reach as an Engage AI-vocate.<br><br><center><a href=\"https://docs.google.com/document/d/1HgeXM30_Kvp9xeKgLj1ITVi81pbSvSbfV0L-PCntLV0/edit#heading=h.6z9k6owmyieb\" target=\"_blank\">Discover more</a></center>; engageai-linkedin-feed-cta-11=<b>Engage AI: February 20 2024 Exclusives</b>--1. <b>Strategy</b>: Managing multiple LinkedIn accounts safely<br> 2. <b>Strategy</b>: 2 or more people using 1 LinkedIn account<br> 3. <b>Announcement</b>: Upcoming webinar: The art of relationship management on LinkedIn<br> 4. <b>Giveaway</b>: Stand a chance to win Engage AI Pro subscriptions!<br> <center><a href=https://sh1.sendinblue.com/3hu9czkw3glpfe.html?t=1708404677\" target=\"_blank\">Learn more</a></center>; current-cta=engageai-linkedin-feed-cta-0; lil-lang=en_US; AMCV_14215E3D5995C57C0A495C55%40AdobeOrg=-637568504%7CMCIDTS%7C19780%7CMCMID%7C45547229201738447490430000208587581948%7CMCAAMLH-1709565853%7C12%7CMCAAMB-1709565853%7CRKhpRz8krg2tLO6pguXWp5olkAcUniQYPHaMWWgdJ3xzPWQmdj0y%7CMCOPTOUT-1708968253s%7CNONE%7CvVersion%7C5.1.1%7CMCCIDH%7C-1375436562; sdsc=22%3A1%2C1708966463555%7EJAPP%2C0924DmHkHInIk0%2BqpusWMHVaY%2FLg%3D; _gcl_au=1.1.295001872.1708966464; UserMatchHistory=AQIAiYk7Bq4FNwAAAY3pKbGY4iSz3Cn16CqFUGHsnE6BVQSTl8kx9f6GSHklatrrl3CAZQ2iFqexrKN7dw5o19BGrcAoisl6g994mH3ySBjEB9BvXzzrrRUY7Ygsl9PpL2JovHFdsP1jGeWHfPkrVY27Lydl8Q4V2mW3aw06aa5wVPxm_01kZsT0cn0W-1WqX5LYdL98sViKBIE3VAcuY1PWqd73Vb37UbmS0r5f4MqfgwuLz6tu3OoWiMMevCiISBTvCl6ZjkkN_ZOk21XVt_P-admpc2AZucWnE0lSAgMBqqnEMY7fa52zM0pG3ZSJij3eulQ; lidc=\"b=OB94:s=O:r=O:a=O:p=O:g=2983:u=307:x=1:i=1709013843:t=1709076597:v=2:sig=AQGXwFDYsJ2Ptb4OnMUWwpupFOl5fELp\"',\n",
    "    'csrf-token': 'ajax:5242634178652437279',\n",
    "    'dnt': '1',\n",
    "    'referer': 'https://www.linkedin.com/notifications/?filter=all',\n",
    "    'sec-ch-ua': '\"Not A(Brand\";v=\"99\", \"Google Chrome\";v=\"121\", \"Chromium\";v=\"121\"',\n",
    "    'sec-ch-ua-mobile': '?0',\n",
    "    'sec-ch-ua-platform': '\"Windows\"',\n",
    "    'sec-fetch-dest': 'empty',\n",
    "    'sec-fetch-mode': 'cors',\n",
    "    'sec-fetch-site': 'same-origin',\n",
    "    'user-agent': 'Mozilla/5.0 (Windows NT 10.0; Win64; x64) AppleWebKit/537.36 (KHTML, like Gecko) Chrome/121.0.0.0 Safari/537.36',\n",
    "    'x-li-lang': 'en_US',\n",
    "    'x-li-page-instance': 'urn:li:page:d_flagship3_leia_post_summary;qFBeYSGORmW6frXFK1myyA==',\n",
    "    'x-li-pem-metadata': 'Voyager - Creator Analytics - Post Summary Analytics=analytics-view-display',\n",
    "    'x-li-track': '{\"clientVersion\":\"1.13.11248\",\"mpVersion\":\"1.13.11248\",\"osName\":\"web\",\"timezoneOffset\":5.5,\"timezone\":\"Asia/Calcutta\",\"deviceFormFactor\":\"DESKTOP\",\"mpName\":\"voyager-web\",\"displayDensity\":1.25,\"displayWidth\":1920,\"displayHeight\":1080}',\n",
    "    'x-restli-protocol-version': '2.0.0',\n",
    "}\n",
    "\n",
    "response = requests.get(\n",
    "    'https://www.linkedin.com/voyager/api/graphql?includeWebMetadata=true&variables=(analyticsEntityUrn:(activityUrn:urn%3Ali%3Aactivity%3A7142916184219279360),query:(),surfaceType:POST_SUMMARY)&queryId=voyagerPremiumDashAnalyticsView.c59af77401c44fb2f79dd289a870657e',\n",
    "    headers=headers,\n",
    ")\n",
    "response.text"
   ]
  }
 ],
 "metadata": {
  "kernelspec": {
   "display_name": "Python 3",
   "language": "python",
   "name": "python3"
  },
  "language_info": {
   "codemirror_mode": {
    "name": "ipython",
    "version": 3
   },
   "file_extension": ".py",
   "mimetype": "text/x-python",
   "name": "python",
   "nbconvert_exporter": "python",
   "pygments_lexer": "ipython3",
   "version": "3.11.7"
  }
 },
 "nbformat": 4,
 "nbformat_minor": 2
}
